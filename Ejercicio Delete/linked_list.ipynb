{
 "cells": [
  {
   "cell_type": "code",
   "execution_count": 1,
   "metadata": {},
   "outputs": [],
   "source": [
    "class Node:\n",
    "    \"\"\"\n",
    "    Implementation of a node\n",
    "    \"\"\"\n",
    "    def __init__(self, val=None):\n",
    "        self.val = val\n",
    "        self.next_node = None\n",
    "    \n",
    "    def set_next_node(self, next_node):\n",
    "        self.next_node = next_node\n",
    "        \n",
    "class Singly_linked_list:\n",
    "    \"\"\"\n",
    "    Implementation of a singly linked list\n",
    "    \"\"\"\n",
    "    def __init__(self, head_node=None):\n",
    "        self.head_node = head_node\n",
    "        \n",
    "    def list_traversed(self):\n",
    "        node = self.head_node\n",
    "        while node:\n",
    "            print(node.val)\n",
    "            node = node.next_node\n",
    "\n",
    "class Singly_linked_list(Singly_linked_list):\n",
    "    def insert_head(self, new_node):\n",
    "        # insert to the head\n",
    "        # A -> B -> null\n",
    "        # R -> A -> B -> null \n",
    "        new_node.set_next_node(self.head_node)\n",
    "        self.head_node = new_node\n",
    "        \n",
    "    def insert_tail(self, new_node):\n",
    "        # insert to the tail\n",
    "        # A -> B -> null\n",
    "        # A -> B -> R -> null \n",
    "        node = self.head_node\n",
    "        prev = None\n",
    "        while node:\n",
    "            prev = node\n",
    "            node = node.next_node\n",
    "        prev.set_next_node(new_node)\n",
    "        \n",
    "    def insert_middle(self, new_node, value):\n",
    "        # insert in the middle\n",
    "        # A -> B -> C -> null\n",
    "        # A -> B -> R -> C -> null\n",
    "        node = self.head_node\n",
    "        while node.val != value:\n",
    "            node = node.next_node\n",
    "        if node:\n",
    "            new_node.set_next_node(node.next_node)\n",
    "            node.set_next_node(new_node)\n",
    "        else:\n",
    "            self.insert_tail(new_node)\n",
    "    \n",
    "    def delete(self,value):\n",
    "        node_prev = None\n",
    "        node = self.head_node\n",
    "        node_next = None\n",
    "\n",
    "        while node.val != value:\n",
    "            node_prev = node\n",
    "            node = node.next_node\n",
    "            node_next = node.next_node\n",
    "        \n",
    "        node_prev.set_next_node(node_next)\n"
   ]
  },
  {
   "cell_type": "code",
   "execution_count": 6,
   "metadata": {},
   "outputs": [
    {
     "name": "stdout",
     "output_type": "stream",
     "text": [
      "Jan\n",
      "Feb\n",
      "March\n",
      " \n"
     ]
    },
    {
     "ename": "AttributeError",
     "evalue": "'NoneType' object has no attribute 'set_next_node'",
     "output_type": "error",
     "traceback": [
      "\u001b[1;31m---------------------------------------------------------------------------\u001b[0m",
      "\u001b[1;31mAttributeError\u001b[0m                            Traceback (most recent call last)",
      "\u001b[1;32md:\\Github\\cmp-3002-fall22-gona\\Ejercicio Delete\\linked_list.ipynb Cell 2\u001b[0m in \u001b[0;36m<cell line: 12>\u001b[1;34m()\u001b[0m\n\u001b[0;32m     <a href='vscode-notebook-cell:/d%3A/Github/cmp-3002-fall22-gona/Ejercicio%20Delete/linked_list.ipynb#W1sZmlsZQ%3D%3D?line=9'>10</a>\u001b[0m list1\u001b[39m.\u001b[39mlist_traversed()\n\u001b[0;32m     <a href='vscode-notebook-cell:/d%3A/Github/cmp-3002-fall22-gona/Ejercicio%20Delete/linked_list.ipynb#W1sZmlsZQ%3D%3D?line=10'>11</a>\u001b[0m \u001b[39mprint\u001b[39m(\u001b[39m\"\u001b[39m\u001b[39m \u001b[39m\u001b[39m\"\u001b[39m)\n\u001b[1;32m---> <a href='vscode-notebook-cell:/d%3A/Github/cmp-3002-fall22-gona/Ejercicio%20Delete/linked_list.ipynb#W1sZmlsZQ%3D%3D?line=11'>12</a>\u001b[0m list1\u001b[39m.\u001b[39;49mdelete(\u001b[39m\"\u001b[39;49m\u001b[39mJan\u001b[39;49m\u001b[39m\"\u001b[39;49m)\n\u001b[0;32m     <a href='vscode-notebook-cell:/d%3A/Github/cmp-3002-fall22-gona/Ejercicio%20Delete/linked_list.ipynb#W1sZmlsZQ%3D%3D?line=12'>13</a>\u001b[0m list1\u001b[39m.\u001b[39mlist_traversed()\n",
      "\u001b[1;32md:\\Github\\cmp-3002-fall22-gona\\Ejercicio Delete\\linked_list.ipynb Cell 2\u001b[0m in \u001b[0;36mSingly_linked_list.delete\u001b[1;34m(self, value)\u001b[0m\n\u001b[0;32m     <a href='vscode-notebook-cell:/d%3A/Github/cmp-3002-fall22-gona/Ejercicio%20Delete/linked_list.ipynb#W1sZmlsZQ%3D%3D?line=63'>64</a>\u001b[0m     node \u001b[39m=\u001b[39m node\u001b[39m.\u001b[39mnext_node\n\u001b[0;32m     <a href='vscode-notebook-cell:/d%3A/Github/cmp-3002-fall22-gona/Ejercicio%20Delete/linked_list.ipynb#W1sZmlsZQ%3D%3D?line=64'>65</a>\u001b[0m     node_next \u001b[39m=\u001b[39m node\u001b[39m.\u001b[39mnext_node\n\u001b[1;32m---> <a href='vscode-notebook-cell:/d%3A/Github/cmp-3002-fall22-gona/Ejercicio%20Delete/linked_list.ipynb#W1sZmlsZQ%3D%3D?line=66'>67</a>\u001b[0m node_prev\u001b[39m.\u001b[39;49mset_next_node(node_next)\n",
      "\u001b[1;31mAttributeError\u001b[0m: 'NoneType' object has no attribute 'set_next_node'"
     ]
    }
   ],
   "source": [
    "m1 = Node(\"Jan\")\n",
    "m2 = Node(\"Feb\")\n",
    "m3 = Node(\"March\")\n",
    "\n",
    "m1.set_next_node(m2)\n",
    "m2.set_next_node(m3)\n",
    "\n",
    "list1 = Singly_linked_list(m1)\n",
    "\n",
    "list1.list_traversed()\n",
    "print(\" \")\n",
    "list1.delete(\"Jan\")\n",
    "list1.list_traversed()"
   ]
  }
 ],
 "metadata": {
  "kernelspec": {
   "display_name": "Python 3.10.1 64-bit",
   "language": "python",
   "name": "python3"
  },
  "language_info": {
   "codemirror_mode": {
    "name": "ipython",
    "version": 3
   },
   "file_extension": ".py",
   "mimetype": "text/x-python",
   "name": "python",
   "nbconvert_exporter": "python",
   "pygments_lexer": "ipython3",
   "version": "3.10.1"
  },
  "orig_nbformat": 4,
  "vscode": {
   "interpreter": {
    "hash": "5726e28a2f93f624e13654f4187f1c65de1ba509691958bda5f0f5587a78bdd1"
   }
  }
 },
 "nbformat": 4,
 "nbformat_minor": 2
}
