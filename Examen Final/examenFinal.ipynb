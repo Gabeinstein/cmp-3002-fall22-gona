{
 "cells": [
  {
   "cell_type": "code",
   "execution_count": 1,
   "metadata": {},
   "outputs": [],
   "source": [
    "class TreeNode:\n",
    "    def __init__(self,val = None, child = []):\n",
    "        self.val = val\n",
    "        self.child = [] "
   ]
  },
  {
   "cell_type": "code",
   "execution_count": 44,
   "metadata": {},
   "outputs": [],
   "source": [
    "C = TreeNode('C',[])\n",
    "C.child.append(TreeNode('Users',[]))\n",
    "for i in range (15,25):\n",
    "    C.child[0].child.append(TreeNode('user'+ str(i),[]))\n",
    "    for j in range(3):\n",
    "        if (j == 0):\n",
    "            Documents = TreeNode('Documents',[])\n",
    "            C.child[0].child[i-15].child.append(Documents)\n",
    "            C.child[0].child[i-15].child[j].child.append('file1.pdf')\n",
    "            C.child[0].child[i-15].child[j].child.append('file2.pdf')\n",
    "            C.child[0].child[i-15].child[j].child.append('file3.pdf')\n",
    "        if (j == 1):\n",
    "            Pictures = TreeNode('Pictures',[])\n",
    "            C.child[0].child[i-15].child.append(Pictures)\n",
    "            C.child[0].child[i-15].child[j].child.append('file1.jpg')\n",
    "            C.child[0].child[i-15].child[j].child.append('file2.jpg')\n",
    "            C.child[0].child[i-15].child[j].child.append('file3.jpg')\n",
    "        if (j == 2):\n",
    "            Music = TreeNode('Music',[])\n",
    "            C.child[0].child[i-15].child.append(Music)\n",
    "            C.child[0].child[i-15].child[j].child.append('file1.mp3')\n",
    "            C.child[0].child[i-15].child[j].child.append('file2.mp3')\n",
    "            C.child[0].child[i-15].child[j].child.append('file3.mp3')\n"
   ]
  },
  {
   "cell_type": "code",
   "execution_count": 45,
   "metadata": {},
   "outputs": [],
   "source": [
    "def user_folder(user,folder):\n",
    "    node = None\n",
    "    for i in range (15,25):\n",
    "        if C.child[0].child[i-15].val == user:\n",
    "            node = C.child[0].child[i-15]\n",
    "            break\n",
    "    for i in range(3):\n",
    "        if node.child[i].val == folder:\n",
    "            node = node.child[i]\n",
    "            break\n",
    "    print(node.child)"
   ]
  },
  {
   "cell_type": "code",
   "execution_count": 49,
   "metadata": {},
   "outputs": [
    {
     "name": "stdout",
     "output_type": "stream",
     "text": [
      "['file1.jpg', 'file2.jpg', 'file3.jpg']\n"
     ]
    }
   ],
   "source": [
    "user_folder('user20','Pictures')\n"
   ]
  },
  {
   "cell_type": "code",
   "execution_count": 59,
   "metadata": {},
   "outputs": [],
   "source": [
    "class TreeNode:\n",
    "    def __init__(self,val = None, left = None, right = None):\n",
    "        self.val = val\n",
    "        self.left = left\n",
    "        self.right = right  "
   ]
  },
  {
   "cell_type": "code",
   "execution_count": 77,
   "metadata": {},
   "outputs": [
    {
     "name": "stdout",
     "output_type": "stream",
     "text": [
      "2\n",
      "2\n",
      "2\n",
      "2\n"
     ]
    },
    {
     "data": {
      "text/plain": [
       "True"
      ]
     },
     "execution_count": 77,
     "metadata": {},
     "output_type": "execute_result"
    }
   ],
   "source": [
    "def valid_BBT(root):\n",
    "    if not root:\n",
    "        return 0\n",
    "    if (not root.left) and (not root.right):\n",
    "        return 1\n",
    "    left = 0\n",
    "    right = 0\n",
    "    if root.left:\n",
    "        left = valid_BBT(root.left)+1\n",
    "    if root.right:\n",
    "        right = valid_BBT(root.right)+1\n",
    "    print (left)\n",
    "    print(right)\n",
    "    return abs(left - right) <= 1\n",
    "\n",
    "\n",
    "A = TreeNode(1)\n",
    "B = TreeNode(2)\n",
    "C = TreeNode(3)\n",
    "D = TreeNode(4)\n",
    "#E = TreeNode(5)\n",
    "F = TreeNode(6)\n",
    "\n",
    "D.left = B\n",
    "D.right = F\n",
    "B.left = A\n",
    "B.right = C\n",
    "#F.left = E\n",
    "\n",
    "valid_BBT(D)    \n",
    "    "
   ]
  },
  {
   "cell_type": "code",
   "execution_count": 7,
   "metadata": {},
   "outputs": [],
   "source": [
    "class Node:\n",
    "    def __init__(self, value, next_node = None):\n",
    "        self.value = value\n",
    "        self.next_node = next_node\n",
    "\n",
    "class Bucket():\n",
    "    def __init__(self):\n",
    "        self.head = Node(0)\n",
    "    def insert(self,value):\n",
    "        if not self.exists(value):\n",
    "            node = Node(value,self.head.next_node)\n",
    "            if self.head.next_node:\n",
    "                node.next_node= self.head.next_node\n",
    "            self.head.next_node = node\n",
    "\n",
    "    def delete(self, value):\n",
    "        prev = self.head\n",
    "        curr = self.head.next_node\n",
    "        while curr:\n",
    "            if curr.value == value:\n",
    "                prev.next_node = curr.next_node\n",
    "                return\n",
    "            prev = curr\n",
    "            curr = curr.next_node\n",
    "\n",
    "    def exists(self,value):\n",
    "        curr = self.head.next_node\n",
    "        while curr:\n",
    "            if curr.value == value:\n",
    "                return True\n",
    "            curr = curr.next_node\n",
    "        return False"
   ]
  },
  {
   "cell_type": "code",
   "execution_count": 13,
   "metadata": {},
   "outputs": [],
   "source": [
    "class HashSet(object):\n",
    "    def __init__(self):\n",
    "        self.keyRange = 987\n",
    "        self.bucketArray = [Bucket() for i in range(self.keyRange)]\n",
    "\n",
    "    def _hash(self,key):\n",
    "        return key + '%'\n",
    "\n",
    "    def add(self, key):\n",
    "        bucketIndex = self._hash(key)\n",
    "        self.bucketArray[bucketIndex].insert(key)\n",
    "\n",
    "    def remove(self, key):\n",
    "        bucketIndex = self._hash(key)\n",
    "        self.bucketArray[bucketIndex].delete(key)\n",
    "\n",
    "    def contains(self, key):\n",
    "        bucketIndex = self._hash(key)\n",
    "        return self.bucketArray[bucketIndex].exists(key)"
   ]
  },
  {
   "cell_type": "code",
   "execution_count": 20,
   "metadata": {},
   "outputs": [],
   "source": [
    "def both_words(A,B):\n",
    "    A_hashset = {'0'}\n",
    "    temp = ''\n",
    "    for i in range(len(A)):\n",
    "        temp += A[i]\n",
    "        if A[i] == ' ':\n",
    "            temp.replace(' ', '')\n",
    "            A_hashset.add(temp)\n",
    "            temp = ''\n",
    "        if i == len(A)-1:\n",
    "            temp.replace(' ', '')\n",
    "            A_hashset.add(temp)\n",
    "            temp = ''\n",
    "    B_hashset = {'-1'}\n",
    "    for i in range(len(B)):\n",
    "        temp += B[i]\n",
    "        if B[i] == ' ':\n",
    "            temp.replace(' ', '')\n",
    "            B_hashset.add(temp)\n",
    "            temp = ''\n",
    "        if i == len(B)-1:\n",
    "            temp.replace(' ', '')\n",
    "            B_hashset.add(temp)\n",
    "            temp = ''\n",
    "\n",
    "    return A_hashset.intersection(B_hashset)"
   ]
  },
  {
   "cell_type": "code",
   "execution_count": 21,
   "metadata": {},
   "outputs": [
    {
     "data": {
      "text/plain": [
       "{'Gabriel', 'soy '}"
      ]
     },
     "execution_count": 21,
     "metadata": {},
     "output_type": "execute_result"
    }
   ],
   "source": [
    "A = 'Hola soy Gabriel'\n",
    "B = 'Hoy soy Gabriel'\n",
    "\n",
    "both_words(A,B)"
   ]
  },
  {
   "cell_type": "code",
   "execution_count": 58,
   "metadata": {},
   "outputs": [
    {
     "data": {
      "text/plain": [
       "[(2, 8), (6, 0)]"
      ]
     },
     "execution_count": 58,
     "metadata": {},
     "output_type": "execute_result"
    }
   ],
   "source": [
    "def pairs_rec(A,x):\n",
    "    if not A:\n",
    "        return []\n",
    "    parejas = []\n",
    "    for i in range(len(A[1:])):\n",
    "        parejas.append((A[0],A[i+1]))\n",
    "    parejas += pairs_rec(A[1:],6)\n",
    "\n",
    "    parejas_validas = []\n",
    "    for i in range(len(parejas)):\n",
    "        if abs(parejas[i][0]-parejas[i][1]) == x:\n",
    "            parejas_validas.append(parejas[i])\n",
    "    return parejas_validas\n",
    "\n",
    "A = [9,2,6,8,0]\n",
    "pairs_rec(A,6)\n",
    "   "
   ]
  },
  {
   "cell_type": "code",
   "execution_count": 10,
   "metadata": {},
   "outputs": [],
   "source": [
    "def inversiones(capital, tiempo, ahorro, interes):\n",
    "    c_actual = capital\n",
    "    for i in range (1,tiempo+1):\n",
    "        c_actual = c_actual*(1+(interes/100))\n",
    "        print (c_actual)\n",
    "        c_actual += ahorro"
   ]
  },
  {
   "cell_type": "code",
   "execution_count": 16,
   "metadata": {},
   "outputs": [
    {
     "name": "stdout",
     "output_type": "stream",
     "text": [
      "525.0\n",
      "656.25\n",
      "794.0625\n",
      "938.765625\n",
      "1090.70390625\n",
      "1250.2391015625\n",
      "1417.7510566406252\n",
      "1593.6386094726565\n",
      "1778.3205399462895\n",
      "1972.236566943604\n"
     ]
    }
   ],
   "source": [
    "inversiones(500,10,100,5)"
   ]
  },
  {
   "attachments": {},
   "cell_type": "markdown",
   "metadata": {},
   "source": [
    "VBoxManage.exe modifyvm \"macOS Ventura\" --cpuidset 00000001 000106e5 00100800 0098e3fd bfebfbff\n",
    "VBoxManage setextradata \"macOS Ventura\" \"VBoxInternal/Devices/efi/0/Config/DmiSystemProduct\" \"iMac11,3\"\n",
    "VBoxManage setextradata \"macOS Ventura\" \"VBoxInternal/Devices/efi/0/Config/DmiSystemVersion\" \"1.0\"\n",
    "VBoxManage setextradata \"macOS Ventura\" \"VBoxInternal/Devices/efi/0/Config/DmiBoardProduct\" \"Iloveapple\"\n",
    "VBoxManage setextradata \"macOS Ventura\" \"VBoxInternal/Devices/smc/0/Config/DeviceKey\" \"ourhardworkbythesewordsguardedpleasedontsteal(c)AppleComputerInc\"\n",
    "VBoxManage setextradata \"macOS Ventura\" \"VBoxInternal/Devices/smc/0/Config/GetKeyFromRealSMC\" 1"
   ]
  }
 ],
 "metadata": {
  "kernelspec": {
   "display_name": "Python 3",
   "language": "python",
   "name": "python3"
  },
  "language_info": {
   "codemirror_mode": {
    "name": "ipython",
    "version": 3
   },
   "file_extension": ".py",
   "mimetype": "text/x-python",
   "name": "python",
   "nbconvert_exporter": "python",
   "pygments_lexer": "ipython3",
   "version": "3.11.1 (tags/v3.11.1:a7a450f, Dec  6 2022, 19:58:39) [MSC v.1934 64 bit (AMD64)]"
  },
  "orig_nbformat": 4,
  "vscode": {
   "interpreter": {
    "hash": "1846d430b8201b112909cb8db19a1c223cc490a219f14ab9ef77186224006934"
   }
  }
 },
 "nbformat": 4,
 "nbformat_minor": 2
}
