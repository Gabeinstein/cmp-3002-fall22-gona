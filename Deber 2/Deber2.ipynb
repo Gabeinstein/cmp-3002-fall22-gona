{
 "cells": [
  {
   "cell_type": "code",
   "execution_count": 1,
   "metadata": {},
   "outputs": [],
   "source": [
    "from time import time\n",
    "import pandas as pd\n",
    "import numpy as np\n",
    "import math\n",
    "import matplotlib.pyplot as plt\n",
    "import ctypes\n",
    "%matplotlib inline  "
   ]
  },
  {
   "cell_type": "markdown",
   "metadata": {},
   "source": [
    "# Homework 2"
   ]
  },
  {
   "cell_type": "markdown",
   "metadata": {},
   "source": [
    "### 1. Implement the class `Stacks` and all its methods using singly linked lists. Analyze the runtime and memory complexity, and compare with what we studied in class"
   ]
  },
  {
   "cell_type": "code",
   "execution_count": 8,
   "metadata": {},
   "outputs": [],
   "source": [
    "class Node:\n",
    "    \"\"\"\n",
    "    Implementation of a node\n",
    "    \"\"\"\n",
    "    def __init__(self, val=None):\n",
    "        self.val = val\n",
    "        self.next_node = None\n",
    "    \n",
    "    def set_next_node(self, next_node):\n",
    "        self.next_node = next_node\n",
    "        \n",
    "class Singly_linked_list:\n",
    "    \"\"\"\n",
    "    Implementation of a singly linked list\n",
    "    \"\"\"\n",
    "    def __init__(self, head_node=None):\n",
    "        \"\"\"\n",
    "        Head Node initialization\n",
    "        Preset: head_node = None\n",
    "        \"\"\"\n",
    "\n",
    "        self.head_node = head_node\n",
    "\n",
    "    def list_traversed(self):\n",
    "        \"\"\"\n",
    "        List Traversed\n",
    "        Print all the sigle linked list\n",
    "        \"\"\"\n",
    "        node = self.head_node\n",
    "        while node:\n",
    "            print(node.val)\n",
    "            node = node.next_node\n",
    "    \n",
    "    def insert_head(self, new_node):\n",
    "        \"\"\"\n",
    "        Insert Head\n",
    "        Inserts a node in the first place of the list\n",
    "        \"\"\"\n",
    "        # insert to the head\n",
    "        # A -> B -> null\n",
    "        # R -> A -> B -> null \n",
    "        new_node.set_next_node(self.head_node)\n",
    "        self.head_node = new_node\n",
    "        \n",
    "    def insert_tail(self, new_node):\n",
    "        \"\"\"\n",
    "        Insert Tail\n",
    "        Inserts a node at the end of the list where the node.next_node = None.\n",
    "        \"\"\"\n",
    "        # insert to the tail\n",
    "        # A -> B -> null\n",
    "        # A -> B -> R -> null \n",
    "        node = self.head_node\n",
    "        prev = self.head_node\n",
    "        while node:\n",
    "            prev = node\n",
    "            node = node.next_node\n",
    "        prev.set_next_node(new_node)\n",
    "        \n",
    "    def insert_middle(self, new_node, value):\n",
    "        \"\"\"\n",
    "        Insert Middle\n",
    "        Inserts a node at next node of a specific value at the list.\n",
    "        If not found -> insert_tail()\n",
    "        \"\"\"\n",
    "        # insert in the middle\n",
    "        # A -> B -> C -> null\n",
    "        # A -> B -> R -> C -> null\n",
    "        node = self.head_node\n",
    "        #Changed case not val found\n",
    "        while node:\n",
    "            if node.val == value :  #Prevents None has no attribute 'val'\n",
    "                break\n",
    "            node = node.next_node\n",
    "        if node:\n",
    "            new_node.set_next_node(node.next_node)\n",
    "            node.set_next_node(new_node)\n",
    "        else:\n",
    "            self.insert_tail(new_node)\n",
    "\n",
    "    def delete_head(self):\n",
    "        \"\"\"\n",
    "        Delete head\n",
    "        Deletes first node of the list.\n",
    "        If None -> pass\n",
    "        \"\"\"\n",
    "        #delete value\n",
    "        # A -> B -> C -> None\n",
    "        # B -> C -> None\n",
    "        node = self.head_node\n",
    "        self.head_node = node.next_node\n",
    "        node.next_node = None\n",
    "\n",
    "    def delete_tail(self):\n",
    "        \"\"\"\n",
    "        Delete tail\n",
    "        Deletes last node of the list.\n",
    "        \"\"\"\n",
    "        #delete value\n",
    "        # A -> B -> C -> None\n",
    "        # A -> B -> None\n",
    "        node = self.head_node\n",
    "        prev = self.head_node\n",
    "        while node.next_node:\n",
    "            prev = node\n",
    "            node = node.next_node\n",
    "        prev.set_next_node(None)\n",
    "\n",
    "\n",
    "    def delete(self,value):\n",
    "        \"\"\"\n",
    "        Delete\n",
    "        Deletes a node at a specific value of the list.\n",
    "        If not found -> pass\n",
    "        If firts -> Changes the head node\n",
    "        \"\"\"\n",
    "        #delete value\n",
    "        # A -> B -> C -> None\n",
    "        # A -> C -> None\n",
    "        node = self.head_node\n",
    "        prev = None\n",
    "        while node:\n",
    "            if node.val == value :\n",
    "                break\n",
    "            prev = node\n",
    "            node = node.next_node\n",
    "        if node:\n",
    "            if not prev:    #Prevent head node error. None has no attribute 'set_next_node'\n",
    "                self.head_node = node.next_node\n",
    "                node.next_node = None\n",
    "            else:\n",
    "                prev.set_next_node(node.next_node)\n",
    "                node.next_node = None\n"
   ]
  },
  {
   "cell_type": "code",
   "execution_count": 9,
   "metadata": {},
   "outputs": [],
   "source": [
    "class Stack:\n",
    "    \"\"\"\n",
    "    Implementation of the stack data structure using single linked list\n",
    "    \"\"\"\n",
    "    def __init__(self, n):\n",
    "        \"\"\"\n",
    "        Initialization of Stack\n",
    "        Input: Size of Stack\n",
    "        \"\"\"\n",
    "        self.stack = Singly_linked_list(Node(None))\n",
    "        self.n = n      \n",
    "        self.l = 0\n",
    "    \n",
    "    def push(self, item):\n",
    "        \"\"\"\n",
    "        Push\n",
    "        Adds data to the top of the Stack.\n",
    "        Input: Item \n",
    "        \"\"\"\n",
    "        if self.l != self.n :\n",
    "            self.stack.insert_head(Node(item))\n",
    "            self.l += 1\n",
    "        else:\n",
    "            raise ValueError(\"No more capacity\")\n",
    "\n",
    "    def pop(self):\n",
    "        \"\"\"\n",
    "        Pop\n",
    "        Deletes the top of the Stack\n",
    "        \"\"\"\n",
    "        if self.l > 0:\n",
    "            temp = self.stack.head_node.val\n",
    "            self.stack.delete_head()\n",
    "            self.l -= 1   \n",
    "            return temp \n",
    "\n",
    "    def top(self):\n",
    "        \"\"\"\n",
    "        Top\n",
    "        Returns the top of the Stack\n",
    "        \"\"\"\n",
    "        return self.stack.head_node.val\n",
    "\n",
    "    def full(self):\n",
    "        \"\"\"\n",
    "        Full\n",
    "        Returns if the Stack is full. return self.l == self.n\n",
    "        \"\"\"\n",
    "        return self.l == self.n\n",
    "    \n",
    "    def empty(self):\n",
    "        \"\"\"\n",
    "        Empty\n",
    "        Returns if the Stack is empty. If self.l == 0, return true\n",
    "        \"\"\"\n",
    "        return self.l == 0\n",
    "    \n",
    "    def size(self):\n",
    "        \"\"\"\n",
    "        Size\n",
    "        Returns the size of the Stack. return self.l\n",
    "        \"\"\"\n",
    "        return self.l"
   ]
  },
  {
   "cell_type": "code",
   "execution_count": 4,
   "metadata": {},
   "outputs": [],
   "source": [
    "S = Stack(10)\n",
    "\n",
    "S.push(1)\n",
    "S.push(2)\n",
    "S.push(4)\n",
    "S.push(-1)"
   ]
  },
  {
   "cell_type": "code",
   "execution_count": 5,
   "metadata": {},
   "outputs": [
    {
     "data": {
      "text/plain": [
       "-1"
      ]
     },
     "execution_count": 5,
     "metadata": {},
     "output_type": "execute_result"
    }
   ],
   "source": [
    "S.top()"
   ]
  },
  {
   "cell_type": "code",
   "execution_count": 6,
   "metadata": {},
   "outputs": [
    {
     "data": {
      "text/plain": [
       "4"
      ]
     },
     "execution_count": 6,
     "metadata": {},
     "output_type": "execute_result"
    }
   ],
   "source": [
    "S.size()"
   ]
  },
  {
   "cell_type": "code",
   "execution_count": 7,
   "metadata": {},
   "outputs": [
    {
     "data": {
      "text/plain": [
       "-1"
      ]
     },
     "execution_count": 7,
     "metadata": {},
     "output_type": "execute_result"
    }
   ],
   "source": [
    "S.pop()"
   ]
  },
  {
   "cell_type": "code",
   "execution_count": 8,
   "metadata": {},
   "outputs": [
    {
     "data": {
      "text/plain": [
       "False"
      ]
     },
     "execution_count": 8,
     "metadata": {},
     "output_type": "execute_result"
    }
   ],
   "source": [
    "S.full()"
   ]
  },
  {
   "cell_type": "code",
   "execution_count": 9,
   "metadata": {},
   "outputs": [
    {
     "data": {
      "text/plain": [
       "False"
      ]
     },
     "execution_count": 9,
     "metadata": {},
     "output_type": "execute_result"
    }
   ],
   "source": [
    "S.empty()"
   ]
  },
  {
   "cell_type": "markdown",
   "metadata": {},
   "source": [
    "La complejidad de la clase stack se analiza a continuación:\n",
    "* Push: \n",
    "    * Tiene complejidad en runtime $O(1)$ porque el método insert_head() de la clase singly linked list tiene una complejidad constante sin ningun lazo.\n",
    "    * Tiene complejidad en memoria $O(1)$ porque usa valor constante en memoria y no por aumentar el tamaño del stack, la memoria aumenta.\n",
    "* Pop: \n",
    "    * $O(1)$ porque el método delete_head() de la clase single \n",
    "    linked list tiene una complejidad constante sin ningun lazo.\n",
    "    * Tiene complejidad en memoria $O(1)$ porque delete_head usa valor constante en memoria y no por aumentar el tamaño del stack, la memoria aumenta.\n",
    "* Top:\n",
    "    * $O(1)$ porque solo imprime el valor del primer nodo de la lista y eso no depende del tamaño de la misma. Complejidad constante.\n",
    "    * Tiene complejidad en memoria $O(1)$ porque la funcion solo lee una variable y no por aumentar el tamaño del stack, la memoria aumenta.\n",
    "* Full: \n",
    "    * $O(1)$ porque solo compara si self.l == self.n para que el stack esté lleno.\n",
    "    * Tiene complejidad en memoria $O(1)$ porque la funcion solo lee y compara dos variable y no por aumentar el tamaño del stack, la memoria aumenta.\n",
    "* Empty: \n",
    "    * $O(1)$ porque solo compara si self.l = 0\n",
    "    * Tiene complejidad en memoria $O(1)$ porque la funcion solo lee y compara dos variable y no por aumentar el tamaño del stack, la memoria aumenta.\n",
    "* Size: \n",
    "    * $O(1)$ porque solo imprime el valor de self.l\n",
    "    * Tiene complejidad en memoria $O(1)$ porque la funcion solo retorna una variable y no por aumentar el tamaño del stack, la memoria aumenta.\n",
    "\n",
    "Comparado con la implementación realizada en clase, se puede notar que usar singly_linked_list es igual de eficiente que al usar arreglos. Ya que en todos los casos la complejidad de las funciones de stack es $O(1)$"
   ]
  },
  {
   "cell_type": "markdown",
   "metadata": {},
   "source": [
    "### 2. Write a method part of the linked list class that will reverse the linked list. Your implementation should visit each node in the list only one time, and should use $O(1)$ of extra memory.\n",
    "\n",
    "\n",
    "> For example, if the list is:\n",
    "\n",
    "> A -> B -> C -> D -> null\n",
    "\n",
    "> The method must return:\n",
    "\n",
    "> D -> C -> B -> A -> null\n"
   ]
  },
  {
   "cell_type": "code",
   "execution_count": 10,
   "metadata": {},
   "outputs": [],
   "source": [
    "class Singly_linked_list(Singly_linked_list):\n",
    "    def reverse(self):\n",
    "        \"\"\"\n",
    "        Reverse\n",
    "        Function that changes the way of the linked list starting from the bottom and ending at the start. \n",
    "        A -> B -> C -> None\n",
    "        reverse() = C -> B -> A -> None\n",
    "        \"\"\"\n",
    "        prev = self.head_node\n",
    "        node =self.head_node.next_node\n",
    "        prev.set_next_node(None)\n",
    "        ref_next_node = None\n",
    "        while node:\n",
    "            ref_next_node = node.next_node\n",
    "            node.set_next_node(prev)\n",
    "            prev = node\n",
    "            node = ref_next_node\n",
    "        self.head_node = prev\n",
    "        "
   ]
  },
  {
   "cell_type": "code",
   "execution_count": 11,
   "metadata": {},
   "outputs": [
    {
     "name": "stdout",
     "output_type": "stream",
     "text": [
      "A\n",
      "B\n",
      "C\n",
      "D\n",
      "\n",
      "D\n",
      "C\n",
      "B\n",
      "A\n"
     ]
    }
   ],
   "source": [
    "N1 = Node(\"A\")\n",
    "N2 = Node(\"B\")\n",
    "N3 = Node(\"C\")\n",
    "N4 = Node(\"D\")\n",
    "N1.set_next_node(N2)\n",
    "N2.set_next_node(N3)\n",
    "N3.set_next_node(N4)\n",
    "\n",
    "L1 = Singly_linked_list(N1)\n",
    "\n",
    "L1.list_traversed()\n",
    "print(\"\")\n",
    "L1.reverse()\n",
    "L1.list_traversed()\n"
   ]
  },
  {
   "cell_type": "markdown",
   "metadata": {},
   "source": [
    "### 3. Implement the class Queue using stacks. \n",
    "\n",
    "> a. Analyze the runtime and memory complexity, and compare with what we implemented in class.\n",
    "\n",
    "> b. Implement a few test cases that would allow you to measure the difference in runtime of the `dequeue` method. (Hint: what is the worst case, so that dequeue of the stack implementation is greater than the implementation we did in class?)"
   ]
  },
  {
   "cell_type": "code",
   "execution_count": 2,
   "metadata": {},
   "outputs": [],
   "source": [
    "class Queue():\n",
    "    def __init__(self,n):\n",
    "        \"\"\"\n",
    "        Initialization:\n",
    "        Input: n\n",
    "        Creates 2 stacks for enqueue and dequeue. \n",
    "        self.l = 0\n",
    "        self.n = n\n",
    "        \"\"\"\n",
    "        self.l = 0\n",
    "        self.n = n\n",
    "        self.enqueue_stk = Stack(n)\n",
    "        self.dequeue_stk = Stack(n)\n",
    "\n",
    "    def enqueue(self,item):\n",
    "        \"\"\"\n",
    "        Enqueue(item)\n",
    "        Input: Item\n",
    "        Push in the enqueue stack the new item and checks\n",
    "        the capacity.        \n",
    "        \"\"\"\n",
    "        if self.l == self.n:\n",
    "            raise ValueError(\"No more capacity\")\n",
    "        self.enqueue_stk.push(item)\n",
    "        self.l += 1\n",
    "\n",
    "    def dequeue(self): \n",
    "        \"\"\"\n",
    "        Dequeue()\n",
    "        Input: \n",
    "        Output: First item added.\n",
    "        Pops the first item added from the dequeue stack. If this\n",
    "        stack is empty, transfer all data from enqueue stack to \n",
    "        dequeue stack and pops.       \n",
    "        \"\"\"\n",
    "        if self.dequeue_stk.empty() and self.l > 0:\n",
    "            while not self.enqueue_stk.empty():\n",
    "                self.dequeue_stk.push(self.enqueue_stk.pop())\n",
    "            self.l -= 1\n",
    "            return self.dequeue_stk.pop()\n",
    "        elif self.l > 0:\n",
    "            self.l -= 1\n",
    "            return self.dequeue_stk.pop()\n",
    "\n",
    "    def first(self):\n",
    "        \"\"\"\n",
    "        First\n",
    "        Input:\n",
    "        Output: First item added\n",
    "        Check if the first item added is in the dequeue or enqueue\n",
    "        stack and returns it with top()\n",
    "        \"\"\"\n",
    "        if self.dequeue_stk.empty():\n",
    "            return self.enqueue_stk.top()\n",
    "        else:\n",
    "            return self.dequeue_stk.top()\n",
    "    \n",
    "    def full(self):\n",
    "        \"\"\"\n",
    "        Full\n",
    "        Returns if the Stack is full. return self.l == self.n\n",
    "        \"\"\"\n",
    "        return self.l == self.n\n",
    "    \n",
    "    def empty(self):\n",
    "        \"\"\"\n",
    "        Empty\n",
    "        Returns if the Stack is empty. If self.l == 0, return true\n",
    "        \"\"\"\n",
    "        return self.l == 0\n",
    "    \n",
    "    def size(self):\n",
    "        \"\"\"\n",
    "        Size\n",
    "        Returns the size of the Stack. return self.l\n",
    "        \"\"\"\n",
    "        return self.l"
   ]
  },
  {
   "cell_type": "code",
   "execution_count": 13,
   "metadata": {},
   "outputs": [],
   "source": [
    "q = Queue(10)\n",
    "q.enqueue(1)\n",
    "q.enqueue(2)\n",
    "q.enqueue(3)"
   ]
  },
  {
   "cell_type": "code",
   "execution_count": 14,
   "metadata": {},
   "outputs": [
    {
     "data": {
      "text/plain": [
       "1"
      ]
     },
     "execution_count": 14,
     "metadata": {},
     "output_type": "execute_result"
    }
   ],
   "source": [
    "q.dequeue()\n"
   ]
  },
  {
   "cell_type": "markdown",
   "metadata": {},
   "source": [
    "La complejidad de la clase Queue se analiza a continuación:\n",
    "* Enqueue: \n",
    "    * Tiene complejidad en runtime $O(1)$ porque el método push() de la clase stack tiene complejidad $O(1)$.\n",
    "    * Tiene complejidad en memoria $O(1)$ porque usa valor constante en memoria igual a los $n$ datos admitidos, más variables adicionales. La memoria no aumenta durante la ejecución.\n",
    "* Dequeue: \n",
    "    * $O(1)$ cuando el stack de dequeue no está vacío. En el caso de que esté vacío, el método dequeue pasa todos los datos del stack enqueue hacia dequeue lo cual tiene una complejidad $O(n)$. La complejidad del dequeue está amortizada.\n",
    "    * Tiene complejidad en memoria $O(1)$ porque al ingresar nuevos datos con enqueue, la memoria utilizada no aumenta. \n",
    "* First:\n",
    "    * $O(1)$ porque solo imprime el valor top() de enqueue o dequeue según el caso en el que estemos. Este método tiene complejidad constante.\n",
    "    * Tiene complejidad en memoria $O(1)$ porque la funcion solo lee una variable y no por aumentar el tamaño del queue, la memoria aumenta.\n",
    "* Full: \n",
    "    * $O(1)$ porque solo compara si self.l == self.n para que la queue esté lleno.\n",
    "    * Tiene complejidad en memoria $O(1)$ porque la funcion solo lee y compara dos variable y no por aumentar el tamaño de la queue, la memoria aumenta.\n",
    "* Empty: \n",
    "    * $O(1)$ porque solo compara si self.l = 0\n",
    "    * Tiene complejidad en memoria $O(1)$ porque la funcion solo lee y compara dos variable y no por aumentar el tamaño de la queue, la memoria aumenta.\n",
    "* Size: \n",
    "    * $O(1)$ porque solo imprime el valor de self.l\n",
    "    * Tiene complejidad en memoria $O(1)$ porque la funcion solo retorna una variable y no por aumentar el tamaño de la queue, la memoria aumenta.\n",
    "\n",
    "Comparando con la implementación de Queue hecha en clase, se puede identificar cambios en el método Dequeue ya que para el caso realizado en clase, este método siempre tiene complejidad $O(n)$. Mientras que en esta segunda implementación, la mayor parte del tiempo, el método dequeue tiene complejidad $O(1)$ y solo en ciertos casos (cuando el stack dequeue esté vació) la complejidad es $O(1)$"
   ]
  },
  {
   "cell_type": "markdown",
   "metadata": {},
   "source": [
    "* B)"
   ]
  },
  {
   "cell_type": "markdown",
   "metadata": {},
   "source": [
    "Implementación Queue realizada en clase:"
   ]
  },
  {
   "cell_type": "markdown",
   "metadata": {},
   "source": [
    "Se tomó un cambio en el decorador para calcular el tiempo ya que si se quería realizar el experimento, no se puede incluir el sleep(1) ya que tardaría mucho en evaluar. Por esta razón, se usa la función sin el retardo de 1s con el coste de que los primeros valores sean 0 por alguna razón interna del procesador INTEL utilizado. "
   ]
  },
  {
   "cell_type": "code",
   "execution_count": 46,
   "metadata": {},
   "outputs": [],
   "source": [
    "#Decorador para calcular el tiempo de ejecucion de una funcion\n",
    "\n",
    "from time import sleep\n",
    "\n",
    "def calculo_tiempo(funcion):\n",
    "    \"\"\"\n",
    "        En este decorador se crea un arreglo de dos dimensiones,\n",
    "        la primera con el resultado de la funcion y el segundo\n",
    "        con el tiempo de ejecucion de la misma.\n",
    "    \"\"\"\n",
    "\n",
    "    #Se usa el sleep de 1s porque sino el resultado que devuelve es 0 por algun proceso interno de la computadora.\n",
    "    def wrapper(*args, **kwargs):\n",
    "        result = [0,0]    #Declaramos el arreglo\n",
    "        start = 10**6*time()    #Se toma el tiempo inicial\n",
    "        sleep(1)    #Espera de 1s\n",
    "        result[0] = funcion(*args, **kwargs)    #Se ejecuta la función\n",
    "        result[1] = 10**6*time() - start - 1*10**6    #Se toma la diferencia de tiempos menos 1s\n",
    "        return result  \n",
    "    return wrapper"
   ]
  },
  {
   "cell_type": "code",
   "execution_count": 33,
   "metadata": {},
   "outputs": [],
   "source": [
    "class Queue_Array(object):\n",
    "    \"\"\"\n",
    "    Implementation of the queue data structure\n",
    "    \"\"\"\n",
    "\n",
    "    def __init__(self, n):\n",
    "        self.l = 0\n",
    "        self.n = n\n",
    "        self.queue = self._create_queue(self.n)        \n",
    "    \n",
    "    def _create_queue(self, n):\n",
    "        \"\"\"\n",
    "        Creates a new stack of capacity n\n",
    "        \"\"\"\n",
    "        return (n * ctypes.py_object)()\n",
    "    \n",
    "    def enqueue(self, item):\n",
    "        \"\"\"\n",
    "        Add new item to the queue\n",
    "        \"\"\"\n",
    "        if self.l == self.n:\n",
    "            raise ValueError(\"no more capacity\")\n",
    "        self.queue[self.l] = item\n",
    "        self.l += 1\n",
    "        \n",
    "    @calculo_tiempo\n",
    "    def dequeue(self):\n",
    "        \"\"\"\n",
    "        Remove an element from the queue\n",
    "        \"\"\"\n",
    "        c = self.queue[0]\n",
    "        for i in range(1,self.l):\n",
    "            self.queue[i-1] = self.queue[i]\n",
    "        self.queue[self.l - 1] = ctypes.py_object\n",
    "        self.l -= 1\n",
    "        return c\n",
    "    \n",
    "    def first(self):\n",
    "        \"\"\"\n",
    "        Show the first element of the queue\n",
    "        \"\"\"\n",
    "        return self.queue[0]\n",
    "    \n",
    "    def full(self):\n",
    "        \"\"\"\n",
    "        Is the queue full?\n",
    "        \"\"\"\n",
    "        if self.l == self.n:\n",
    "            return True\n",
    "        return False\n",
    "\n",
    "    def empty(self):\n",
    "        \"\"\"\n",
    "        Is the queue empty?\n",
    "        \"\"\"\n",
    "        if self.l == 0:\n",
    "            return True\n",
    "        return False\n",
    "\n",
    "    def size(self):\n",
    "        \"\"\"\n",
    "        Return size of the queue\n",
    "        \"\"\"\n",
    "        return self.l"
   ]
  },
  {
   "cell_type": "code",
   "execution_count": 34,
   "metadata": {},
   "outputs": [],
   "source": [
    "class Queue(Queue):\n",
    "    @calculo_tiempo\n",
    "    def dequeue(self):\n",
    "        \"\"\"\n",
    "        Dequeue()\n",
    "        Input: \n",
    "        Output: First item added.\n",
    "        Pops the first item added from the dequeue stack. If this\n",
    "        stack is empty, transfer all data from enqueue stack to \n",
    "        dequeue stack and pops.       \n",
    "        \"\"\"\n",
    "        if self.dequeue_stk.empty() and self.l > 0:\n",
    "            while not self.enqueue_stk.empty():\n",
    "                self.dequeue_stk.push(self.enqueue_stk.pop())\n",
    "            self.l -= 1\n",
    "            return self.dequeue_stk.pop()\n",
    "        elif self.l > 0:\n",
    "            self.l -= 1\n",
    "            return self.dequeue_stk.pop()\n"
   ]
  },
  {
   "cell_type": "code",
   "execution_count": 36,
   "metadata": {},
   "outputs": [
    {
     "name": "stdout",
     "output_type": "stream",
     "text": [
      "Dequeue runtime worse case Stacks imp.\n",
      "[ 0.      99.725    0.       2.00225  2.50495]\n",
      "\n",
      "Dequeue runtime worse case Class imp.\n",
      "[   0.          0.          9.97      150.65075  1660.537975]\n"
     ]
    }
   ],
   "source": [
    "#Including values bigger than 10^4 take a lot of time\n",
    "n1 = np.array([1,10**1,10**2,10**3,10**4])\n",
    "T1 = np.zeros(len(n1))   \n",
    "T2 = np.zeros(len(n1))   \n",
    "\n",
    "#Worse Case\n",
    "for j in range(0,len(n1)):\n",
    "    Q1 = Queue(n1[j])\n",
    "    Q2 = Queue_Array(n1[j])\n",
    "    for i in range(1,n1[j]):\n",
    "        Q1.enqueue(i)\n",
    "        Q2.enqueue(i)\n",
    "    for i in range(1,n1[j]):\n",
    "        T1[j] = T1[j] + Q1.dequeue()[1]  \n",
    "        T2[j] = T2[j] + Q2.dequeue()[1] \n",
    "    T1[j] = T1[j]/n1[j]\n",
    "    T2[j] = T2[j]/n1[j]    \n",
    "\n",
    "print(\"Dequeue runtime worse case Stacks imp.\")\n",
    "print (T1)\n",
    "print(\"\")\n",
    "print(\"Dequeue runtime worse case Class imp.\")\n",
    "print (T2)"
   ]
  },
  {
   "cell_type": "code",
   "execution_count": 37,
   "metadata": {},
   "outputs": [
    {
     "name": "stdout",
     "output_type": "stream",
     "text": [
      "Dequeue runtime best case Stacks imp.\n",
      "[ 0.         0.        10.33       3.989      2.6917     2.4139025\n",
      "  2.2936195  2.2646172]\n",
      "\n",
      "Dequeue runtime best case Class imp.\n",
      "[0.         0.         0.         0.         1.30525    0.9266975\n",
      " 0.77830025 0.78562818]\n"
     ]
    }
   ],
   "source": [
    "n2 = np.array([1,10,10**2,10**3,10**4,10**5,10**6,10**7])\n",
    "T3 = np.zeros(len(n2))   \n",
    "T4 = np.zeros(len(n2))   \n",
    "\n",
    "#Best Case\n",
    "for j in range(0,len(n2)):\n",
    "    Q1 = Queue(n2[j])\n",
    "    Q2 = Queue_Array(n2[j])\n",
    "    for i in range(1,n2[j]):\n",
    "        Q1.enqueue(i)\n",
    "        T3[j] = T3[j] + Q1.dequeue()[1]  \n",
    "        Q2.enqueue(i)\n",
    "        T4[j] = T4[j] + Q2.dequeue()[1] \n",
    "     \n",
    "    T3[j] = T3[j]/n2[j]\n",
    "    T4[j] = T4[j]/n2[j]    \n",
    "\n",
    "print(\"Dequeue runtime best case Stacks imp.\")\n",
    "print (T3)\n",
    "print(\"\")\n",
    "print(\"Dequeue runtime best case Class imp.\")\n",
    "print (T4)"
   ]
  },
  {
   "cell_type": "code",
   "execution_count": 40,
   "metadata": {},
   "outputs": [
    {
     "data": {
      "image/png": "[encoded data removed]",
      "text/plain": [
       "<Figure size 640x480 with 1 Axes>"
      ]
     },
     "metadata": {},
     "output_type": "display_data"
    },
    {
     "data": {
      "image/png": "[encoded data removed]",
      "text/plain": [
       "<Figure size 640x480 with 1 Axes>"
      ]
     },
     "metadata": {},
     "output_type": "display_data"
    }
   ],
   "source": [
    "plot1 = pd.DataFrame()\n",
    "plot1['Worse case STACKS'] = T1\n",
    "plot1['Worse case CLASS IMP'] = T2\n",
    "plot1['n1'] = n1\n",
    "\n",
    "plot2 = pd.DataFrame()\n",
    "plot2['Best case STACKS'] = T3\n",
    "plot2['Best case CLASS IMP'] = T4\n",
    "plot2['n2'] = n2\n",
    "\n",
    "#Plot\n",
    "plot1.plot(x='n1', y= ['Worse case STACKS','Worse case CLASS IMP'])\n",
    "plt.grid()\n",
    "plot2.plot(x='n2', y= ['Best case STACKS','Best case CLASS IMP'])\n",
    "plt.grid()"
   ]
  },
  {
   "cell_type": "markdown",
   "metadata": {},
   "source": [
    "Como se puede observar, en el peor caso (añadir n datos y luego realizar el dequeue de los n datos) la implementación realizada con Stacks es claramente mejor ya que su complejidad es $O(1)$ todo el tiempo menos en el primer dequeue que es $O(n)$. Por otro lado, la implementación realizada en clase, siempre tiene complejidad del dequeue igual a $O(n)$.\n",
    "\n",
    "Posteriormente, en el mejor de los casos (hacer el enqueue y dequeue alternando) se puede observar que la implementación realizada en clase es más eficiente que la hecha con Stacks. Esto se debe a que la implementación de stacks tiene más operaciones que la realizada en clase al hacer el dequeue. Por lo tanto, en esta situación, ambos algoritmos tiene complejidad $O(1)$ diferenciandose en el número de operaciones."
   ]
  },
  {
   "cell_type": "markdown",
   "metadata": {},
   "source": [
    "### 4. Complete the PriorityQueue class, so that when we call `dequeue`, the element with the highest priority will be returned. Analyze the complexity of runtime and memory of the `enqueue` and `dequeue` methods."
   ]
  },
  {
   "cell_type": "markdown",
   "metadata": {},
   "source": [
    "Hint: use insertion sort , or find the minimum for each dequeue \n",
    "\n",
    "unsorted\n",
    "\n",
    "Q = [(9,2), (1,5), (8,4)]\n",
    "\n",
    "sorted - O(n^2)\n",
    "\n",
    "Q = [(1,5), (8,4), (9,2)]\n",
    "\n",
    "insert((2,3)) - O(n^2)\n",
    "\n",
    "Q = [(1,5), (2,3), (8,4), (9,2)]"
   ]
  },
  {
   "cell_type": "code",
   "execution_count": null,
   "metadata": {},
   "outputs": [],
   "source": [
    "def insertion_sort(queue,length):\n",
    "    \"\"\"\n",
    "    Insert Sort\n",
    "    Input: Array of Tuples, length\n",
    "    Output: Order the Array in order of priority\n",
    "    \"\"\"\n",
    "    for j in range(1,length):\n",
    "        temp = queue[j] \n",
    "        i = j-1\n",
    "        while i >= 0 and queue[i][0] > temp[0]:\n",
    "            queue[i+1] = queue[i]\n",
    "            i -= 1\n",
    "        queue[i+1] = temp"
   ]
  },
  {
   "cell_type": "code",
   "execution_count": null,
   "metadata": {},
   "outputs": [],
   "source": [
    "class PriorityQueue(object):\n",
    "    \"\"\"\n",
    "    Implementation of the queue data structure\n",
    "    \"\"\"\n",
    "    def __init__(self, n):\n",
    "        self.l = 0\n",
    "        self.n = n\n",
    "        self.queue = self._create_queue(self.n)        \n",
    "    \n",
    "    def _create_queue(self, n):\n",
    "        \"\"\"\n",
    "        Creates a new stack of capacity n\n",
    "        \"\"\"\n",
    "        return (n * ctypes.py_object)()\n",
    "    \n",
    "    def insert(self, item):\n",
    "        \"\"\"\n",
    "        Add new item to the queue\n",
    "        \"\"\"\n",
    "        if self.l == self.n:\n",
    "            raise ValueError(\"no more capacity\")\n",
    "        self.queue[self.l] = item\n",
    "        self.l += 1\n",
    "\n",
    "    def deleteMin(self):\n",
    "        \"\"\"\n",
    "        Dequeue\n",
    "        Deletes the first priority object in the queue.\n",
    "        \"\"\"\n",
    "        if self.l > 0 :\n",
    "            insertion_sort(self.queue,self.l)\n",
    "            temp = self.queue[0]\n",
    "            for i in range(1,self.l):\n",
    "                self.queue[i-1] = self.queue[i]\n",
    "            self.queue[self.l -1] = ctypes.py_object\n",
    "            self.l -= 1\n",
    "            return temp\n",
    "        \n",
    "    def getMin(self):\n",
    "        \"\"\"\n",
    "        GetMin\n",
    "        Returns the highest priority value\n",
    "        \"\"\"\n",
    "        if self.l > 0 :\n",
    "            insertion_sort(self.queue,self.l)\n",
    "            return self.queue[0]\n",
    "        \n",
    "    def decreaseKey(self,item):\n",
    "        \"\"\"\n",
    "        DecreaseKey\n",
    "        Modifies element (k1,v) with (k2,v) if k1 > k2\n",
    "        \"\"\"\n",
    "        i = 0\n",
    "        temp = \"\"\n",
    "        while self.queue[i][1] != item[1] and i < self.l:\n",
    "            i += 1\n",
    "        if self.queue[i][1] == item[1]:\n",
    "            if self.queue[i][0] > item[0]:\n",
    "                temp = str(self.queue[i]) + \" -> \" + str(item)\n",
    "                self.queue[i] = item\n",
    "            print(temp)"
   ]
  },
  {
   "cell_type": "code",
   "execution_count": null,
   "metadata": {},
   "outputs": [],
   "source": [
    "Q = PriorityQueue(5)\n",
    "Q.insert((9,2))\n",
    "Q.insert((1,5))\n",
    "Q.insert((8,4))\n"
   ]
  },
  {
   "cell_type": "code",
   "execution_count": null,
   "metadata": {},
   "outputs": [
    {
     "data": {
      "text/plain": [
       "(1, 5)"
      ]
     },
     "execution_count": 22,
     "metadata": {},
     "output_type": "execute_result"
    }
   ],
   "source": [
    "Q.deleteMin()"
   ]
  },
  {
   "cell_type": "code",
   "execution_count": null,
   "metadata": {},
   "outputs": [
    {
     "data": {
      "text/plain": [
       "(8, 4)"
      ]
     },
     "execution_count": 23,
     "metadata": {},
     "output_type": "execute_result"
    }
   ],
   "source": [
    "Q.getMin()"
   ]
  },
  {
   "cell_type": "code",
   "execution_count": null,
   "metadata": {},
   "outputs": [
    {
     "name": "stdout",
     "output_type": "stream",
     "text": [
      "(9, 2) -> (2, 2)\n"
     ]
    }
   ],
   "source": [
    "Q.decreaseKey((2,2))"
   ]
  },
  {
   "cell_type": "markdown",
   "metadata": {},
   "source": [
    "La complejidad de la clase PriorityQueue se analiza a continuación:\n",
    "* Insert: \n",
    "    * $O(1)$ porque solo se añade la tupla en el siguiente espacio de memoria disponible.\n",
    "    * Tiene complejidad en memoria $O(1)$ porque usa valor constante en memoria indicados al inicializar la PriorityQueue. La memoria no aumenta durante la ejecución.\n",
    "* DeleteMin: \n",
    "    * $O(n^2)$ ya que el método insert_sort tiene complejidad $O(n^2)$ y es siempre necesario para ordenar el arreglo conforme su prioridad.\n",
    "    * Tiene complejidad en memoria $O(1)$ porque el método DeleteMin no modifica la memoria utilizada . "
   ]
  },
  {
   "cell_type": "markdown",
   "metadata": {},
   "source": [
    "### 5. A given linked-list (singly or doubly) represents an integer number. For example, 345 is represented by the singly-linked list 3 -> 4 ->5. Write a Python program that does the following:\n",
    "\n",
    "1. Receives three integers A, B and C as inputs. Assume that the three number have the same number of digits.\n",
    "\n",
    "2. Transform the numbers to their corresponding linked lists\n",
    "\n",
    "3. Implement the sum of the three numbers. The result A + B + C must be stored in a linked list. \n",
    "\n",
    "4. Print the result by traversing the list. \n",
    "\n",
    "5. Run your program for numbers with 1 to 100 digits, and capture the runtime. Use these number to estimate the complexity of the runtime.\n",
    "    - Hint: write a small function that uses `randint()` to generate a number of a given number of digits \n",
    "6. Analitically estimate the runtime complexity and compare with the one obtained in (5)."
   ]
  },
  {
   "cell_type": "code",
   "execution_count": 55,
   "metadata": {},
   "outputs": [],
   "source": [
    "class Node:\n",
    "    \"\"\"\n",
    "    Implementation of a node\n",
    "    \"\"\"\n",
    "    def __init__(self, val=None):\n",
    "        self.val = val\n",
    "        self.next_node = None\n",
    "        self.prev_node = None\n",
    "        \n",
    "class Doubly_linked_list:\n",
    "    \"\"\"\n",
    "    Implementation of a singly linked list\n",
    "    \"\"\"\n",
    "    def __init__(self, head_node=None):\n",
    "        self.head_node = head_node\n",
    "\n",
    "    def list_traverse(self):\n",
    "        node = self.head_node\n",
    "        while node:\n",
    "            print (node.val)\n",
    "            node = node.next_node\n",
    "\n",
    "\n",
    "    def insert_at_start(self, data):\n",
    "        \"\"\"\n",
    "        Insert a node at the start of the list\n",
    "        \"\"\"    \n",
    "        if self.head_node is None:\n",
    "            new_node = Node(data)\n",
    "            self.head_node = new_node\n",
    "            return\n",
    "        new_node = Node(data)\n",
    "        new_node.next_node = self.head_node\n",
    "        self.head_node.prev_node = new_node\n",
    "        self.head_node = new_node  \n",
    "\n",
    "    def insert_at_end(self, data):\n",
    "        \"\"\"\n",
    "        Insert a node at the end of the list\n",
    "        \"\"\"    \n",
    "        if self.head_node is None:\n",
    "            new_node = Node(data)\n",
    "            self.head_node = new_node\n",
    "            return\n",
    "        node = self.head_node\n",
    "        while node.next_node:\n",
    "            node = node.next_node\n",
    "        new_node = Node(data)\n",
    "        new_node.prev_node = node\n",
    "        node.next_node = new_node\n",
    "\n",
    "    def insert_after_node(self, value, data):\n",
    "        \"\"\"\n",
    "        Insert a node after a given node\n",
    "        \"\"\"        \n",
    "        if self.head_node is None:\n",
    "            new_node = Node(data)\n",
    "            self.head_node = new_node\n",
    "            return\n",
    "        n = self.head_node\n",
    "        while n.next_node:\n",
    "            if n.val == value:\n",
    "                break\n",
    "            n = n.next_node\n",
    "        if not n:\n",
    "            raise ValueError(\"node not found\")\n",
    "\n",
    "        new_node = Node(data)\n",
    "        new_node.next_node = n.next_node\n",
    "        n.next_node.prev_node = new_node\n",
    "        n.next_node = new_node\n",
    "        new_node.prev_node = n\n",
    "        \n",
    "    def insert_before_node(self, value, data):\n",
    "        \"\"\"\n",
    "        Insert a node before a given node\n",
    "        \"\"\"        \n",
    "        if self.head_node is None:\n",
    "            new_node = Node(data)\n",
    "            self.head_node = new_node\n",
    "            return\n",
    "        n = self.head_node\n",
    "        while n.next_node:\n",
    "            if n.val == value:\n",
    "                break\n",
    "            n = n.next_node\n",
    "        if not n:\n",
    "            raise ValueError(\"node not found\")\n",
    "\n",
    "        new_node = Node(data)\n",
    "        new_node.prev_node = n.prev_node\n",
    "        n.prev_node = new_node\n",
    "        new_node.next_node = n\n",
    "        new_node.prev_node.next_node = new_node"
   ]
  },
  {
   "cell_type": "code",
   "execution_count": 56,
   "metadata": {},
   "outputs": [],
   "source": [
    "def to_linked_list(num):\n",
    "    \"\"\"\n",
    "    To_linked_list\n",
    "    Input: Number\n",
    "    Output: Returns a doubly linked list with each digit of the number\n",
    "    \"\"\"\n",
    "    A= Doubly_linked_list()\n",
    "    while num > 0:\n",
    "        temp = num % 10\n",
    "        A.insert_at_start(temp)\n",
    "        num = num // 10\n",
    "    return A\n",
    "    "
   ]
  },
  {
   "cell_type": "code",
   "execution_count": 57,
   "metadata": {},
   "outputs": [],
   "source": [
    "def sum_3(A,B,C):\n",
    "    \"\"\"\n",
    "    Sum_3\n",
    "    Input: 3 numbers\n",
    "    Output: returns a doubly linked list that results from the\n",
    "    sum of the linked lists of each number.\n",
    "    \"\"\"\n",
    "    \n",
    "    A_list = to_linked_list(A)\n",
    "    B_list = to_linked_list(B)\n",
    "    C_list = to_linked_list(C)\n",
    "    res = Doubly_linked_list()\n",
    "    temp = 0\n",
    "    nodes = [A_list.head_node,B_list.head_node,C_list.head_node]\n",
    "    for i in range(3):\n",
    "        while nodes[i].next_node:\n",
    "            nodes[i] = nodes[i].next_node\n",
    "        temp = temp + nodes[i].val  \n",
    "    res.insert_at_start(temp % 10)\n",
    "    temp = temp // 10 \n",
    "    \n",
    "    while nodes[0].prev_node:   #Assuming all numbers with same digits\n",
    "        for i in range(3):\n",
    "            nodes[i] = nodes[i].prev_node\n",
    "            temp = temp + nodes[i].val       \n",
    "        res.insert_at_start(temp % 10)\n",
    "        temp = temp // 10 \n",
    "    while temp > 0:\n",
    "        res.insert_at_start(temp % 10)\n",
    "        temp = temp // 10\n",
    "    return res \n"
   ]
  },
  {
   "cell_type": "code",
   "execution_count": 58,
   "metadata": {},
   "outputs": [
    {
     "name": "stdout",
     "output_type": "stream",
     "text": [
      "1\n",
      "0\n",
      "3\n",
      "5\n"
     ]
    }
   ],
   "source": [
    "Suma = sum_3(345,123,567)\n",
    "Suma.list_traverse()"
   ]
  },
  {
   "cell_type": "code",
   "execution_count": 59,
   "metadata": {},
   "outputs": [],
   "source": [
    "@calculo_tiempo\n",
    "def sum_3(A,B,C):\n",
    "    \"\"\"\n",
    "    Sum_3\n",
    "    Input: 3 numbers\n",
    "    Output: returns a doubly linked list that results from the\n",
    "    sum of the linked lists of each number.\n",
    "    \"\"\"\n",
    "    A_list = to_linked_list(A)\n",
    "    B_list = to_linked_list(B)\n",
    "    C_list = to_linked_list(C)\n",
    "\n",
    "    res = Doubly_linked_list()\n",
    "    temp = 0\n",
    "    nodes = [A_list.head_node,B_list.head_node,C_list.head_node]\n",
    "    for i in range(3):\n",
    "        while nodes[i].next_node:\n",
    "            nodes[i] = nodes[i].next_node\n",
    "        temp = temp + nodes[i].val  \n",
    "    res.insert_at_start(temp % 10)\n",
    "    temp = temp // 10 \n",
    "    \n",
    "    while nodes[0].prev_node:   #Assuming all numbers with same digits\n",
    "        for i in range(3):\n",
    "            nodes[i] = nodes[i].prev_node\n",
    "            temp = temp + nodes[i].val       \n",
    "        res.insert_at_start(temp % 10)\n",
    "        temp = temp // 10 \n",
    "    while temp > 0:\n",
    "        res.insert_at_start(temp % 10)\n",
    "        temp = temp // 10\n",
    "    return res \n"
   ]
  },
  {
   "cell_type": "code",
   "execution_count": 65,
   "metadata": {},
   "outputs": [],
   "source": [
    "import random\n",
    "\n",
    "digits = 100\n",
    "T1 = np.empty(digits)\n",
    "n = np.empty(digits)\n",
    "n[0] = 0\n",
    "for i in range(1,digits):\n",
    "    n[i] = i\n",
    "    T1[i] = sum_3(random.randint(10**i,10**(i+1))//10,random.randint(10**i,10**(i+1))//10,random.randint(10**i,10**(i+1))//10)[1]"
   ]
  },
  {
   "cell_type": "code",
   "execution_count": 64,
   "metadata": {},
   "outputs": [
    {
     "data": {
      "image/png": "[encoded data removed]",
      "text/plain": [
       "<Figure size 640x480 with 1 Axes>"
      ]
     },
     "metadata": {},
     "output_type": "display_data"
    },
    {
     "data": {
      "image/png": "[encoded data removed]",
      "text/plain": [
       "<Figure size 640x480 with 1 Axes>"
      ]
     },
     "metadata": {},
     "output_type": "display_data"
    }
   ],
   "source": [
    "plot3 = pd.DataFrame()\n",
    "plot3['Runtime'] = T1\n",
    "plot3['n'] = n\n",
    "\n",
    "#Plot\n",
    "plot3.plot(x='n', y= ['Runtime'])\n",
    "plt.grid()\n",
    "plot3.plot(x='n', y= ['Runtime'], logy=True)\n",
    "plt.grid()"
   ]
  },
  {
   "cell_type": "markdown",
   "metadata": {},
   "source": [
    "La gráfica nos indica que el algoritmo se estabiliza aproximadamente en 7000[us]. Comienza en 0 y mientras crece el número de dígitos del número aumenta el tiempo de ejecución sumamente poco. Esta curva aunque esté bastante errática indica que existe una tendencia logarítmica. \n",
    "\n",
    "La fluctuación de tiempo de ejecución es debida a que para ciertos valores no se está entrando en todos los loops como sería el caso de sumar 999 + 111 + 222. En este caso la suma de cada dígito tiene un valor mayor que 9 por lo que se debe sumar a las siguientes unidades. Esto implica realizar más operaciones dentro del algoritmo. \n",
    "\n",
    "Por ello existe esta tendencia errática en los datos pero se puede distinguir de cierta forma el crecimiento de la función.\n",
    "\n",
    "La complejidad por lo tanto se la puede estimar como:\n",
    "\n",
    "$$O(log(n))$$"
   ]
  },
  {
   "cell_type": "markdown",
   "metadata": {},
   "source": [
    "6. \n",
    "\n",
    "Para la parte analítica se evaluará individualmente cada parte del código:\n",
    "\n",
    "* to_linked_list(num) = $O(log_{10} (n))$ como se repiten 3 veces tenemos:\n",
    "\n",
    "$$T(n) = 3log_{10}(n)$$\n",
    "\n",
    "* \n",
    "    for i in range(3):\n",
    "        while nodes[i].next_node:\n",
    "            nodes[i] = nodes[i].next_node\n",
    "        temp = temp + nodes[i].val  \n",
    "\n",
    "Complejidad: $O(n)$ y se repite 3 veces\n",
    "\n",
    "$$T(n) = 3log_{10}(n) + 3n$$\n",
    "\n",
    "* \n",
    "    while nodes[0].prev_node:   \n",
    "        for i in range(3):\n",
    "            nodes[i] = nodes[i].prev_node\n",
    "            temp = temp + nodes[i].val       \n",
    "        res.insert_at_start(temp % 10)\n",
    "        temp = temp // 10 \n",
    "\n",
    "Complejidad: $O(n)$ y se repite 3 veces\n",
    "\n",
    "* \n",
    "    while temp > 0:\n",
    "        res.insert_at_start(temp % 10)\n",
    "        temp = temp // 10\n",
    "\n",
    "Complejidad: $O(log_{10}(temp))$ \n",
    "\n",
    "Por lo tanto, el algoritmo tiene una complejidad:\n",
    "\n",
    "$$T(n) = 3log_{10}(n) + 6n + log_{10}(temp)$$\n",
    "\n",
    "De este resultado, se puede obtener el análisis asintótico del peor caso siendo $O(n)$ ya que la función $n$ es mayor la mayor parte del tiempo a $log_{10}(n)$."
   ]
  },
  {
   "cell_type": "markdown",
   "metadata": {},
   "source": [
    "Para valores pequeños de n, la gráfica del literal 5 nos puede hacer creer que el algoritmo tiene tendencia logarítmica ya que si es representativa en la función $T(n)$. Sin embargo, para números de dígitos más grandes, la parte lineal de la aproximación del tiempo de ejecución es la de mayor importancia, como se llegó a la conclusión al obtener la forma analítica."
   ]
  }
 ],
 "metadata": {
  "kernelspec": {
   "display_name": "Python 3.10.1 64-bit",
   "language": "python",
   "name": "python3"
  },
  "language_info": {
   "codemirror_mode": {
    "name": "ipython",
    "version": 3
   },
   "file_extension": ".py",
   "mimetype": "text/x-python",
   "name": "python",
   "nbconvert_exporter": "python",
   "pygments_lexer": "ipython3",
   "version": "3.10.1"
  },
  "orig_nbformat": 4,
  "vscode": {
   "interpreter": {
    "hash": "5726e28a2f93f624e13654f4187f1c65de1ba509691958bda5f0f5587a78bdd1"
   }
  }
 },
 "nbformat": 4,
 "nbformat_minor": 2
}
