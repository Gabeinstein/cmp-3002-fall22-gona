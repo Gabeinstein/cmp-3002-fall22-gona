{
 "cells": [
  {
   "cell_type": "code",
   "execution_count": 2,
   "metadata": {},
   "outputs": [],
   "source": [
    "from time import time\n",
    "import pandas as pd\n",
    "import numpy as np\n",
    "import math\n",
    "import matplotlib.pyplot as plt\n",
    "%matplotlib inline  "
   ]
  },
  {
   "cell_type": "markdown",
   "metadata": {},
   "source": [
    "# Homework 2"
   ]
  },
  {
   "cell_type": "markdown",
   "metadata": {},
   "source": [
    "### 1. Implement the class `Stacks` and all its methods using singly linked lists. Analyze the runtime and memory complexity, and compare with what we studied in class"
   ]
  },
  {
   "cell_type": "code",
   "execution_count": 3,
   "metadata": {},
   "outputs": [],
   "source": [
    "class Node:\n",
    "    \"\"\"\n",
    "    Implementation of a node\n",
    "    \"\"\"\n",
    "    def __init__(self, val=None):\n",
    "        self.val = val\n",
    "        self.next_node = None\n",
    "    \n",
    "    def set_next_node(self, next_node):\n",
    "        self.next_node = next_node\n",
    "        \n",
    "class Singly_linked_list:\n",
    "    \"\"\"\n",
    "    Implementation of a singly linked list\n",
    "    \"\"\"\n",
    "    def __init__(self, head_node=None):\n",
    "        \"\"\"\n",
    "        Head Node initialization\n",
    "        Preset: head_node = None\n",
    "        \"\"\"\n",
    "\n",
    "        self.head_node = head_node\n",
    "\n",
    "    def list_traversed(self):\n",
    "        \"\"\"\n",
    "        List Traversed\n",
    "        Print all the sigle linked list\n",
    "        \"\"\"\n",
    "        node = self.head_node\n",
    "        while node:\n",
    "            print(node.val)\n",
    "            node = node.next_node\n",
    "    \n",
    "    def insert_head(self, new_node):\n",
    "        \"\"\"\n",
    "        Insert Head\n",
    "        Inserts a node in the first place of the list\n",
    "        \"\"\"\n",
    "        # insert to the head\n",
    "        # A -> B -> null\n",
    "        # R -> A -> B -> null \n",
    "        new_node.set_next_node(self.head_node)\n",
    "        self.head_node = new_node\n",
    "        \n",
    "    def insert_tail(self, new_node):\n",
    "        \"\"\"\n",
    "        Insert Tail\n",
    "        Inserts a node at the end of the list where the node.next_node = None.\n",
    "        \"\"\"\n",
    "        # insert to the tail\n",
    "        # A -> B -> null\n",
    "        # A -> B -> R -> null \n",
    "        node = self.head_node\n",
    "        prev = self.head_node\n",
    "        while node:\n",
    "            prev = node\n",
    "            node = node.next_node\n",
    "        prev.set_next_node(new_node)\n",
    "        \n",
    "    def insert_middle(self, new_node, value):\n",
    "        \"\"\"\n",
    "        Insert Middle\n",
    "        Inserts a node at next node of a specific value at the list.\n",
    "        If not found -> insert_tail()\n",
    "        \"\"\"\n",
    "        # insert in the middle\n",
    "        # A -> B -> C -> null\n",
    "        # A -> B -> R -> C -> null\n",
    "        node = self.head_node\n",
    "        #Changed case not val found\n",
    "        while node:\n",
    "            if node.val == value :  #Prevents None has no attribute 'val'\n",
    "                break\n",
    "            node = node.next_node\n",
    "        if node:\n",
    "            new_node.set_next_node(node.next_node)\n",
    "            node.set_next_node(new_node)\n",
    "        else:\n",
    "            self.insert_tail(new_node)\n",
    "\n",
    "    def delete_head(self):\n",
    "        \"\"\"\n",
    "        Delete head\n",
    "        Deletes first node of the list.\n",
    "        If None -> pass\n",
    "        \"\"\"\n",
    "        #delete value\n",
    "        # A -> B -> C -> None\n",
    "        # B -> C -> None\n",
    "        node = self.head_node\n",
    "        self.head_node = node.next_node\n",
    "        node.next_node = None\n",
    "\n",
    "    def delete_tail(self):\n",
    "        \"\"\"\n",
    "        Delete tail\n",
    "        Deletes last node of the list.\n",
    "        \"\"\"\n",
    "        #delete value\n",
    "        # A -> B -> C -> None\n",
    "        # A -> B -> None\n",
    "        node = self.head_node\n",
    "        prev = self.head_node\n",
    "        while node.next_node:\n",
    "            prev = node\n",
    "            node = node.next_node\n",
    "        prev.set_next_node(None)\n",
    "\n",
    "\n",
    "    def delete(self,value):\n",
    "        \"\"\"\n",
    "        Delete\n",
    "        Deletes a node at a specific value of the list.\n",
    "        If not found -> pass\n",
    "        If firts -> Changes the head node\n",
    "        \"\"\"\n",
    "        #delete value\n",
    "        # A -> B -> C -> None\n",
    "        # A -> C -> None\n",
    "        node = self.head_node\n",
    "        prev = None\n",
    "        while node:\n",
    "            if node.val == value :\n",
    "                break\n",
    "            prev = node\n",
    "            node = node.next_node\n",
    "        if node:\n",
    "            if not prev:    #Prevent head node error. None has no attribute 'set_next_node'\n",
    "                self.head_node = node.next_node\n",
    "                node.next_node = None\n",
    "            else:\n",
    "                prev.set_next_node(node.next_node)\n",
    "                node.next_node = None\n"
   ]
  },
  {
   "cell_type": "code",
   "execution_count": 4,
   "metadata": {},
   "outputs": [],
   "source": [
    "class Stack:\n",
    "    \"\"\"\n",
    "    Implementation of the stack data structure using single linked list\n",
    "    \"\"\"\n",
    "    def __init__(self, n):\n",
    "        self.stack = Singly_linked_list(Node(None))\n",
    "        self.n = n      \n",
    "        self.l = 0\n",
    "    \n",
    "    def push(self, item):\n",
    "        if self.l != self.n :\n",
    "            self.stack.insert_head(Node(item))\n",
    "            self.l += 1\n",
    "        else:\n",
    "            raise ValueError(\"No more capacity\")\n",
    "\n",
    "    def pop(self):\n",
    "        if self.l > 0:\n",
    "            #print(self.stack.head_node.val)\n",
    "            self.stack.delete_head()\n",
    "            self.l -= 1    \n",
    "\n",
    "    def top(self):\n",
    "        return self.stack.head_node.val\n",
    "\n",
    "    def full(self):\n",
    "        return self.l == self.n\n",
    "    \n",
    "    def empty(self):\n",
    "        return self.l == 0\n",
    "    \n",
    "    def size(self):\n",
    "        return self.l"
   ]
  },
  {
   "cell_type": "code",
   "execution_count": 5,
   "metadata": {},
   "outputs": [],
   "source": [
    "S = Stack(10)\n",
    "\n",
    "S.push(1)\n",
    "S.push(2)\n",
    "S.push(4)\n",
    "S.push(-1)"
   ]
  },
  {
   "cell_type": "code",
   "execution_count": 6,
   "metadata": {},
   "outputs": [
    {
     "data": {
      "text/plain": [
       "-1"
      ]
     },
     "execution_count": 6,
     "metadata": {},
     "output_type": "execute_result"
    }
   ],
   "source": [
    "S.top()"
   ]
  },
  {
   "cell_type": "code",
   "execution_count": 7,
   "metadata": {},
   "outputs": [
    {
     "data": {
      "text/plain": [
       "4"
      ]
     },
     "execution_count": 7,
     "metadata": {},
     "output_type": "execute_result"
    }
   ],
   "source": [
    "S.size()"
   ]
  },
  {
   "cell_type": "code",
   "execution_count": 8,
   "metadata": {},
   "outputs": [],
   "source": [
    "S.pop()"
   ]
  },
  {
   "cell_type": "code",
   "execution_count": 9,
   "metadata": {},
   "outputs": [
    {
     "data": {
      "text/plain": [
       "False"
      ]
     },
     "execution_count": 9,
     "metadata": {},
     "output_type": "execute_result"
    }
   ],
   "source": [
    "S.full()"
   ]
  },
  {
   "cell_type": "code",
   "execution_count": 10,
   "metadata": {},
   "outputs": [
    {
     "data": {
      "text/plain": [
       "False"
      ]
     },
     "execution_count": 10,
     "metadata": {},
     "output_type": "execute_result"
    }
   ],
   "source": [
    "S.empty()"
   ]
  },
  {
   "cell_type": "markdown",
   "metadata": {},
   "source": [
    "La complejidad de la clase stack se analiza a continuación:\n",
    "* Push: \n",
    "    * Tiene complejidad en runtime $O(1)$ porque el método insert_head() de la clase singly linked list tiene una complejidad constante sin ningun lazo.\n",
    "    * Tiene complejidad en memoria $O(1)$ porque usa valor constante en memoria y no por aumentar el tamaño del stack, la memoria aumenta.\n",
    "* Pop: \n",
    "    * $O(1)$ porque el método delete_head() de la clase single \n",
    "    linked list tiene una complejidad constante sin ningun lazo.\n",
    "    * Tiene complejidad en memoria $O(1)$ porque delete_head usa valor constante en memoria y no por aumentar el tamaño del stack, la memoria aumenta.\n",
    "* Top:\n",
    "    * $O(1)$ porque solo imprime el valor del primer nodo de la lista y eso no depende del tamaño de la misma. Complejidad constante.\n",
    "    * Tiene complejidad en memoria $O(1)$ porque la funcion solo lee una variable y no por aumentar el tamaño del stack, la memoria aumenta.\n",
    "* Full: \n",
    "    * $O(1)$ porque solo compara si self.l == self.n para que el stack esté lleno.\n",
    "    * Tiene complejidad en memoria $O(1)$ porque la funcion solo lee y compara dos variable y no por aumentar el tamaño del stack, la memoria aumenta.\n",
    "* Empty: \n",
    "    * $O(1)$ porque solo compara si self.l = 0\n",
    "    * Tiene complejidad en memoria $O(1)$ porque la funcion solo lee y compara dos variable y no por aumentar el tamaño del stack, la memoria aumenta.\n",
    "* Size: \n",
    "    * $O(1)$ porque solo imprime el valor de self.l\n",
    "    * Tiene complejidad en memoria $O(1)$ porque la funcion solo retorna una variable y no por aumentar el tamaño del stack, la memoria aumenta.\n",
    "\n",
    "Comparado con la implementación realizada en clase, se puede notar que usar singly_linked_list es igual de eficiente que al usar arreglos. Ya que en todos los casos la complejidad de las funciones de stack es $O(1)$"
   ]
  },
  {
   "cell_type": "markdown",
   "metadata": {},
   "source": [
    "### 2. Write a method part of the linked list class that will reverse the linked list. Your implementation should visit each node in the list only one time, and should use $O(1)$ of extra memory.\n",
    "\n",
    "\n",
    "> For example, if the list is:\n",
    "\n",
    "> A -> B -> C -> D -> null\n",
    "\n",
    "> The method must return:\n",
    "\n",
    "> D -> C -> B -> A -> null\n"
   ]
  },
  {
   "cell_type": "code",
   "execution_count": 11,
   "metadata": {},
   "outputs": [],
   "source": [
    "class Singly_linked_list(Singly_linked_list):\n",
    "    def reverse(self):\n",
    "        prev_val = self.head_node.val\n",
    "        node =self.head_node.next_node\n",
    "        res = Singly_linked_list(Node(prev_val))\n",
    "        while node:\n",
    "            prev_val = node.val\n",
    "            res.insert_head(Node(prev_val))\n",
    "            node = node.next_node \n",
    "            self.delete_head()  \n",
    "        self.delete_head()         \n",
    "        self.head_node = res.head_node\n",
    "        "
   ]
  },
  {
   "cell_type": "code",
   "execution_count": 12,
   "metadata": {},
   "outputs": [
    {
     "name": "stdout",
     "output_type": "stream",
     "text": [
      "A\n",
      "B\n",
      "C\n",
      "D\n",
      "\n",
      "D\n",
      "C\n",
      "B\n",
      "A\n"
     ]
    }
   ],
   "source": [
    "N1 = Node(\"A\")\n",
    "N2 = Node(\"B\")\n",
    "N3 = Node(\"C\")\n",
    "N4 = Node(\"D\")\n",
    "N1.set_next_node(N2)\n",
    "N2.set_next_node(N3)\n",
    "N3.set_next_node(N4)\n",
    "\n",
    "L1 = Singly_linked_list(N1)\n",
    "\n",
    "L1.list_traversed()\n",
    "print(\"\")\n",
    "L1.reverse()\n",
    "L1.list_traversed()\n"
   ]
  },
  {
   "cell_type": "markdown",
   "metadata": {},
   "source": [
    "### 3. Implement the class Queue using stacks. \n",
    "\n",
    "> a. Analyze the runtime and memory complexity, and compare with what we implemented in class.\n",
    "\n",
    "> b. Implement a few test cases that would allow you to measure the difference in runtime of the `dequeue` method. (Hint: what is the worst case, so that dequeue of the stack implementation is greater than the implementation we did in class?)"
   ]
  },
  {
   "cell_type": "code",
   "execution_count": 13,
   "metadata": {},
   "outputs": [],
   "source": [
    "class Queue():\n",
    "    def __init__(self,n):\n",
    "        self.l = 0\n",
    "        self.n = n\n",
    "        self.queue = Stack(n)\n",
    "\n",
    "    def enqueue(self,item):\n",
    "        if self.l == self.n:\n",
    "            raise ValueError(\"No more capacity\")\n",
    "        self.queue.push(item)\n",
    "        self.l += 1\n",
    "\n",
    "    def dequeue(self):\n",
    "        if self.l != 0:\n",
    "            temp_1 = Stack(self.n)\n",
    "            size_stack = self.queue.l\n",
    "\n",
    "            while size_stack > 1:\n",
    "                temp_1.push(self.queue.top())\n",
    "                self.queue.pop()\n",
    "                size_stack -= 1\n",
    "            #print(self.queue.top())\n",
    "            self.queue.pop()\n",
    "\n",
    "            while temp_1.size() > 0:\n",
    "                self.queue.push(temp_1.top())\n",
    "                temp_1.pop()\n",
    "            self.l -= 1\n",
    "\n",
    "    def first(self):\n",
    "        return self.queue.top()\n",
    "    \n",
    "    def full(self):\n",
    "        return self.l == self.n\n",
    "    \n",
    "    def empty(self):\n",
    "        return self.l == 0\n",
    "    \n",
    "    def size(self):\n",
    "        return self.l"
   ]
  },
  {
   "cell_type": "code",
   "execution_count": 14,
   "metadata": {},
   "outputs": [],
   "source": [
    "q = Queue(10)\n",
    "q.enqueue(1)\n",
    "q.enqueue(2)\n",
    "q.enqueue(3)"
   ]
  },
  {
   "cell_type": "code",
   "execution_count": 15,
   "metadata": {},
   "outputs": [],
   "source": [
    "q.dequeue()\n"
   ]
  },
  {
   "cell_type": "markdown",
   "metadata": {},
   "source": [
    "La complejidad de la clase Queue se analiza a continuación:\n",
    "* Enqueue: \n",
    "    * Tiene complejidad en runtime $O(1)$ porque el método push() de la clase stack tiene complejidad $O(1)$.\n",
    "    * Tiene complejidad en memoria $O(1)$ porque usa valor constante en memoria igual a los $n$ datos admitidos, más variables adicionales. La memoria no aumenta durante la ejecución.\n",
    "* Dequeue: \n",
    "    * $O(n)$ porque el método push() y pop() de Stack, tienen complejidad de $O(1)$ pero están dentro de dos lazos while que hacen que la complejidad todal sea lineal $2n$.Por lo tanto la complejidad de Dequeue es lineal $O(n)$.\n",
    "    * Tiene complejidad en memoria $O(1)$ porque al mismo tiempo que se usa un valor en memoria extra para el stack temporal, se elimina el espacio de memoria en el stack principal. Por lo que el promedio de memoria utilizada permanece constante y no aumenta en memoria por aumentar el queue.\n",
    "* First:\n",
    "    * $O(1)$ porque solo imprime el valor top() del queue. Este método tiene complejidad constante.\n",
    "    * Tiene complejidad en memoria $O(1)$ porque la funcion solo lee una variable y no por aumentar el tamaño del queue, la memoria aumenta.\n",
    "* Full: \n",
    "    * $O(1)$ porque solo compara si self.l == self.n para que el stack esté lleno.\n",
    "    * Tiene complejidad en memoria $O(1)$ porque la funcion solo lee y compara dos variable y no por aumentar el tamaño del stack, la memoria aumenta.\n",
    "* Empty: \n",
    "    * $O(1)$ porque solo compara si self.l = 0\n",
    "    * Tiene complejidad en memoria $O(1)$ porque la funcion solo lee y compara dos variable y no por aumentar el tamaño del stack, la memoria aumenta.\n",
    "* Size: \n",
    "    * $O(1)$ porque solo imprime el valor de self.l\n",
    "    * Tiene complejidad en memoria $O(1)$ porque la funcion solo retorna una variable y no por aumentar el tamaño del stack, la memoria aumenta.\n",
    "\n",
    "Comparando con la implementación de Queue hecha con arrays, se puede ver que usar stacks es igual de eficiente. Comparado con otras estructuras de datos, esta es diferente en dequeue porque se debe manipular de varias formas al stack para obtener el valor inicial y poderlo borrar."
   ]
  },
  {
   "cell_type": "markdown",
   "metadata": {},
   "source": [
    "* B)"
   ]
  },
  {
   "cell_type": "code",
   "execution_count": 16,
   "metadata": {},
   "outputs": [],
   "source": [
    "#Decorador para calcular el tiempo de ejecucion de una funcion\n",
    "\n",
    "from time import sleep\n",
    "\n",
    "def calculo_tiempo(funcion):\n",
    "    \"\"\"\n",
    "        En este decorador se crea un arreglo de dos dimensiones,\n",
    "        la primera con el resultado de la funcion y el segundo\n",
    "        con el tiempo de ejecucion de la misma.\n",
    "    \"\"\"\n",
    "\n",
    "    #Se usa el sleep de 1s porque sino el resultado que devuelve es 0 por algun proceso interno de la computadora.\n",
    "    def wrapper(*args, **kwargs):\n",
    "        result = [0,0]    #Declaramos el arreglo\n",
    "        start = 10**6*time()    #Se toma el tiempo inicial\n",
    "        sleep(1)    #Espera de 1s\n",
    "        result[0] = funcion(*args, **kwargs)    #Se ejecuta la función\n",
    "        result[1] = 10**6*time() - start - 10**6    #Se toma la diferencia de tiempos menos 1s\n",
    "        return result  \n",
    "    return wrapper"
   ]
  },
  {
   "cell_type": "code",
   "execution_count": 17,
   "metadata": {},
   "outputs": [],
   "source": [
    "class Queue(Queue):\n",
    "\n",
    "    @calculo_tiempo\n",
    "    def dequeue(self):\n",
    "        if self.l != 0:\n",
    "            temp_1 = Stack(self.n)\n",
    "            size_stack = self.queue.l\n",
    "\n",
    "            while size_stack > 1:\n",
    "                temp_1.push(self.queue.top())\n",
    "                self.queue.pop()\n",
    "                size_stack -= 1\n",
    "            #print(self.queue.top())\n",
    "            self.queue.pop()\n",
    "\n",
    "            while temp_1.size() > 0:\n",
    "                self.queue.push(temp_1.top())\n",
    "                temp_1.pop()\n",
    "            self.l -= 1\n"
   ]
  },
  {
   "cell_type": "code",
   "execution_count": 18,
   "metadata": {},
   "outputs": [
    {
     "name": "stdout",
     "output_type": "stream",
     "text": [
      "[2.24600000e+03 7.05525000e+03 9.30200000e+03 5.34850000e+03\n",
      " 3.17842500e+04 2.71114750e+05 2.73960725e+06 2.85116225e+07]\n"
     ]
    }
   ],
   "source": [
    "n = np.array([1,10,10**2,10**3,10**4,10**5,10**6,10**7])\n",
    "T1 = np.empty(len(n)) \n",
    "\n",
    "for j in range(0,len(n)):\n",
    "    Q = Queue(n[j])\n",
    "    for i in range(1,n[j]):\n",
    "        Q.enqueue(i)\n",
    "    T1[j] = Q.dequeue()[1]\n",
    "\n",
    "print (T1)"
   ]
  },
  {
   "cell_type": "code",
   "execution_count": 19,
   "metadata": {},
   "outputs": [
    {
     "data": {
      "image/png": "[encoded data removed]",
      "text/plain": [
       "<Figure size 640x480 with 1 Axes>"
      ]
     },
     "metadata": {},
     "output_type": "display_data"
    }
   ],
   "source": [
    "plot1 = pd.DataFrame()\n",
    "plot1['T1'] = T1    #A los resultados se los incluye en un DataFrame para visualizarlos\n",
    "plot1['n'] = n\n",
    "\n",
    "#Plot\n",
    "plot1.plot(x='n', y= ['T1'])\n",
    "plt.grid()"
   ]
  },
  {
   "cell_type": "markdown",
   "metadata": {},
   "source": [
    "Como se puede observar, la linea de tendencia es lineal como se predijo por lo tanto la complejidad de Dequeue es $O(n)$, el máximo de complejidad se alcanza cuando el stack interno se encuentra lleno ya que se debe hacer el paso de todas las variables a otro stack temporal. En ese caso la complejidad es $2n$. Por otro lado, la implementación de la clase tiene una complejidad $n$, de esta forma, esta implementación en todos los casos es mejor que la realizada con Stacks. Finalmente, para el método dequeue, es mejor el uso de arreglos como estructura de dato antes que stacks. Esto se debe a la complejidad e incoapacidad al solo poder manipular el valor más externo de la fila."
   ]
  },
  {
   "cell_type": "markdown",
   "metadata": {},
   "source": [
    "### 4. Complete the PriorityQueue class, so that when we call `dequeue`, the element with the highest priority will be returned. Analyze the complexity of runtime and memory of the `enqueue` and `dequeue` methods."
   ]
  },
  {
   "cell_type": "markdown",
   "metadata": {},
   "source": [
    "A = [4, 2, 7, 5, 9]  # O(n^2)\n",
    "\n",
    "B = [1, 3, 4, 5]\n",
    "insert 2 in B, such that B is still sorted \n",
    "Not O(n^2)"
   ]
  }
 ],
 "metadata": {
  "kernelspec": {
   "display_name": "Python 3.10.1 64-bit",
   "language": "python",
   "name": "python3"
  },
  "language_info": {
   "codemirror_mode": {
    "name": "ipython",
    "version": 3
   },
   "file_extension": ".py",
   "mimetype": "text/x-python",
   "name": "python",
   "nbconvert_exporter": "python",
   "pygments_lexer": "ipython3",
   "version": "3.10.1"
  },
  "orig_nbformat": 4,
  "vscode": {
   "interpreter": {
    "hash": "5726e28a2f93f624e13654f4187f1c65de1ba509691958bda5f0f5587a78bdd1"
   }
  }
 },
 "nbformat": 4,
 "nbformat_minor": 2
}
