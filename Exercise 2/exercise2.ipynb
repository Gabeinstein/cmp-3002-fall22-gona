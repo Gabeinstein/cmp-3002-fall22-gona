{
 "cells": [
  {
   "cell_type": "code",
   "execution_count": null,
   "metadata": {},
   "outputs": [],
   "source": [
    "def suma(n):\n",
    "    suma = 0\n",
    "    n_operations = 0\n",
    "    for i in range (1,n):\n",
    "        suma = suma + i\n",
    "        n_operations = n_operations + 1\n",
    "    print(\"Numero de Operaciones: {}\" .format(n_operations))\n",
    "    return suma\n",
    "\n",
    "print(suma(5))"
   ]
  }
 ],
 "metadata": {
  "kernelspec": {
   "display_name": "Python 3.10.1 64-bit",
   "language": "python",
   "name": "python3"
  },
  "language_info": {
   "name": "python",
   "version": "3.10.1"
  },
  "orig_nbformat": 4,
  "vscode": {
   "interpreter": {
    "hash": "5726e28a2f93f624e13654f4187f1c65de1ba509691958bda5f0f5587a78bdd1"
   }
  }
 },
 "nbformat": 4,
 "nbformat_minor": 2
}
