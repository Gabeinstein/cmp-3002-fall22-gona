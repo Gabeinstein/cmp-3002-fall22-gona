{
 "cells": [
  {
   "cell_type": "code",
   "execution_count": 6,
   "metadata": {},
   "outputs": [
    {
     "name": "stdout",
     "output_type": "stream",
     "text": [
      "True\n"
     ]
    }
   ],
   "source": [
    "import numpy as np\n",
    "\n",
    "def is_mountain(M):\n",
    "    mountain = False\n",
    "    peak = False\n",
    "    for i in range(1,len(M)-1):\n",
    "        if (M[i] < M[i-1]) and (peak == False) :\n",
    "            peak = True\n",
    "\n",
    "        if (peak == True) and (M[i] < M[i-1]):\n",
    "            mountain = True\n",
    "        else:\n",
    "            mountain = False\n",
    "\n",
    "    return mountain\n",
    "\n",
    "M = np.array([2,3,4,4,3,2])\n",
    "print(is_mountain(M))\n",
    " "
   ]
  }
 ],
 "metadata": {
  "kernelspec": {
   "display_name": "Python 3.10.1 64-bit",
   "language": "python",
   "name": "python3"
  },
  "language_info": {
   "codemirror_mode": {
    "name": "ipython",
    "version": 3
   },
   "file_extension": ".py",
   "mimetype": "text/x-python",
   "name": "python",
   "nbconvert_exporter": "python",
   "pygments_lexer": "ipython3",
   "version": "3.10.1"
  },
  "orig_nbformat": 4,
  "vscode": {
   "interpreter": {
    "hash": "5726e28a2f93f624e13654f4187f1c65de1ba509691958bda5f0f5587a78bdd1"
   }
  }
 },
 "nbformat": 4,
 "nbformat_minor": 2
}
