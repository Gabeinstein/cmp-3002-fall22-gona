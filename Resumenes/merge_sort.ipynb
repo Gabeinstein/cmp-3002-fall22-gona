{
 "cells": [
  {
   "cell_type": "code",
   "execution_count": 13,
   "metadata": {},
   "outputs": [],
   "source": [
    "#Merge Sort\n",
    "def merge_sort(array):\n",
    "    #Base Case\n",
    "    if len(array) == 1:\n",
    "        return array\n",
    "\n",
    "    array1 = merge_sort(array[0:(len(array)//2)])\n",
    "    array2 = merge_sort(array[(len(array)//2):])\n",
    "    return merge_two_arrays(array1,array2)\n",
    "\n",
    "def merge_two_arrays(array1,array2):\n",
    "    pointer1 = 0\n",
    "    pointer2 = 0\n",
    "    res = []\n",
    "    while (pointer1 < len(array1) and pointer2 < len(array2)):\n",
    "        if (array1[pointer1] > array2[pointer2]):\n",
    "            res.append(array2[pointer2])\n",
    "            pointer2 += 1\n",
    "        else:\n",
    "            res.append(array1[pointer1])\n",
    "            pointer1 += 1\n",
    "\n",
    "    res.extend(array1[pointer1:])\n",
    "    res.extend(array2[pointer2:])\n",
    "    return res\n",
    "    "
   ]
  },
  {
   "cell_type": "code",
   "execution_count": 14,
   "metadata": {},
   "outputs": [
    {
     "data": {
      "text/plain": [
       "[1, 2, 3, 5, 7]"
      ]
     },
     "execution_count": 14,
     "metadata": {},
     "output_type": "execute_result"
    }
   ],
   "source": [
    "A = [5,1,3,2,7]\n",
    "merge_sort(A)"
   ]
  },
  {
   "cell_type": "code",
   "execution_count": 15,
   "metadata": {},
   "outputs": [
    {
     "data": {
      "text/plain": [
       "9"
      ]
     },
     "execution_count": 15,
     "metadata": {},
     "output_type": "execute_result"
    }
   ],
   "source": [
    "def digits(num):\n",
    "    if num < 10:\n",
    "        return 1\n",
    "\n",
    "    return 1 + digits(num//10)\n",
    "\n",
    "digits(123456789)"
   ]
  },
  {
   "cell_type": "code",
   "execution_count": 19,
   "metadata": {},
   "outputs": [
    {
     "data": {
      "text/plain": [
       "[3, 5, 10, 12, 21]"
      ]
     },
     "execution_count": 19,
     "metadata": {},
     "output_type": "execute_result"
    }
   ],
   "source": [
    "def posiciones_de(palabra,buscar):\n",
    "    posiciones = posiciones_recursiva(palabra,buscar)\n",
    "    res = []\n",
    "    for i in range(len(posiciones)):\n",
    "        if (posiciones[i] == '1'):\n",
    "            res.append(i)\n",
    "    return res\n",
    "\n",
    "def posiciones_recursiva(palabra,buscar):\n",
    "    if len(palabra) == len(buscar):\n",
    "        if palabra == buscar:\n",
    "            return '1'\n",
    "    posiciones = ''\n",
    "    if palabra[0:len(buscar)] == buscar:\n",
    "        posiciones += '1'\n",
    "    else:\n",
    "        posiciones += '0'\n",
    "\n",
    "    posiciones += posiciones_recursiva(palabra[1:],buscar)\n",
    "\n",
    "    return posiciones\n",
    "\n",
    "posiciones_de(\"Un tete a tete con Tete\",\"te\")"
   ]
  }
 ],
 "metadata": {
  "kernelspec": {
   "display_name": "Python 3",
   "language": "python",
   "name": "python3"
  },
  "language_info": {
   "codemirror_mode": {
    "name": "ipython",
    "version": 3
   },
   "file_extension": ".py",
   "mimetype": "text/x-python",
   "name": "python",
   "nbconvert_exporter": "python",
   "pygments_lexer": "ipython3",
   "version": "3.11.1 (tags/v3.11.1:a7a450f, Dec  6 2022, 19:58:39) [MSC v.1934 64 bit (AMD64)]"
  },
  "orig_nbformat": 4,
  "vscode": {
   "interpreter": {
    "hash": "1846d430b8201b112909cb8db19a1c223cc490a219f14ab9ef77186224006934"
   }
  }
 },
 "nbformat": 4,
 "nbformat_minor": 2
}
