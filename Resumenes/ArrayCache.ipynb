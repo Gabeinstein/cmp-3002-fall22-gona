{
 "cells": [
  {
   "cell_type": "code",
   "execution_count": 35,
   "metadata": {},
   "outputs": [],
   "source": [
    "import ctypes\n",
    "#insertion sort with the special case A[i] == 0, dont sort\n",
    "def insertion_sort(A):\n",
    "    for j in range(1,len(A)):\n",
    "        if A[j] != 0:\n",
    "            temp = A[j] \n",
    "            i = j-1\n",
    "            while i >= 0 and A[i] > temp and A[i] != 0:\n",
    "                A[i+1] = A[i]\n",
    "                i -= 1\n",
    "            A[i+1] = temp\n",
    "\n",
    "def Fibonacci(n):\n",
    "    #cache = []\n",
    "    A = ((n+1)*ctypes.py_object)()\n",
    "    for i in range(n+1):\n",
    "        A[i] = 0\n",
    "\n",
    "    def recursive_fibonacci(n):\n",
    "        insertion_sort(A)\n",
    "        if A[n] != 0:   #If A[n] is saved the fibonacci value\n",
    "            return A[n]\n",
    "        \n",
    "        if n == 0:\n",
    "            res = 0\n",
    "        elif n == 1:\n",
    "            res = 1\n",
    "        else:\n",
    "            res = recursive_fibonacci(n-1) + recursive_fibonacci(n-2)\n",
    "        \n",
    "        #cache[n] = res\n",
    "        A[n] = res        \n",
    "        return res\n",
    "    return recursive_fibonacci(n)\n",
    "    "
   ]
  },
  {
   "cell_type": "code",
   "execution_count": 36,
   "metadata": {},
   "outputs": [
    {
     "data": {
      "text/plain": [
       "4181"
      ]
     },
     "execution_count": 36,
     "metadata": {},
     "output_type": "execute_result"
    }
   ],
   "source": [
    "Fibonacci(19)"
   ]
  }
 ],
 "metadata": {
  "kernelspec": {
   "display_name": "Python 3.10.1 64-bit",
   "language": "python",
   "name": "python3"
  },
  "language_info": {
   "codemirror_mode": {
    "name": "ipython",
    "version": 3
   },
   "file_extension": ".py",
   "mimetype": "text/x-python",
   "name": "python",
   "nbconvert_exporter": "python",
   "pygments_lexer": "ipython3",
   "version": "3.10.1"
  },
  "orig_nbformat": 4,
  "vscode": {
   "interpreter": {
    "hash": "5726e28a2f93f624e13654f4187f1c65de1ba509691958bda5f0f5587a78bdd1"
   }
  }
 },
 "nbformat": 4,
 "nbformat_minor": 2
}
