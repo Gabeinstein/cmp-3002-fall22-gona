{
 "cells": [
  {
   "cell_type": "code",
   "execution_count": 2,
   "metadata": {},
   "outputs": [],
   "source": [
    "import math"
   ]
  },
  {
   "attachments": {},
   "cell_type": "markdown",
   "metadata": {},
   "source": [
    "### Estructuras de Datos"
   ]
  },
  {
   "attachments": {},
   "cell_type": "markdown",
   "metadata": {},
   "source": [
    "Árboles"
   ]
  },
  {
   "cell_type": "code",
   "execution_count": 3,
   "metadata": {},
   "outputs": [],
   "source": [
    "class TreeNode:\n",
    "    def __init__(self,val = None, left = None, right = None):\n",
    "        self.val = val\n",
    "        self.left = left\n",
    "        self.right = right     "
   ]
  },
  {
   "attachments": {},
   "cell_type": "markdown",
   "metadata": {},
   "source": [
    "Preorder Traversal\n",
    "* Root\n",
    "* Izquierda\n",
    "* Derecha"
   ]
  },
  {
   "cell_type": "code",
   "execution_count": 4,
   "metadata": {},
   "outputs": [],
   "source": [
    "def preorderTraversal(root):\n",
    "    if not root:\n",
    "        return []\n",
    "\n",
    "    out = [root.val]\n",
    "    out += preorderTraversal(root.left)\n",
    "    out += preorderTraversal(root.right)\n",
    "\n",
    "    return out"
   ]
  },
  {
   "attachments": {},
   "cell_type": "markdown",
   "metadata": {},
   "source": [
    "Implementación con Stacks"
   ]
  },
  {
   "cell_type": "code",
   "execution_count": 5,
   "metadata": {},
   "outputs": [],
   "source": [
    "def preorderTraversal(root):\n",
    "    if not root:\n",
    "        return []\n",
    "\n",
    "    stack = [root]\n",
    "    out = []\n",
    "\n",
    "    while stack:\n",
    "        node = stack.pop()\n",
    "        if node:\n",
    "            out.append(node.val)\n",
    "            for child in [node.right,node.left]:\n",
    "                if child:\n",
    "                    stack.append(child)\n",
    "\n",
    "    return out"
   ]
  },
  {
   "attachments": {},
   "cell_type": "markdown",
   "metadata": {},
   "source": [
    "In-Order Traversal\n",
    "* Izquierda\n",
    "* Root\n",
    "* Derecha"
   ]
  },
  {
   "cell_type": "code",
   "execution_count": 6,
   "metadata": {},
   "outputs": [],
   "source": [
    "def inorderTraversal(root):\n",
    "    if not root:\n",
    "        return []\n",
    "\n",
    "    out = []\n",
    "    out += inorderTraversal(root.left)\n",
    "    out += [root.val]\n",
    "    out += inorderTraversal(root.right)\n",
    "\n",
    "    return out\n",
    "  "
   ]
  },
  {
   "attachments": {},
   "cell_type": "markdown",
   "metadata": {},
   "source": [
    "Implementación Stacks"
   ]
  },
  {
   "cell_type": "code",
   "execution_count": 7,
   "metadata": {},
   "outputs": [],
   "source": [
    "def inorderTraversal(root):\n",
    "    if not root:\n",
    "        return []\n",
    "    \n",
    "    node = root\n",
    "    stack = []\n",
    "    out = []\n",
    "    \n",
    "    while stack or node: \n",
    "        while node:\n",
    "            stack.append(node)\n",
    "            node = node.left\n",
    "        node = stack.pop()\n",
    "        out.append(node.val)   \n",
    "        node = node.right \n",
    "    \n",
    "    return out\n",
    "        "
   ]
  },
  {
   "attachments": {},
   "cell_type": "markdown",
   "metadata": {},
   "source": [
    "Post-Order Traversal\n",
    "* Izquierda\n",
    "* Derecha \n",
    "* Root"
   ]
  },
  {
   "cell_type": "code",
   "execution_count": 8,
   "metadata": {},
   "outputs": [],
   "source": [
    "def postorderTraversal(root):\n",
    "    if not root:\n",
    "        return []\n",
    "\n",
    "    out = []\n",
    "    out += postorderTraversal(root.left)\n",
    "    out += postorderTraversal(root.right)\n",
    "    out += [root.val]\n",
    "\n",
    "    return out"
   ]
  },
  {
   "attachments": {},
   "cell_type": "markdown",
   "metadata": {},
   "source": [
    "Implementación con Stacks"
   ]
  },
  {
   "cell_type": "code",
   "execution_count": 9,
   "metadata": {},
   "outputs": [],
   "source": [
    "def postorderTraversal(root):\n",
    "    if root is None:\n",
    "        return []\n",
    "\n",
    "    stack = []\n",
    "    node = root\n",
    "    out = []\n",
    "\n",
    "    while True:\n",
    "        while node:\n",
    "            if node.right:\n",
    "                stack.append(node.right)\n",
    "            stack.append(node)\n",
    "            node = node.left\n",
    "\n",
    "        node = stack.pop()\n",
    "\n",
    "        if node.right and stack and node.right == stack[-1]:\n",
    "            r = stack.pop()\n",
    "            stack.append(node)\n",
    "            node = r\n",
    "        else:\n",
    "            out.append(node.val)\n",
    "            node = None\n",
    "\n",
    "        if not stack:\n",
    "            break\n",
    "        \n",
    "    return out"
   ]
  },
  {
   "cell_type": "code",
   "execution_count": 26,
   "metadata": {},
   "outputs": [
    {
     "name": "stdout",
     "output_type": "stream",
     "text": [
      "[4, 2, 6, 5, 8]\n",
      "[2, 4, 5, 6, 8]\n",
      "[2, 5, 8, 6, 4]\n"
     ]
    }
   ],
   "source": [
    "A = TreeNode(4)\n",
    "B = TreeNode(2)\n",
    "C = TreeNode(6)\n",
    "D = TreeNode(5)\n",
    "E = TreeNode(8)\n",
    "\n",
    "A.left = B\n",
    "A.right = C\n",
    "C.left = D\n",
    "C.right = E\n",
    "\n",
    "print(preorderTraversal(A))\n",
    "print(inorderTraversal(A))\n",
    "print(postorderTraversal(A))"
   ]
  },
  {
   "attachments": {},
   "cell_type": "markdown",
   "metadata": {},
   "source": [
    "Depth of a tree"
   ]
  },
  {
   "attachments": {},
   "cell_type": "markdown",
   "metadata": {},
   "source": [
    "Top to Bottom\n",
    "* Visit the first node\n",
    "* Calculate and send a value to the childs\n",
    "* The global value will be the answer"
   ]
  },
  {
   "cell_type": "code",
   "execution_count": 11,
   "metadata": {},
   "outputs": [],
   "source": [
    "def max_depth_rec(root,depth):\n",
    "    global answer\n",
    "    if not root:\n",
    "        return \n",
    "    if (not root.left) and (not root.right):\n",
    "        answer = max(answer,depth)\n",
    "    max_depth_rec(root.left,depth + 1)\n",
    "    max_depth_rec(root.right,depth + 1)"
   ]
  },
  {
   "cell_type": "code",
   "execution_count": 12,
   "metadata": {},
   "outputs": [
    {
     "name": "stdout",
     "output_type": "stream",
     "text": [
      "2\n"
     ]
    }
   ],
   "source": [
    "answer = 0 \n",
    "max_depth_rec(A,0)\n",
    "print(answer)"
   ]
  },
  {
   "attachments": {},
   "cell_type": "markdown",
   "metadata": {},
   "source": [
    "Bottom down\n",
    "* Visit the first node\n",
    "* Call recursive function\n",
    "* Calculate the answer based on the returned recursive"
   ]
  },
  {
   "attachments": {},
   "cell_type": "markdown",
   "metadata": {},
   "source": [
    "root tiene profundidad 0"
   ]
  },
  {
   "cell_type": "code",
   "execution_count": 13,
   "metadata": {},
   "outputs": [],
   "source": [
    "def max_depth_rec(root):\n",
    "    if not root:\n",
    "        return 0\n",
    "    if (not root.left) and (not root.right):\n",
    "        return 0\n",
    "\n",
    "    depth_left = max_depth_rec(root.left) + 1\n",
    "    depth_right = max_depth_rec(root.right) + 1\n",
    "    \n",
    "    return max(depth_left,depth_right)"
   ]
  },
  {
   "cell_type": "code",
   "execution_count": 14,
   "metadata": {},
   "outputs": [
    {
     "data": {
      "text/plain": [
       "2"
      ]
     },
     "execution_count": 14,
     "metadata": {},
     "output_type": "execute_result"
    }
   ],
   "source": [
    "max_depth_rec(A)"
   ]
  },
  {
   "attachments": {},
   "cell_type": "markdown",
   "metadata": {},
   "source": [
    "Binary Search Trees\n",
    "\n",
    "Los valores de la rama izquierda deben ser menores a los valores de la rama derecha.\n",
    "\n",
    "Verificación:\n",
    "* In order debe ser ascendente "
   ]
  },
  {
   "cell_type": "code",
   "execution_count": 15,
   "metadata": {},
   "outputs": [],
   "source": [
    "def valid_BST(root,low = -math.inf,high = math.inf):\n",
    "    if not root:\n",
    "        return True\n",
    "    if not root.left and not root.right:\n",
    "        return True\n",
    "    if root.val <= low or root.val >= high:\n",
    "        return False\n",
    "    \n",
    "    return valid_BST(root.left) and valid_BST(root.right)\n"
   ]
  },
  {
   "cell_type": "code",
   "execution_count": 16,
   "metadata": {},
   "outputs": [
    {
     "data": {
      "text/plain": [
       "True"
      ]
     },
     "execution_count": 16,
     "metadata": {},
     "output_type": "execute_result"
    }
   ],
   "source": [
    "valid_BST(A)"
   ]
  },
  {
   "attachments": {},
   "cell_type": "markdown",
   "metadata": {},
   "source": [
    "Balanceado es que tenga el mismo número de elementos a la derecha que a la izquierda."
   ]
  },
  {
   "attachments": {},
   "cell_type": "markdown",
   "metadata": {},
   "source": [
    "Search in BST"
   ]
  },
  {
   "attachments": {},
   "cell_type": "markdown",
   "metadata": {},
   "source": [
    "Recursiva"
   ]
  },
  {
   "cell_type": "code",
   "execution_count": 17,
   "metadata": {},
   "outputs": [],
   "source": [
    "def search_BST(root, value):\n",
    "    if not root or value == root.val:\n",
    "        return root\n",
    "    elif(value < root.val):\n",
    "        return search_BST(root.left,value)\n",
    "    else:\n",
    "        return search_BST(root.right,value)"
   ]
  },
  {
   "attachments": {},
   "cell_type": "markdown",
   "metadata": {},
   "source": [
    "Iterativa"
   ]
  },
  {
   "cell_type": "code",
   "execution_count": 18,
   "metadata": {},
   "outputs": [],
   "source": [
    "def search_BST(root,value):\n",
    "    node = root\n",
    "    while node and node.val != value:\n",
    "        if value < node.val:\n",
    "            node = node.left\n",
    "        else:\n",
    "            node = node.right\n",
    "\n",
    "    return node"
   ]
  },
  {
   "cell_type": "code",
   "execution_count": 19,
   "metadata": {},
   "outputs": [
    {
     "data": {
      "text/plain": [
       "5"
      ]
     },
     "execution_count": 19,
     "metadata": {},
     "output_type": "execute_result"
    }
   ],
   "source": [
    "search_BST(A,5).val"
   ]
  },
  {
   "attachments": {},
   "cell_type": "markdown",
   "metadata": {},
   "source": [
    "Insertion in a BST\n",
    "* Minimize the number of changes.\n",
    "* Se debe encontrar el lugar donde se debe insertar.\n",
    "* Y se debe decidir si se inserta a la dercha o la izquierda."
   ]
  },
  {
   "cell_type": "code",
   "execution_count": 20,
   "metadata": {},
   "outputs": [],
   "source": [
    "def insertion_BST(root,value):\n",
    "    if not root:\n",
    "        return TreeNode(value)\n",
    "    if root.val > value:\n",
    "        root.left = insertion_BST(root.left,value)\n",
    "    else:\n",
    "        root.right = insertion_BST(root.right,value)\n",
    "\n",
    "    return root"
   ]
  },
  {
   "cell_type": "code",
   "execution_count": 27,
   "metadata": {},
   "outputs": [
    {
     "data": {
      "text/plain": [
       "[2, 4, 5, 6, 7.5, 8, 9]"
      ]
     },
     "execution_count": 27,
     "metadata": {},
     "output_type": "execute_result"
    }
   ],
   "source": [
    "insertion_BST(A,9)\n",
    "insertion_BST(A,7.5)\n",
    "\n",
    "#preorderTraversal(A)\n",
    "inorderTraversal(A)"
   ]
  },
  {
   "attachments": {},
   "cell_type": "markdown",
   "metadata": {},
   "source": [
    "Delation in BST\n",
    "* Si es nodo externo solo se borra.\n",
    "* Si es nodo con 1 hijo, se debe pasar el hijo al padre del que borramos\n",
    "* Si tiene 2 hijos, se remplaza el nodo con su in order sucesor o predecesor."
   ]
  },
  {
   "attachments": {},
   "cell_type": "markdown",
   "metadata": {},
   "source": [
    "In order: 2 4 5 6 7.5 8 9\n",
    "\n",
    "Si quiero borrar el 6 debo remplazarlo o con el 5 o con el 7.5"
   ]
  },
  {
   "attachments": {},
   "cell_type": "markdown",
   "metadata": {},
   "source": [
    "Para llegar al predecesor se debe llegar al nodo, ir una vez a la izquierda y todo a la derecha.\n",
    "\n",
    "En cambio para el sucesor, se debe llegar al nodo, ir una vez a la derecha y todo a la izquierda."
   ]
  },
  {
   "attachments": {},
   "cell_type": "markdown",
   "metadata": {},
   "source": [
    "Predecesor"
   ]
  },
  {
   "cell_type": "code",
   "execution_count": 42,
   "metadata": {},
   "outputs": [],
   "source": [
    "def predecesor(root):    \n",
    "    root = root.left\n",
    "    while root.right:\n",
    "        root = root.right\n",
    "    \n",
    "    return root.val"
   ]
  },
  {
   "attachments": {},
   "cell_type": "markdown",
   "metadata": {},
   "source": [
    "Sucesor"
   ]
  },
  {
   "cell_type": "code",
   "execution_count": 43,
   "metadata": {},
   "outputs": [],
   "source": [
    "def sucesor(root):\n",
    "    root = root.right\n",
    "    while root.left:\n",
    "        root = root.left\n",
    "    \n",
    "    return root.val"
   ]
  },
  {
   "cell_type": "code",
   "execution_count": 48,
   "metadata": {},
   "outputs": [],
   "source": [
    "def delete_BST(root,val):\n",
    "    if not root:\n",
    "        return None\n",
    "\n",
    "    #Left Tree\n",
    "    if root.val > val:\n",
    "        root.left = delete_BST(root.left,val)\n",
    "    #Right Tree\n",
    "    elif root.val < val:\n",
    "        root.right = delete_BST(root.right,val)\n",
    "\n",
    "    else:\n",
    "        #Case 1\n",
    "        if not root.left and not root.right:\n",
    "            root = None\n",
    "        #Case right (Case 2 y 3)\n",
    "        elif root.right:\n",
    "            root.val = sucesor(root)\n",
    "            root.right = delete_BST(root.right,root.val)\n",
    "        #Case left and no right \n",
    "        else:\n",
    "            root.val = predecesor(root)\n",
    "            root.left = delete_BST(root.left,root.val)\n",
    "\n",
    "    return root"
   ]
  },
  {
   "cell_type": "code",
   "execution_count": 49,
   "metadata": {},
   "outputs": [
    {
     "data": {
      "text/plain": [
       "[2, 4, 5, 6, 8]"
      ]
     },
     "execution_count": 49,
     "metadata": {},
     "output_type": "execute_result"
    }
   ],
   "source": [
    "A = TreeNode(4)\n",
    "B = TreeNode(2)\n",
    "C = TreeNode(6)\n",
    "D = TreeNode(5)\n",
    "E = TreeNode(8)\n",
    "\n",
    "A.left = B\n",
    "A.right = C\n",
    "C.left = D\n",
    "C.right = E\n",
    "\n",
    "inorderTraversal(A)"
   ]
  },
  {
   "cell_type": "code",
   "execution_count": 50,
   "metadata": {},
   "outputs": [
    {
     "data": {
      "text/plain": [
       "[2, 4, 5, 8]"
      ]
     },
     "execution_count": 50,
     "metadata": {},
     "output_type": "execute_result"
    }
   ],
   "source": [
    "delete_BST(A,6)\n",
    "inorderTraversal(A)"
   ]
  },
  {
   "attachments": {},
   "cell_type": "markdown",
   "metadata": {},
   "source": [
    "Height Balanced BST\n",
    "* Automáticamente deja al árbol lo más pequeño posible.\n",
    "* La altura es siempre $log(n)$\n",
    "* La altura de dos subárboles no difiere en más de 1.\n",
    "\n",
    "Algoritmos:\n",
    "* Red-black tree\n",
    "* AVL tree\n",
    "* Splay tree\n",
    "* Treap"
   ]
  },
  {
   "attachments": {},
   "cell_type": "markdown",
   "metadata": {},
   "source": [
    "Hash Tables\n",
    "* Organiza data con fast insertion and search.\n",
    "\n",
    "Dos tipos:\n",
    "* Hash set\n",
    "* Hash map\n",
    "\n",
    "Hash set:\n",
    "key = F(0)\n",
    "content = 0\n",
    "\n",
    "La busqueda es constante:\n",
    "* F es el hash function\n",
    "\n",
    "Calculo F(0) -> O(1)\n",
    "\n",
    "Voy a F(0) -> O(1)\n",
    "\n",
    "\n",
    "Total O(1)\n",
    "\n",
    "Si el F no es inyectiva, se agrega en el contenido de F que se repite, se puede hacer una lista enlazada. Y de igual forma se reduce la complejidad de la búsqueda.\n",
    "\n",
    "* Hash map = dictionary\n",
    "En Hash map se define el key y el value. Python calcula el Hash function.\n",
    "\n",
    "* Hash set = se define una lista pero con llaves. Si se repite un elemento con llaves, se elimina."
   ]
  },
  {
   "cell_type": "code",
   "execution_count": 55,
   "metadata": {},
   "outputs": [
    {
     "name": "stdout",
     "output_type": "stream",
     "text": [
      "{'A', 'J', 'L'}\n",
      "{'Ju': 'Juan', 'Jo': 'Joha', 'Al': 'Alex'}\n"
     ]
    }
   ],
   "source": [
    "Hash_map = {'Ju':'Juan', 'Jo':'Joha', 'Al':'Alex'}\n",
    "\n",
    "Hash_set = {'J','A','L','J'}\n",
    "\n",
    "print (Hash_set)\n",
    "print (Hash_map)"
   ]
  },
  {
   "attachments": {},
   "cell_type": "markdown",
   "metadata": {},
   "source": [
    "Como el tamaño del output es limitado, dos entradas similares pueden crear la misma función. Se llama colisión.\n",
    "\n",
    "Lo que se debe hacer es usar una estructura de dato en el contenido de la hash function."
   ]
  },
  {
   "cell_type": "code",
   "execution_count": 63,
   "metadata": {},
   "outputs": [],
   "source": [
    "class Node:\n",
    "    def __init__(self, value, next_node = None):\n",
    "        self.value = value\n",
    "        self.next_node = next_node\n",
    "\n",
    "class Bucket():\n",
    "    def __init__(self):\n",
    "        self.head = Node(0)\n",
    "    def insert(self,value):\n",
    "        if not self.exists(value):\n",
    "            node = Node(value,self.head.next_node)\n",
    "            if self.head.next_node:\n",
    "                node.next_node= self.head.next_node\n",
    "            self.head.next_node = node\n",
    "\n",
    "    def delete(self, value):\n",
    "        prev = self.head\n",
    "        curr = self.head.next_node\n",
    "        while curr:\n",
    "            if curr.value == value:\n",
    "                prev.next_node = curr.next_node\n",
    "                return\n",
    "            prev = curr\n",
    "            curr = curr.next_node\n",
    "\n",
    "    def exists(self,value):\n",
    "        curr = self.head.next_node\n",
    "        while curr:\n",
    "            if curr.value == value:\n",
    "                return True\n",
    "            curr = curr.next_node\n",
    "        return False"
   ]
  },
  {
   "cell_type": "code",
   "execution_count": null,
   "metadata": {},
   "outputs": [],
   "source": [
    "class HashSet(object):\n",
    "    def __init__(self):\n",
    "        self.keyRange = 987\n",
    "        self.bucketArray = [Bucket() for i in range(self.keyRange)]\n",
    "\n",
    "    def _hash(self,key):\n",
    "        return key % self.keyRange\n",
    "\n",
    "    def add(self, key):\n",
    "        bucketIndex = self._hash(key)\n",
    "        self.bucketArray[bucketIndex].insert(key)\n",
    "\n",
    "    def remove(self, key):\n",
    "        bucketIndex = self._hash(key)\n",
    "        self.bucketArray[bucketIndex].delete(key)\n",
    "\n",
    "    def contains(self, key):\n",
    "        bucketIndex = self._hash(key)\n",
    "        return self.bucketArray[bucketIndex].exists(key)"
   ]
  },
  {
   "attachments": {},
   "cell_type": "markdown",
   "metadata": {},
   "source": [
    "Hash-Map"
   ]
  },
  {
   "cell_type": "code",
   "execution_count": null,
   "metadata": {},
   "outputs": [],
   "source": [
    "class Bucket():\n",
    "    def __init__(self):\n",
    "        self.bucket = []\n",
    "\n",
    "    def get(self,key):\n",
    "        for (k,v) in self.bucket:\n",
    "            if k ==key:\n",
    "                return v\n",
    "        return -1\n",
    "\n",
    "    def update(self, key, value):\n",
    "        found = False\n",
    "        for i in range(len(self.bucket)):\n",
    "            kv = self.bucket[i]\n",
    "            if key == kv[0]:\n",
    "                self.bucket[i] = (key,value)\n",
    "                found = True\n",
    "                break\n",
    "        if not found:\n",
    "            self.bucket.append((key,value))\n",
    "\n",
    "    def remove(self,key):\n",
    "        for i in range(len(self.bucket)):\n",
    "            kv = self.bucket[i]\n",
    "            if key == kv[0]:\n",
    "                del self.bucket[i]"
   ]
  },
  {
   "cell_type": "code",
   "execution_count": null,
   "metadata": {},
   "outputs": [],
   "source": [
    "class HashMap(object):\n",
    "    def __init__(self) -> None:\n",
    "        self.n = 2000\n",
    "        self.hash_table = [Bucket() for i in range(self.n)]\n",
    "    \n",
    "    def put(self, key, value):\n",
    "        hash_key = key % self.n\n",
    "        self.hash_table[hash_key].update(key,value)\n",
    "\n",
    "    def get(self, key):\n",
    "        hash_key = key% self.n\n",
    "        self.hash_table[hash_key].get(key)\n",
    "\n",
    "    def remove(self, key):\n",
    "        hash_key = key% self.n\n",
    "        self.hash_table[hash_key].remove(key)"
   ]
  },
  {
   "attachments": {},
   "cell_type": "markdown",
   "metadata": {},
   "source": [
    "Construct a tree from inorder and preorder list"
   ]
  },
  {
   "cell_type": "code",
   "execution_count": 77,
   "metadata": {},
   "outputs": [],
   "source": [
    "def construccion(preorder,inorder):\n",
    "    if not preorder or not inorder:\n",
    "        return None\n",
    "    pre_stack = []\n",
    "    for i in range (len(preorder)):\n",
    "        pre_stack.append(preorder.pop())\n",
    "    return construir_rec(pre_stack,inorder)\n",
    "\n",
    "def construir_rec(pre,ino):\n",
    "    if not ino:\n",
    "        return None\n",
    "\n",
    "    root = TreeNode(pre.pop())\n",
    "    pivot = -1\n",
    "    for i in range(len(ino)):\n",
    "        if ino[i] == root.val:\n",
    "            pivot = i\n",
    "            break\n",
    "    if pivot > -1:\n",
    "        left = ino[:pivot]\n",
    "        root.left = construir_rec(pre,left)\n",
    "        right = ino[pivot+1:]\n",
    "        root.right = construir_rec(pre,right)\n",
    "\n",
    "    return root\n"
   ]
  },
  {
   "cell_type": "code",
   "execution_count": 80,
   "metadata": {},
   "outputs": [
    {
     "data": {
      "text/plain": [
       "['A', 'B', 'C', 'D', 'E', 'F', 'G', 'H', 'I']"
      ]
     },
     "execution_count": 80,
     "metadata": {},
     "output_type": "execute_result"
    }
   ],
   "source": [
    "preorder = ['A','B','C','D','E','F','G','H','I']\n",
    "inorder = ['C','B','D','A','F','E','H','G', 'I']\n",
    "\n",
    "preorderTraversal(construccion(preorder,inorder))"
   ]
  }
 ],
 "metadata": {
  "kernelspec": {
   "display_name": "Python 3",
   "language": "python",
   "name": "python3"
  },
  "language_info": {
   "codemirror_mode": {
    "name": "ipython",
    "version": 3
   },
   "file_extension": ".py",
   "mimetype": "text/x-python",
   "name": "python",
   "nbconvert_exporter": "python",
   "pygments_lexer": "ipython3",
   "version": "3.11.1 (tags/v3.11.1:a7a450f, Dec  6 2022, 19:58:39) [MSC v.1934 64 bit (AMD64)]"
  },
  "orig_nbformat": 4,
  "vscode": {
   "interpreter": {
    "hash": "1846d430b8201b112909cb8db19a1c223cc490a219f14ab9ef77186224006934"
   }
  }
 },
 "nbformat": 4,
 "nbformat_minor": 2
}
