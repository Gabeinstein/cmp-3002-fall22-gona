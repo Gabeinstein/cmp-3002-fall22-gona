{
 "cells": [
  {
   "cell_type": "code",
   "execution_count": 6,
   "metadata": {},
   "outputs": [
    {
     "name": "stdout",
     "output_type": "stream",
     "text": [
      "True\n"
     ]
    }
   ],
   "source": [
    "import numpy as np\n",
    "\n",
    "def is_mountain(M):\n",
    "    mountain = False\n",
    "    peak = False\n",
    "    for i in range(1,len(M)-1):\n",
    "        if (M[i] < M[i-1]) and (peak == False) :\n",
    "            peak = True\n",
    "\n",
    "        if (peak == True) and (M[i] < M[i-1]):\n",
    "            mountain = True\n",
    "        else:\n",
    "            mountain = False\n",
    "\n",
    "    return mountain\n",
    "\n",
    "M = np.array([2,3,4,4,3,2])\n",
    "print(is_mountain(M))\n",
    " "
   ]
  }
 ],
 "metadata": {
  "kernelspec": {
   "display_name": "Python 3.11.0 64-bit",
   "language": "python",
   "name": "python3"
  },
  "language_info": {
   "codemirror_mode": {
    "name": "ipython",
    "version": 3
   },
   "file_extension": ".py",
   "mimetype": "text/x-python",
   "name": "python",
   "nbconvert_exporter": "python",
   "pygments_lexer": "ipython3",
   "version": "3.11.0"
  },
  "orig_nbformat": 4,
  "vscode": {
   "interpreter": {
    "hash": "ee593054b775697ebcdebcd71502bb3a0dcf6b9a0f32c8ff4bae36efca48b624"
   }
  }
 },
 "nbformat": 4,
 "nbformat_minor": 2
}
