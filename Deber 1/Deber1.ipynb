{
 "cells": [
  {
   "cell_type": "code",
   "execution_count": 255,
   "metadata": {},
   "outputs": [],
   "source": [
    "import time\n",
    "import pandas as pd\n",
    "import numpy as np\n",
    "import math\n",
    "import matplotlib.pyplot as plt\n",
    "%matplotlib inline  "
   ]
  },
  {
   "cell_type": "code",
   "execution_count": 44,
   "metadata": {},
   "outputs": [],
   "source": [
    "#Decorador para calcular el tiempo de ejecucion de una funcion\n",
    "\n",
    "def calculo_tiempo(funcion):\n",
    "    \"\"\"\n",
    "        En este decorador se crea un arreglo de dos dimensiones,\n",
    "        la primera con el resultado de la funcion y el segundo\n",
    "        con el tiempo de ejecucion de la misma \n",
    "    \"\"\"\n",
    "    def wrapper(*args, **kwargs):\n",
    "        result = [0,0]         \n",
    "        start = 10**6*time.time()\n",
    "        result[0] = funcion(*args, **kwargs)\n",
    "        result[1] = 10**6*time.time() - start\n",
    "        return result  \n",
    "    return wrapper"
   ]
  },
  {
   "cell_type": "markdown",
   "metadata": {},
   "source": [
    "# Homework 1\n",
    "\n",
    "Nombre: Gabriel Oña\n",
    "\n",
    "Clase: Estructura de Datos 2075\n",
    "\n",
    "Código: 00320597"
   ]
  },
  {
   "cell_type": "markdown",
   "metadata": {},
   "source": [
    "### 1. Assume we implemented an algorithm that has complexity approximately $n*log(n)$ . How much faster is this implementation compared to one of complexity $n^2$? "
   ]
  },
  {
   "cell_type": "markdown",
   "metadata": {},
   "source": [
    "Suponiendo que la complejidad del algoritmo 1 es: $O(nlog(n))$ y el algoritmo 2 es $O(n^2)$ en el peor de los casos, se puede graficar la complejidad de ambas funciones."
   ]
  },
  {
   "cell_type": "code",
   "execution_count": 3,
   "metadata": {},
   "outputs": [
    {
     "name": "stderr",
     "output_type": "stream",
     "text": [
      "p:\\Program Files (x86)\\Python\\3.10.1\\lib\\site-packages\\pandas\\core\\arraylike.py:405: RuntimeWarning: divide by zero encountered in log2\n",
      "  result = getattr(ufunc, method)(*inputs, **kwargs)\n"
     ]
    },
    {
     "data": {
      "image/png": "[encoded data removed]",
      "text/plain": [
       "<Figure size 640x480 with 1 Axes>"
      ]
     },
     "metadata": {},
     "output_type": "display_data"
    }
   ],
   "source": [
    "\"\"\"\n",
    "Gráfica de función nlog(n) y n^2\n",
    "Se usa la libreria pandas y matplotlib\n",
    "Como se indicó en clase, la funcion log(n) se la considera como log_2(n)\n",
    "\"\"\"\n",
    "plot1 = pd.DataFrame() #Estructura de datos que permite hacer vectores con identificadores\n",
    "plot1['n'] = np.arange(0,20,1) #Set 'n' en un vector de 0 al 20 en pasos de n = 1\n",
    "plot1['n^2'] = np.power(plot1['n'], 2) #Set 'n^2'\n",
    "plot1['nlog(n)'] = plot1['n'] * np.log2(plot1['n']) #Set 'nlogn'\n",
    "\n",
    "plot1.plot(x='n', y=['nlog(n)', 'n^2']) #Plotting \n",
    "plt.grid()"
   ]
  },
  {
   "cell_type": "markdown",
   "metadata": {},
   "source": [
    "Como podemos observar, la funcion $nlog(n)$ siempre se encuentra por debajo de la curva de la función $n^2$. Por lo tanto, se puede concluir que el algoritmo con $O(nlog(n))$ va a ser más rápido que un algoritmo $O(n^2)$.\n",
    "\n",
    "Finalmente, para obtener cuánto más rápido es el algoritmo $O(nlog(n))$ comparado con $O(n^2)$ hacemos el siguiente cálculo:\n",
    "\n",
    "$$ \\eta = \\frac {algoritmo 1}{algoritmo 2} = \\frac{n^2}{(nlog(n))} = \\frac{n}{log(n)}$$\n",
    "\n",
    "Por lo tanto el algoritmo $O(nlog(n))$ es $\\frac{n}{log(n)}$ veces más rápido que $O(n^2)$."
   ]
  },
  {
   "cell_type": "markdown",
   "metadata": {},
   "source": [
    "## 2. The runtime of an algorithm is captured in the following table:\n",
    "\n",
    "As precissely as possible, estimate the function that describes the growth of the runtime\n"
   ]
  },
  {
   "cell_type": "code",
   "execution_count": 70,
   "metadata": {},
   "outputs": [
    {
     "data": {
      "text/html": [
       "<div>\n",
       "<style scoped>\n",
       "    .dataframe tbody tr th:only-of-type {\n",
       "        vertical-align: middle;\n",
       "    }\n",
       "\n",
       "    .dataframe tbody tr th {\n",
       "        vertical-align: top;\n",
       "    }\n",
       "\n",
       "    .dataframe thead th {\n",
       "        text-align: right;\n",
       "    }\n",
       "</style>\n",
       "<table border=\"1\" class=\"dataframe\">\n",
       "  <thead>\n",
       "    <tr style=\"text-align: right;\">\n",
       "      <th></th>\n",
       "      <th>n</th>\n",
       "      <th>runtime -- T(n)</th>\n",
       "    </tr>\n",
       "  </thead>\n",
       "  <tbody>\n",
       "    <tr>\n",
       "      <th>0</th>\n",
       "      <td>1000.0</td>\n",
       "      <td>0.00</td>\n",
       "    </tr>\n",
       "    <tr>\n",
       "      <th>1</th>\n",
       "      <td>2000.0</td>\n",
       "      <td>0.02</td>\n",
       "    </tr>\n",
       "    <tr>\n",
       "      <th>2</th>\n",
       "      <td>4000.0</td>\n",
       "      <td>0.20</td>\n",
       "    </tr>\n",
       "    <tr>\n",
       "      <th>3</th>\n",
       "      <td>8000.0</td>\n",
       "      <td>0.60</td>\n",
       "    </tr>\n",
       "    <tr>\n",
       "      <th>4</th>\n",
       "      <td>16000.0</td>\n",
       "      <td>2.60</td>\n",
       "    </tr>\n",
       "    <tr>\n",
       "      <th>5</th>\n",
       "      <td>32000.0</td>\n",
       "      <td>10.40</td>\n",
       "    </tr>\n",
       "    <tr>\n",
       "      <th>6</th>\n",
       "      <td>64000.0</td>\n",
       "      <td>41.60</td>\n",
       "    </tr>\n",
       "  </tbody>\n",
       "</table>\n",
       "</div>"
      ],
      "text/plain": [
       "         n  runtime -- T(n)\n",
       "0   1000.0             0.00\n",
       "1   2000.0             0.02\n",
       "2   4000.0             0.20\n",
       "3   8000.0             0.60\n",
       "4  16000.0             2.60\n",
       "5  32000.0            10.40\n",
       "6  64000.0            41.60"
      ]
     },
     "execution_count": 70,
     "metadata": {},
     "output_type": "execute_result"
    }
   ],
   "source": [
    "n = np.array([1000.0,2000.0,4000.0,8000.0,16000.0,32000.0,64000.0])\n",
    "t = np.array([0.0,0.02,0.2,0.6,2.6,10.4,41.6])\n",
    "\n",
    "plot2 = pd.DataFrame()\n",
    "plot2['n'] = n\n",
    "plot2['runtime -- T(n)'] = t\n",
    "plot2.columns = ['n', 'runtime -- T(n)']\n",
    "\n",
    "plot2"
   ]
  },
  {
   "cell_type": "markdown",
   "metadata": {},
   "source": [
    "En primer lugar, se debe graficar los datos para tener una percepción de la función T(n)"
   ]
  },
  {
   "cell_type": "code",
   "execution_count": 71,
   "metadata": {},
   "outputs": [
    {
     "data": {
      "image/png": "[encoded data removed]",
      "text/plain": [
       "<Figure size 640x480 with 1 Axes>"
      ]
     },
     "metadata": {},
     "output_type": "display_data"
    }
   ],
   "source": [
    "plot2.plot(x='n', y='runtime -- T(n)')\n",
    "plt.grid()"
   ]
  },
  {
   "cell_type": "markdown",
   "metadata": {},
   "source": [
    "Mi hipótesis es que tiene una tendencia cuadrática o exponencial.\n",
    "\n",
    "$$T(n) = An^2 + Bn + C$$\n",
    "\n",
    "Para $T(0) = 0$, porque no se realiza ningún cálculo computacional. Por lo tanto, $C = 0$.\n",
    "\n",
    "Para $n = 4000$, tenemos: $0.2 = A(4000)^2 + B(4000)$.\n",
    "\n",
    "Para $n = 32000$, tenemos: $10.40 = A(32000)^2 + B(32000)$. \n",
    "\n",
    "Tenemos un sistema de ecuaciones lineales con dos incógnitas. El resultado es el siguiente:\n",
    "\n",
    "$$ A = 9.82 \\times 10^{-9}$$\n",
    "$$ B = 1.07 \\times 10^{-5}$$\n",
    "$$ T(n) = 9.82 \\times 10^{-9} n^2 + 1.07 \\times 10^{-5} n $$\n"
   ]
  },
  {
   "cell_type": "code",
   "execution_count": 72,
   "metadata": {},
   "outputs": [
    {
     "data": {
      "image/png": "[encoded data removed]",
      "text/plain": [
       "<Figure size 640x480 with 1 Axes>"
      ]
     },
     "metadata": {},
     "output_type": "display_data"
    }
   ],
   "source": [
    "A1 = 9.82*10**(-9)\n",
    "B1 = 1.07*10**(-5)\n",
    "\n",
    "t1 = A1*n**2 + B1*n\n",
    "plot2['An^2 + Bn'] = t1\n",
    "\n",
    "plot2.plot(x='n', y=['runtime -- T(n)','An^2 + Bn'])\n",
    "plt.grid()\n"
   ]
  },
  {
   "cell_type": "markdown",
   "metadata": {},
   "source": [
    "Por lo tanto, se pude apreciar que el crecimiento del tiempo de ejecución de los datos del problema se los puede aproximar, con bastante precisión, con una función cuadrática del tipo:\n",
    "\n",
    "$$ T(n) = 9.82 \\times 10^{-9} n^2 + 1.07 \\times 10^{-5} n $$"
   ]
  },
  {
   "cell_type": "markdown",
   "metadata": {},
   "source": [
    "## 3. By estimating the number of operations as a function of $n$, estimate the complexity of the following function"
   ]
  },
  {
   "cell_type": "code",
   "execution_count": null,
   "metadata": {},
   "outputs": [],
   "source": [
    "def func1(n):\n",
    "    A = range(0,n)\n",
    "    sum = 0\n",
    "    i = 0\n",
    "    for x in A[i:]:\n",
    "        i += 1\n",
    "        for j in range(i, len(A)):\n",
    "            y = A[j]\n",
    "            k = j\n",
    "            while k < len(A):\n",
    "                z = A[k]\n",
    "                k = 2*k\n",
    "                if x + y <= z:\n",
    "                    sum += 1\n",
    "    return sum"
   ]
  },
  {
   "cell_type": "markdown",
   "metadata": {},
   "source": [
    "Se considera 1 operación la lectura y 1 la escritura de una variable. Por lo tanto, identificando el número de operaciones en cada línea de código."
   ]
  },
  {
   "cell_type": "code",
   "execution_count": null,
   "metadata": {},
   "outputs": [],
   "source": [
    "def func1(n):   #c1 op - 1 vez\n",
    "    A = range(0,n)  #c2 op - 1 vez\n",
    "    sum = 0 #c3 op - 1 vez\n",
    "    i = 0   #c4 op - 1 vez\n",
    "    for x in A[i:]: #c5 op - n veces\n",
    "        i += 1  #c6 op - n veces\n",
    "        for j in range(i, len(A)):  #c7 op - n-i veces\n",
    "            y = A[j] #c8 op - n-i veces\n",
    "            k = j   #c9 op - n-i veces\n",
    "            while k < len(A):   #c10 op - n-i veces \n",
    "                                #Este while esta funcionando como un for loop\n",
    "                z = A[k]    #c11 op - n-i veces\n",
    "                k = 2*k     #c12 op - n-i veces\n",
    "                if x + y <= z:  #c13 op - n-i veces\n",
    "                    sum += 1 #c14 op - n-i veces\n",
    "    return sum  #c15 - 1 vez"
   ]
  },
  {
   "cell_type": "markdown",
   "metadata": {},
   "source": [
    "Se obtiene la siguiente función de complejidad del algoritmo.\n",
    "\n",
    "$$T(n) = c1+c2+c3+c4+ \\sum_{i=0}^{n-1}\\{c5 + c6 + \\sum_{j=i}^{n-1}[c7+c8+c9+\\sum_{j=i}^{n-1}(c10+c11+c12+c13+c14)]\\} + c15"
   ]
  },
  {
   "cell_type": "markdown",
   "metadata": {},
   "source": [
    "Sea:\n",
    "\n",
    "$a = c1+c2+c3+c4+c15 $\n",
    "\n",
    "$b = c5+c6$\n",
    "\n",
    "$c = c7+c8+c9$\n",
    "\n",
    "$d = c10+c11+c12+c13+c14$\n",
    "\n",
    "Se puede escribir $T(n)$ de la siguiente forma:\n",
    "\n",
    "$$ T(n) = a + \\sum_{i=0}^{n-1}\\{b+ \\sum_{j=i}^{n-1}[c+\\sum_{j=i}^{n-1}(d)]\\}$$\n",
    "\n",
    "$$ T(n) = a + \\sum_{i=0}^{n-1}\\{b+ \\sum_{j=i}^{n-1}[c+d((n-1)-i+1)]\\}$$\n",
    "\n",
    "$$ T(n) = a + \\sum_{i=0}^{n-1}\\{b+ \\sum_{j=i}^{n-1}[c+d(n-i)]\\}$$\n",
    "\n",
    "$$ T(n) = a + \\sum_{i=0}^{n-1}\\{b+ (c+d(n-i))(n-i)\\}$$\n",
    "\n",
    "$$ T(n) = a + \\sum_{i=0}^{n-1}\\{b+ cn-ci+dn^2-2dni+di^2\\}$$\n",
    "\n",
    "$$ T(n) = a + bn + cn^2 + dn^3 +\\sum_{i=1}^{n}\\{di^2-(c+2dn)i\\}$$\n",
    "\n",
    "$$ T(n) = a + bn + cn^2 + dn^3 +d\\left(\\frac{n(n+1)(2n+1)}{6}\\right)-(c+2dn)\\left(\\frac{n(n+1)}{2}\\right)$$\n",
    "\n",
    "$$ T(n) = a + bn + cn^2 + dn^3 +\\frac{d}{6}(2n^3+3n^2+n)-\\frac{c+2dn}{2}(n^2+n)$$\n",
    "\n",
    "$$ T(n) = a + bn + \\frac{cn^2}{2} + \\frac{dn^3}{3} - \\frac{dn^2}{2} + \\frac{dn}{6} - \\frac{cn}{2} $$\n",
    "\n",
    "O escrito de otra forma:\n",
    "\n",
    "$$ T(n) = \\left(\\frac{d}{3}\\right)n^3 + \\left(\\frac{c}{2} - \\frac{d}{2} \\right)n^2 + \\left(b + \\frac{d}{6} - \\frac{c}{2} \\right)n + a $$"
   ]
  },
  {
   "cell_type": "markdown",
   "metadata": {},
   "source": [
    "Por lo tanto, la complejidad del algoritmo es de orden cúbico:\n",
    "\n",
    "$$O(n^3)$$"
   ]
  },
  {
   "cell_type": "markdown",
   "metadata": {},
   "source": [
    "## 4. From class, remember the code we use to get the sum of the first $n$ positive integers:"
   ]
  },
  {
   "cell_type": "code",
   "execution_count": 64,
   "metadata": {},
   "outputs": [],
   "source": [
    "def sum1(n):\n",
    "    total = 0\n",
    "    for i in range(1, n+1):\n",
    "        total += i\n",
    "    return total"
   ]
  },
  {
   "cell_type": "markdown",
   "metadata": {},
   "source": [
    "Now consider a different function that does the same thing."
   ]
  },
  {
   "cell_type": "code",
   "execution_count": 65,
   "metadata": {},
   "outputs": [],
   "source": [
    "def sum2(n): \n",
    "    total = n*(n+1)//2\n",
    "    return total"
   ]
  },
  {
   "cell_type": "markdown",
   "metadata": {},
   "source": [
    "1. Run the two functions and make sure that they return the same outputs. Use $n = 5, 8, 103, 527$\n",
    "\n",
    "2. Use Python time library to estimate the runtime for inputs of $n = [1, 10, 10^2, 10^3, 10^4, 10^5, 10^6, 10^7, 10^8, 10^9] $\n",
    "\n",
    "3. Plot the runtime as a function of  for both functions in the same figure.\n",
    "    * Use different line colors and markers to help distinguish between the two curves.\n",
    "\n",
    "4. Analytically estime the runtime functions for the functions sum1 and sum2. Call them $T_1(n)$ and $T_2(n)$. \n",
    "    * Note that the times obtained in your computer will be different to the ones shown in class since the speed and memory of the computers used to run the code are likely different.\n",
    "\n",
    "5. How long will it take to run the code for $n=10^{100}$ using sum1 and sum2? What are your main impressions about the difference?\n",
    "\n",
    "**Hint**: Use and modify the code from the slides to get and plot the runtime"
   ]
  },
  {
   "cell_type": "markdown",
   "metadata": {},
   "source": [
    "### Resolución:"
   ]
  },
  {
   "cell_type": "markdown",
   "metadata": {},
   "source": [
    "1."
   ]
  },
  {
   "cell_type": "code",
   "execution_count": 66,
   "metadata": {},
   "outputs": [
    {
     "name": "stdout",
     "output_type": "stream",
     "text": [
      "Resultado funcion sum1: \n",
      "[1.50000e+01 3.60000e+01 5.35600e+03 1.39128e+05]\n",
      "\n",
      "Resultado funcion sum2: \n",
      "[1.50000e+01 3.60000e+01 5.35600e+03 1.39128e+05]\n"
     ]
    }
   ],
   "source": [
    "n=np.array([5,8,103,527])\n",
    "\n",
    "S1 = np.empty(len(n))\n",
    "S2 = np.empty(len(n))\n",
    "\n",
    "for i in range(0,len(n)):\n",
    "    S1[i] = sum1(n[i])\n",
    "    S2[i] = sum2(n[i])\n",
    "\n",
    "print(\"Resultado funcion sum1: \")\n",
    "print(S1)\n",
    "print(\"\")\n",
    "\n",
    "print(\"Resultado funcion sum2: \")\n",
    "print(S2)\n"
   ]
  },
  {
   "cell_type": "markdown",
   "metadata": {},
   "source": [
    "2."
   ]
  },
  {
   "cell_type": "code",
   "execution_count": 67,
   "metadata": {},
   "outputs": [],
   "source": [
    "@calculo_tiempo\n",
    "def sum1(n):\n",
    "    total = 0\n",
    "    for i in range(1, n+1):\n",
    "        total += i\n",
    "    return total"
   ]
  },
  {
   "cell_type": "code",
   "execution_count": 68,
   "metadata": {},
   "outputs": [],
   "source": [
    "@calculo_tiempo\n",
    "def sum2(n): \n",
    "    total = n*(n+1)//2\n",
    "    return total"
   ]
  },
  {
   "cell_type": "code",
   "execution_count": 75,
   "metadata": {},
   "outputs": [
    {
     "name": "stderr",
     "output_type": "stream",
     "text": [
      "C:\\Users\\gsoch\\AppData\\Local\\Temp\\ipykernel_22628\\2162505527.py:3: RuntimeWarning: overflow encountered in long_scalars\n",
      "  total = n*(n+1)//2\n"
     ]
    },
    {
     "name": "stdout",
     "output_type": "stream",
     "text": [
      "Valores de n: \n",
      "[         1         10        100       1000      10000     100000\n",
      "    1000000   10000000  100000000 1000000000]\n",
      "\n",
      "Tiempo de la funcion sum1: \n",
      "[0.00000000e+00 0.00000000e+00 0.00000000e+00 0.00000000e+00\n",
      " 9.97250000e+02 3.99075000e+03 4.58757500e+04 4.74731750e+05\n",
      " 4.68547675e+06 4.66602792e+07]\n",
      "\n",
      "Tiempo de la funcion sum2: \n",
      "[0. 0. 0. 0. 0. 0. 0. 0. 0. 0.]\n"
     ]
    }
   ],
   "source": [
    "n=np.array([1,10,10**2,10**3,10**4,10**5,10**6,10**7,10**8,10**9])\n",
    "\n",
    "T1 = np.empty(len(n))\n",
    "T2 = np.empty(len(n))\n",
    "\n",
    "for i in range(0,len(n)):\n",
    "    T1[i] = sum1(n[i])[1]\n",
    "    T2[i] = sum2(n[i])[1]\n",
    "\n",
    "print(\"Valores de n: \")\n",
    "print(n)\n",
    "print(\"\")\n",
    "\n",
    "print(\"Tiempo de la funcion sum1: \") \n",
    "print(T1)\n",
    "print(\"\")\n",
    "\n",
    "print(\"Tiempo de la funcion sum2: \")\n",
    "print(T2)"
   ]
  },
  {
   "cell_type": "markdown",
   "metadata": {},
   "source": [
    "3."
   ]
  },
  {
   "cell_type": "code",
   "execution_count": 76,
   "metadata": {},
   "outputs": [
    {
     "data": {
      "image/png": "[encoded data removed]",
      "text/plain": [
       "<Figure size 640x480 with 1 Axes>"
      ]
     },
     "metadata": {},
     "output_type": "display_data"
    }
   ],
   "source": [
    "plot2 = pd.DataFrame()\n",
    "plot2['T1'] = T1\n",
    "plot2['T2'] = T2\n",
    "plot2['n'] = n\n",
    "\n",
    "plot2.plot(x='n', y= ['T1','T2'])\n",
    "plt.grid()"
   ]
  },
  {
   "cell_type": "markdown",
   "metadata": {},
   "source": [
    "4."
   ]
  },
  {
   "cell_type": "markdown",
   "metadata": {},
   "source": [
    "Llamemos $T_1(n)$ a la funcion de complejidad del algoritmo sum1. Identificamos la complejidad a continuacion:"
   ]
  },
  {
   "cell_type": "code",
   "execution_count": null,
   "metadata": {},
   "outputs": [],
   "source": [
    "def sum1(n): #1 - 1 vez\n",
    "    total = 0   #1 - 1 vex\n",
    "    for i in range(1, n+1): #2 - n veces\n",
    "        total += i  #2 - n veces lectura de i y escritura en total\n",
    "    return total    #1 - 1 vez"
   ]
  },
  {
   "cell_type": "markdown",
   "metadata": {},
   "source": [
    "$$T_1(n) = 1+1+2n+2n+1$$\n",
    "\n",
    "Por lo tanto, ordenando obtenemos:\n",
    "\n",
    "$$T_1(n) = 4n + 3$$\n",
    "\n",
    "Se concluye que la complejidad de este algoritmo es $O(n)$ lineal."
   ]
  },
  {
   "cell_type": "markdown",
   "metadata": {},
   "source": [
    "Ahora llamemos $T_2(n)$ a la funcion de complejidad del algoritmo sum2 detallada a continuacion:"
   ]
  },
  {
   "cell_type": "code",
   "execution_count": null,
   "metadata": {},
   "outputs": [],
   "source": [
    "def sum2(n):    #1 - 1 vez\n",
    "    total = n*(n+1)//2  #3 - 1 vez dos lecturas y una escritura\n",
    "    return total    #1- 1 vez"
   ]
  },
  {
   "cell_type": "markdown",
   "metadata": {},
   "source": [
    "$$T_2(n) = 1+3+1 = 4$$ \n",
    "\n",
    "Por lo tanto la complejidad de $T_2(n)$ es $O(1)$ constante."
   ]
  },
  {
   "cell_type": "markdown",
   "metadata": {},
   "source": [
    "5."
   ]
  },
  {
   "cell_type": "markdown",
   "metadata": {},
   "source": [
    "Teoricamente, usando como referencia un microprocesador funcionando a 3GHz, calcular $n = 10^{100}$, se tardaría:\n",
    "\n",
    "$T_1(10^{100}) = 4\\times 10^{100}+3 $ procesos.\n",
    "\n",
    "Y cada proceso se lo realiza en $3.33\\times 10^{-10} [s]$\n",
    "\n",
    "Tenemos un tiempo de $t=1.33\\times 10^{91} [s]$\n",
    "\n",
    "$$t_1=4.22\\times 10^{83} [Años]$$\n",
    "\n",
    "Mientras que $T_2(10^{100}) = 4 $ procesos.\n",
    "\n",
    "$$t_2= 1.33 [ns]$$\n",
    "\n",
    "La diferencia entre las dos estimaciones es colosal, por lo que demuestra la importancia de utilizar el algoritmo más eficiente en nuestras aplicaciones para que los tiempos de ejecución sean los más óptimos posibles."
   ]
  },
  {
   "cell_type": "markdown",
   "metadata": {},
   "source": [
    "### 5. Prove that the running time of an algorithm is $\\Theta(g(n))$ if and only if its worst-case running time is $O(g(n))$ and its best-case running time is $\\Omega(g(n))$"
   ]
  },
  {
   "cell_type": "markdown",
   "metadata": {},
   "source": [
    "\n",
    "<img src=\"1.jpg\"  />"
   ]
  },
  {
   "cell_type": "markdown",
   "metadata": {},
   "source": [
    "<img src=\"2.jpg\"  />"
   ]
  },
  {
   "cell_type": "markdown",
   "metadata": {},
   "source": [
    "### 6. Sort the following functions in decreasing order of asymptotic complexity $O(f(n))$:"
   ]
  },
  {
   "cell_type": "markdown",
   "metadata": {},
   "source": [
    "* $f_1(n) = \\sqrt{n}$\n",
    "* $f_2(n) = n^3$\n",
    "* $f_3(n) = \\binom{n}{4}$\n",
    "* $f_4(n) = \\sum_{i=2}^{n}(i-1)$"
   ]
  },
  {
   "cell_type": "markdown",
   "metadata": {},
   "source": [
    "En primer lugar, se tiene que expresar a las 4 funciones de forma reducida:\n",
    "\n",
    "$f_1(n) = \\sqrt{n}$\n",
    "\n",
    "$f_2(n) = n^3$\n",
    "\n",
    "$f_3(n) = \\frac{n!}{4!(n-4)!}$\n",
    "\n",
    "$f_4(n) = \\sum_{i=1}^{n-1}(i-1) = \\sum_{i=1}^{n-1}(i)-(n-1) = \\frac{(n-1)(n)}{2} - (n-1) = \\frac{1}{2}n^2 - \\frac{3}{2}n + 1$\n",
    "\n",
    "Posteriormente, se grafica las 4 funciones.\n"
   ]
  },
  {
   "cell_type": "code",
   "execution_count": 262,
   "metadata": {},
   "outputs": [],
   "source": [
    "plot4 = pd.DataFrame()\n",
    "plot4['n'] = np.arange(0,10,1)\n",
    "plot4['f1'] = np.sqrt(plot4['n'])\n",
    "plot4['f2'] = np.power(plot4['n'],3)\n",
    "\n",
    "res = np.zeros(len(plot4['n']))\n",
    "for i in range (5,len(plot4['n'])):     #Porque la funcion factorial no esta definida con numeros negativos\n",
    "    res[i] = (math.factorial(plot4['n'][i]))/(math.factorial(4)*math.factorial(plot4['n'][i]-4))    \n",
    "plot4['f3'] = res \n",
    "plot4['f4'] = (np.power(plot4['n'],2)/2) - (3*plot4['n']/2) + 1"
   ]
  },
  {
   "cell_type": "code",
   "execution_count": 264,
   "metadata": {},
   "outputs": [
    {
     "data": {
      "image/png": "[encoded data removed]",
      "text/plain": [
       "<Figure size 640x480 with 1 Axes>"
      ]
     },
     "metadata": {},
     "output_type": "display_data"
    }
   ],
   "source": [
    "plot4.plot(x='n', y= ['f1','f2','f3','f4'])\n",
    "plt.grid()"
   ]
  },
  {
   "cell_type": "markdown",
   "metadata": {},
   "source": [
    "Por lo tanto, se puede ordenar a las funciones de forma decreciente de la siguiente manera:\n",
    "\n",
    "$f_2(n) = n^3$\n",
    "\n",
    "$f_3(n) = \\frac{n!}{4!(n-4)!}$\n",
    "\n",
    "$f_4(n) = \\frac{1}{2}n^2 - \\frac{3}{2}n + 1$\n",
    "\n",
    "$f_1(n) = \\sqrt{n}$\n",
    "\n",
    "De donde se puede concluir que:\n",
    "\n",
    "$O(n^3) > O\\left(\\frac{n!}{4!(n-4)!}\\right) > O(\\frac{1}{2}n^2 - \\frac{3}{2}n + 1) > O(\\sqrt{n})$\n",
    "\n",
    "Simplificando, se obtiene el siguiente resultado:\n",
    "\n",
    "$$ O(n^3) > O\\left(\\binom{n}{4}\\right) > O(n^2) > O(\\sqrt{n}) $$"
   ]
  },
  {
   "cell_type": "markdown",
   "metadata": {},
   "source": [
    "### 7. Implement the methods of the class Array that deal with deletion of elements. Consider the 3 cases we considered in class."
   ]
  },
  {
   "cell_type": "markdown",
   "metadata": {},
   "source": [
    "Definicion de la clase Array"
   ]
  },
  {
   "cell_type": "code",
   "execution_count": 81,
   "metadata": {},
   "outputs": [],
   "source": [
    "import ctypes\n",
    "\n",
    "class Array(object):\n",
    "    \"\"\"\n",
    "    Implementation of the array data structure\n",
    "    \"\"\"\n",
    "\n",
    "    def __init__(self, n, values=None):\n",
    "        \"\"\"\n",
    "        Initialize the class\n",
    "        \"\"\"\n",
    "        self.l = 0\n",
    "        self.n = n\n",
    "        self.array = self._create_array(self.n) \n",
    "        if values:\n",
    "            self.initialize_array(values)\n",
    "\n",
    "    def initialize_array(self, values):\n",
    "        \"\"\"\n",
    "        Initialize array\n",
    "        \"\"\"\n",
    "        if self.n != len(values):\n",
    "            raise ValueError(\"element count different than capacity\")\n",
    "        for item in values:\n",
    "            self.array[self.l] = item\n",
    "            self.l += 1       \n",
    "    \n",
    "    def _create_array(self, n):\n",
    "        \"\"\"\n",
    "        Creates a new array of capacity n\n",
    "        \"\"\"\n",
    "        return (n * ctypes.py_object)()\n",
    "\n",
    "    def __getitem__(self, item_index):\n",
    "        \"\"\"\n",
    "        Return element at item_index\n",
    "        \"\"\"\n",
    "        if (item_index < 0) or (item_index >= self.n):\n",
    "            raise IndexError('index out of range!')\n",
    "        try:\n",
    "            x = self.array[item_index]\n",
    "        except ValueError:\n",
    "            x = None\n",
    "        return x\n",
    "    \n",
    "    def __setitem__(self, item_index, item):\n",
    "        \"\"\"\n",
    "        Set element at item_index\n",
    "        \"\"\"\n",
    "        if (item_index < 0) or (item_index >= self.n):\n",
    "            raise IndexError('index out of range!')\n",
    "        self.array[item_index] = item\n",
    "    \n",
    "    def list_array(self):\n",
    "        \"\"\"\n",
    "        List elements of the array\n",
    "        using list comprehension\n",
    "        \"\"\"\n",
    "        return \", \".join(str(x) if x is not None else '_' for x in self)"
   ]
  },
  {
   "cell_type": "markdown",
   "metadata": {},
   "source": [
    "Search method"
   ]
  },
  {
   "cell_type": "code",
   "execution_count": 82,
   "metadata": {},
   "outputs": [],
   "source": [
    "class Array(Array):\n",
    "    def linear_search(self, element):\n",
    "        \"\"\"\n",
    "        Return the index of element\n",
    "        \"\"\"\n",
    "        for i in range(self.l):\n",
    "            if self[i] == element:\n",
    "                return i\n",
    "        return None"
   ]
  },
  {
   "cell_type": "markdown",
   "metadata": {},
   "source": [
    "Insert method"
   ]
  },
  {
   "cell_type": "code",
   "execution_count": 83,
   "metadata": {},
   "outputs": [],
   "source": [
    "class Array(Array):\n",
    "    def insert_to_tail(self, item):\n",
    "        \"\"\"\n",
    "        Add new item to the tail of the array\n",
    "        \"\"\"\n",
    "        if self.l == self.n:\n",
    "            raise ValueError(\"no more capacity\")\n",
    "        self.array[self.l] = item\n",
    "        self.l += 1\n",
    "    \n",
    "    def insert_to_head(self, item):\n",
    "        \"\"\"\n",
    "        Add new item to the beginning of the array\n",
    "        \"\"\"\n",
    "        if self.l == self.n:\n",
    "            raise ValueError(\"no more capacity\")\n",
    "        i = self.l\n",
    "        while (i > 0):\n",
    "            self.array[i] = self.array[i-1]\n",
    "            i -= 1\n",
    "        self.array[0] = item\n",
    "        self.l += 1\n",
    "\n",
    "    def insert(self, index, element):\n",
    "        \"\"\"\n",
    "        implementation of insert\n",
    "        \"\"\"\n",
    "        if self.l == self.n:\n",
    "            raise ValueError(\"no more capacity\")\n",
    "        if (index < 0) or (index > self.l):\n",
    "            raise IndexError('index out of range!')\n",
    "        x = self.l\n",
    "        while x > index:\n",
    "            self.array[x] = self.array[x-1]\n",
    "            x -= 1\n",
    "        self.array[index] = element\n",
    "        self.l += 1"
   ]
  },
  {
   "cell_type": "markdown",
   "metadata": {},
   "source": [
    "Se implementa el método para eliminar elementos del array. \n",
    "Tenemos 3 casos:\n",
    "\n",
    "* Eliminar el último elemento.\n",
    "* Eliminar el primer elemento.\n",
    "* Eliminar en el índice dado."
   ]
  },
  {
   "cell_type": "markdown",
   "metadata": {},
   "source": [
    "Delete the last element"
   ]
  },
  {
   "cell_type": "code",
   "execution_count": 227,
   "metadata": {},
   "outputs": [],
   "source": [
    "class Array(Array):\n",
    "    def delete_tail(self):\n",
    "        \"\"\"\n",
    "        Delete the last item in the array\n",
    "        \"\"\"\n",
    "        if self.l != 0: #Delete when the array is not empty. This prevents having an error in the special case self.l=0\n",
    "            self.array[self.l-1] = None   #Setting last indexed (self.l) to None\n",
    "            self.l -= 1     #reduce the array length\n",
    "        #No raise function because at self.l = 0 all elements already are deleted. So nothing shall be executed."
   ]
  },
  {
   "cell_type": "code",
   "execution_count": 265,
   "metadata": {},
   "outputs": [
    {
     "data": {
      "text/plain": [
       "'1, 2, 3, 4, 5'"
      ]
     },
     "execution_count": 265,
     "metadata": {},
     "output_type": "execute_result"
    }
   ],
   "source": [
    "A = Array(5,[1,2,3,4,5])\n",
    "A.list_array()"
   ]
  },
  {
   "cell_type": "code",
   "execution_count": 266,
   "metadata": {},
   "outputs": [
    {
     "data": {
      "text/plain": [
       "'1, 2, 3, 4, _'"
      ]
     },
     "execution_count": 266,
     "metadata": {},
     "output_type": "execute_result"
    }
   ],
   "source": [
    "A.delete_tail()\n",
    "A.list_array()"
   ]
  },
  {
   "cell_type": "markdown",
   "metadata": {},
   "source": [
    "Delete the first element"
   ]
  },
  {
   "cell_type": "code",
   "execution_count": 208,
   "metadata": {},
   "outputs": [],
   "source": [
    "class Array(Array):\n",
    "    def delete_head(self):\n",
    "        \"\"\"\n",
    "        Delete the first element in the array\n",
    "        \"\"\"\n",
    "        if self.l != 0: #Prevents self.l = -1\n",
    "            i = 0\n",
    "            #When i = self.l the next index doesnt exist if the array is full. Therefore, this is an error.\n",
    "            #For this reason I end the while two index after the self.l so that the self.l - 1 is set None manually. \n",
    "            while (i < self.l-1):   \n",
    "                self.array[i] = self.array[i+1]   \n",
    "                i += 1\n",
    "            self.array[self.l-1] = None\n",
    "            self.l -= 1   #Reduce the array length \n",
    "            "
   ]
  },
  {
   "cell_type": "code",
   "execution_count": 267,
   "metadata": {},
   "outputs": [
    {
     "data": {
      "text/plain": [
       "'1, 2, 3, 4, 5'"
      ]
     },
     "execution_count": 267,
     "metadata": {},
     "output_type": "execute_result"
    }
   ],
   "source": [
    "A = Array(5,[1,2,3,4,5])\n",
    "A.list_array()"
   ]
  },
  {
   "cell_type": "code",
   "execution_count": 268,
   "metadata": {},
   "outputs": [
    {
     "data": {
      "text/plain": [
       "'2, 3, 4, 5, _'"
      ]
     },
     "execution_count": 268,
     "metadata": {},
     "output_type": "execute_result"
    }
   ],
   "source": [
    "A.delete_head()\n",
    "A.list_array()"
   ]
  },
  {
   "cell_type": "markdown",
   "metadata": {},
   "source": [
    "Delete using index"
   ]
  },
  {
   "cell_type": "code",
   "execution_count": 252,
   "metadata": {},
   "outputs": [],
   "source": [
    "class Array(Array):\n",
    "    def delete(self,index):\n",
    "        \"\"\"\n",
    "        Delete the item at the index given\n",
    "        \"\"\"\n",
    "        if self.l> 0 and index >= 0 and index < self.l:\n",
    "            i = index\n",
    "            while (i < self.l-1):   \n",
    "                self.array[i] = self.array[i+1]   \n",
    "                i += 1\n",
    "            self.array[self.l-1] = None\n",
    "            self.l -= 1  \n",
    "        elif self.l >= 0 and index >= self.l and index < self.n:\n",
    "            pass\n",
    "        else:\n",
    "            raise IndexError(\"Index out of range\")"
   ]
  },
  {
   "cell_type": "code",
   "execution_count": 253,
   "metadata": {},
   "outputs": [
    {
     "data": {
      "text/plain": [
       "'1, 2, 3, 4, 5'"
      ]
     },
     "execution_count": 253,
     "metadata": {},
     "output_type": "execute_result"
    }
   ],
   "source": [
    "A = Array(5,[1,2,3,4,5])\n",
    "A.list_array()"
   ]
  },
  {
   "cell_type": "code",
   "execution_count": 254,
   "metadata": {},
   "outputs": [
    {
     "data": {
      "text/plain": [
       "'1, 2, 3, 5, _'"
      ]
     },
     "execution_count": 254,
     "metadata": {},
     "output_type": "execute_result"
    }
   ],
   "source": [
    "A.delete(3)\n",
    "A.list_array()"
   ]
  }
 ],
 "metadata": {
  "kernelspec": {
   "display_name": "Python 3.10.1 64-bit",
   "language": "python",
   "name": "python3"
  },
  "language_info": {
   "codemirror_mode": {
    "name": "ipython",
    "version": 3
   },
   "file_extension": ".py",
   "mimetype": "text/x-python",
   "name": "python",
   "nbconvert_exporter": "python",
   "pygments_lexer": "ipython3",
   "version": "3.10.1"
  },
  "orig_nbformat": 4,
  "vscode": {
   "interpreter": {
    "hash": "5726e28a2f93f624e13654f4187f1c65de1ba509691958bda5f0f5587a78bdd1"
   }
  }
 },
 "nbformat": 4,
 "nbformat_minor": 2
}
