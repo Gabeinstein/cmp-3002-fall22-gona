{
 "cells": [
  {
   "cell_type": "code",
   "execution_count": 2,
   "metadata": {},
   "outputs": [],
   "source": [
    "from time import time\n",
    "import pandas as pd\n",
    "import numpy as np\n",
    "import math\n",
    "import matplotlib.pyplot as plt\n",
    "%matplotlib inline  "
   ]
  },
  {
   "cell_type": "markdown",
   "metadata": {},
   "source": [
    "# Homework 1\n",
    "\n",
    "Nombre: Gabriel Oña\n",
    "\n",
    "Clase: Estructura de Datos 2075\n",
    "\n",
    "Código: 00320597"
   ]
  },
  {
   "cell_type": "markdown",
   "metadata": {},
   "source": [
    "### 1. Assume we implemented an algorithm that has complexity approximately $n*log(n)$ . How much faster is this implementation compared to one of complexity $n^2$? "
   ]
  },
  {
   "cell_type": "markdown",
   "metadata": {},
   "source": [
    "Suponiendo que la complejidad del algoritmo 1 es: $O(nlog(n))$ y el algoritmo 2 es $O(n^2)$ en el peor de los casos, se puede graficar la complejidad de ambas funciones."
   ]
  },
  {
   "cell_type": "code",
   "execution_count": 3,
   "metadata": {},
   "outputs": [
    {
     "data": {
      "image/png": "[encoded data removed]",
      "text/plain": [
       "<Figure size 640x480 with 1 Axes>"
      ]
     },
     "metadata": {},
     "output_type": "display_data"
    }
   ],
   "source": [
    "\"\"\"\n",
    "Gráfica de función nlog(n) y n^2\n",
    "Se usa la libreria pandas y matplotlib\n",
    "Como se indicó en clase, la funcion log(n) se la considera como log_2(n)\n",
    "\"\"\"\n",
    "plot1 = pd.DataFrame() #Estructura de datos que permite hacer vectores con identificadores\n",
    "plot1['n'] = np.arange(1,20,1) #Set 'n' en un vector de 1 al 20 en pasos de n = 1\n",
    "plot1['n^2'] = np.power(plot1['n'], 2) #Set 'n^2'\n",
    "plot1['nlog(n)'] = plot1['n'] * np.log2(plot1['n']) #Set 'nlogn'\n",
    "\n",
    "#Plot\n",
    "plot1.plot(x='n', y=['nlog(n)', 'n^2']) \n",
    "plt.grid()"
   ]
  },
  {
   "cell_type": "markdown",
   "metadata": {},
   "source": [
    "Como podemos observar, la funcion $nlog(n)$ siempre se encuentra por debajo de la curva de la función $n^2$. Por lo tanto, se puede concluir que el algoritmo con $O(nlog(n))$ va a ser más rápido que un algoritmo $O(n^2)$.\n",
    "\n",
    "Finalmente, para obtener cuánto más rápido es el algoritmo $O(nlog(n))$ comparado con $O(n^2)$ hacemos el siguiente cálculo:\n",
    "\n",
    "$$ O(nlog(n))c = O(n^2) $$\n",
    "\n",
    "$$ nlog(n)c =  n^2 $$\n",
    "\n",
    "$$ c = \\frac{n}{log(n)}$$\n",
    "\n",
    "Por lo tanto el algoritmo $O(nlog(n))$ es $\\frac{n}{log(n)}$ veces más rápido que $O(n^2)$."
   ]
  },
  {
   "cell_type": "markdown",
   "metadata": {},
   "source": [
    "## 2. The runtime of an algorithm is captured in the following table:\n",
    "\n",
    "As precissely as possible, estimate the function that describes the growth of the runtime\n"
   ]
  },
  {
   "cell_type": "code",
   "execution_count": 5,
   "metadata": {},
   "outputs": [
    {
     "data": {
      "text/html": [
       "<div>\n",
       "<style scoped>\n",
       "    .dataframe tbody tr th:only-of-type {\n",
       "        vertical-align: middle;\n",
       "    }\n",
       "\n",
       "    .dataframe tbody tr th {\n",
       "        vertical-align: top;\n",
       "    }\n",
       "\n",
       "    .dataframe thead th {\n",
       "        text-align: right;\n",
       "    }\n",
       "</style>\n",
       "<table border=\"1\" class=\"dataframe\">\n",
       "  <thead>\n",
       "    <tr style=\"text-align: right;\">\n",
       "      <th></th>\n",
       "      <th>n</th>\n",
       "      <th>runtime -- T(n)</th>\n",
       "    </tr>\n",
       "  </thead>\n",
       "  <tbody>\n",
       "    <tr>\n",
       "      <th>0</th>\n",
       "      <td>1000.0</td>\n",
       "      <td>0.00</td>\n",
       "    </tr>\n",
       "    <tr>\n",
       "      <th>1</th>\n",
       "      <td>2000.0</td>\n",
       "      <td>0.02</td>\n",
       "    </tr>\n",
       "    <tr>\n",
       "      <th>2</th>\n",
       "      <td>4000.0</td>\n",
       "      <td>0.20</td>\n",
       "    </tr>\n",
       "    <tr>\n",
       "      <th>3</th>\n",
       "      <td>8000.0</td>\n",
       "      <td>0.60</td>\n",
       "    </tr>\n",
       "    <tr>\n",
       "      <th>4</th>\n",
       "      <td>16000.0</td>\n",
       "      <td>2.60</td>\n",
       "    </tr>\n",
       "    <tr>\n",
       "      <th>5</th>\n",
       "      <td>32000.0</td>\n",
       "      <td>10.40</td>\n",
       "    </tr>\n",
       "    <tr>\n",
       "      <th>6</th>\n",
       "      <td>64000.0</td>\n",
       "      <td>41.60</td>\n",
       "    </tr>\n",
       "  </tbody>\n",
       "</table>\n",
       "</div>"
      ],
      "text/plain": [
       "         n  runtime -- T(n)\n",
       "0   1000.0             0.00\n",
       "1   2000.0             0.02\n",
       "2   4000.0             0.20\n",
       "3   8000.0             0.60\n",
       "4  16000.0             2.60\n",
       "5  32000.0            10.40\n",
       "6  64000.0            41.60"
      ]
     },
     "execution_count": 5,
     "metadata": {},
     "output_type": "execute_result"
    }
   ],
   "source": [
    "n = np.array([1000.0,2000.0,4000.0,8000.0,16000.0,32000.0,64000.0])    #Def. Array n\n",
    "t = np.array([0.0,0.02,0.2,0.6,2.6,10.4,41.6])      #Def. T(n)\n",
    "\n",
    "#Se usan estos dos arreglos de numpy en un DataFrame de pandas para visualizar los datos\n",
    "plot2 = pd.DataFrame()\n",
    "plot2['n'] = n\n",
    "plot2['runtime -- T(n)'] = t\n",
    "plot2.columns = ['n', 'runtime -- T(n)']\n",
    "\n",
    "plot2"
   ]
  },
  {
   "cell_type": "markdown",
   "metadata": {},
   "source": [
    "En primer lugar, se debe graficar los datos para tener una percepción de la función T(n)"
   ]
  },
  {
   "cell_type": "code",
   "execution_count": 6,
   "metadata": {},
   "outputs": [
    {
     "data": {
      "image/png": "[encoded data removed]",
      "text/plain": [
       "<Figure size 640x480 with 1 Axes>"
      ]
     },
     "metadata": {},
     "output_type": "display_data"
    }
   ],
   "source": [
    "#Plot de T(n) vs n\n",
    "plot2.plot(x='n', y='runtime -- T(n)')      \n",
    "plt.grid()"
   ]
  },
  {
   "cell_type": "markdown",
   "metadata": {},
   "source": [
    "Mi hipótesis es que tiene una tendencia cuadrática.\n",
    "\n",
    "$$T(n) = An^2 + Bn + C$$\n",
    "\n",
    "Para $T(0) = 0$, porque no se realiza ningún cálculo computacional. Por lo tanto, $C = 0$.\n",
    "\n",
    "Para $n = 4000$, tenemos: $0.2 = A(4000)^2 + B(4000)$.\n",
    "\n",
    "Para $n = 32000$, tenemos: $10.40 = A(32000)^2 + B(32000)$. \n",
    "\n",
    "Tenemos un sistema de ecuaciones lineales con dos incógnitas. El resultado es el siguiente:\n",
    "\n",
    "$$ A = 9.82 \\times 10^{-9}$$\n",
    "$$ B = 1.07 \\times 10^{-5}$$\n",
    "$$ T(n) = 9.82 \\times 10^{-9} n^2 + 1.07 \\times 10^{-5} n $$\n"
   ]
  },
  {
   "cell_type": "code",
   "execution_count": 8,
   "metadata": {},
   "outputs": [
    {
     "data": {
      "image/png": "[encoded data removed]",
      "text/plain": [
       "<Figure size 640x480 with 1 Axes>"
      ]
     },
     "metadata": {},
     "output_type": "display_data"
    }
   ],
   "source": [
    "A = 9.82*10**(-9)      #Set. constantes\n",
    "B = 1.07*10**(-5)\n",
    "\n",
    "t1 = A*n**2 + B*n       #Definimos el array de numpy del tiempo de la aproximacion\n",
    "plot2['Approx: T(n)'] = t1     #Añado en el DataFrame\n",
    "\n",
    "#Plot\n",
    "plot2.plot(x='n', y=['runtime -- T(n)','Approx: T(n)'])   \n",
    "plt.grid()\n"
   ]
  },
  {
   "cell_type": "markdown",
   "metadata": {},
   "source": [
    "Por lo tanto, se pude apreciar que el crecimiento del tiempo de ejecución de los datos del problema se los puede aproximar, con bastante precisión, con una función cuadrática del tipo:\n",
    "\n",
    "$$ T(n) = 9.82 \\times 10^{-9} n^2 + 1.07 \\times 10^{-5} n $$"
   ]
  },
  {
   "cell_type": "markdown",
   "metadata": {},
   "source": [
    "## 3. By estimating the number of operations as a function of $n$, estimate the complexity of the following function"
   ]
  },
  {
   "cell_type": "code",
   "execution_count": null,
   "metadata": {},
   "outputs": [],
   "source": [
    "def func1(n):\n",
    "    A = range(0,n)\n",
    "    sum = 0\n",
    "    i = 0\n",
    "    for x in A[i:]:\n",
    "        i += 1\n",
    "        for j in range(i, len(A)):\n",
    "            y = A[j]\n",
    "            k = j\n",
    "            while k < len(A):\n",
    "                z = A[k]\n",
    "                k = 2*k\n",
    "                if x + y <= z:\n",
    "                    sum += 1\n",
    "    return sum"
   ]
  },
  {
   "cell_type": "markdown",
   "metadata": {},
   "source": [
    "Se considera 1 operación la lectura y 1 la escritura de una variable. Por lo tanto, identificando el número de operaciones en cada línea de código."
   ]
  },
  {
   "cell_type": "code",
   "execution_count": null,
   "metadata": {},
   "outputs": [],
   "source": [
    "def func1(n):   #c1 op - 1 vez\n",
    "    A = range(0,n)  #c2 op - 1 vez\n",
    "    sum = 0 #c3 op - 1 vez\n",
    "    i = 0   #c4 op - 1 vez\n",
    "    for x in A[i:]: #c5 op - sum_i=1 ^n (i) veces\n",
    "        i += 1  #c6 op - sum_i=1 ^n (i)\n",
    "        for j in range(i, len(A)):  #c7 op - n-i veces\n",
    "            y = A[j] #c8 op - n-i veces\n",
    "            k = j   #c9 op - n-i veces\n",
    "            while k < len(A):   #c10 op - n-i veces \n",
    "                                #Este while esta funcionando como un for loop\n",
    "                z = A[k]    #c11 op - n-i veces\n",
    "                k = 2*k     #c12 op - n-i veces\n",
    "                if x + y <= z:  #c13 op - n-i veces\n",
    "                    sum += 1 #c14 op - n-i veces\n",
    "    return sum  #c15 - 1 vez"
   ]
  },
  {
   "cell_type": "markdown",
   "metadata": {},
   "source": [
    "Se obtiene la siguiente función de complejidad del algoritmo.\n",
    "\n",
    "$$T(n) = c1+c2+c3+c4+ \\sum_{i=0}^{n-1}\\{c5i + c6i + i\\sum_{j=i}^{n-1}[c7+c8+c9+\\sum_{j=i}^{n-1}(c10+c11+c12+c13+c14)]\\} + c15"
   ]
  },
  {
   "cell_type": "markdown",
   "metadata": {},
   "source": [
    "Sea:\n",
    "\n",
    "$a = c1+c2+c3+c4+c15 $\n",
    "\n",
    "$b = c5+c6$\n",
    "\n",
    "$c = c7+c8+c9$\n",
    "\n",
    "$d = c10+c11+c12+c13+c14$\n",
    "\n",
    "Se puede escribir $T(n)$ de la siguiente forma:\n",
    "\n",
    "$$ T(n) = a + \\sum_{i=0}^{n-1}\\{bi+ i\\sum_{j=i}^{n-1}[c+\\sum_{j=i}^{n-1}(d)]\\}$$\n",
    "\n",
    "$$ T(n) = a + \\sum_{i=0}^{n-1}\\{bi+ i\\sum_{j=i}^{n-1}[c+d((n-1)-i+1)]\\}$$\n",
    "\n",
    "$$ T(n) = a + \\sum_{i=0}^{n-1}\\{bi+ i\\sum_{j=i}^{n-1}[c+d(n-i)]\\}$$\n",
    "\n",
    "$$ T(n) = a + \\sum_{i=0}^{n-1}\\{bi+ i(c+d(n-i))(n-i)\\}$$\n",
    "\n",
    "$$ T(n) = a + \\sum_{i=0}^{n-1}\\{bi+ cni-ci^2+ idn^2-2dni^2+di^3\\}$$\n",
    "\n",
    "$$ T(n) = a + (b+cn+dn^2)\\frac{n(n+1)}{2} - (c+2dn)\\frac{n(n+1)(2n+1)}{6} + d\\frac{n^2(n+1)^2}{4}$$\n",
    "\n",
    "O escrito de otra forma:\n",
    "\n",
    "$$ T(n) = \\left(\\frac{d}{12}\\right)n^4 + \\left(\\frac{c}{6}\\right)n^3 + \\left(\\frac{b}{2} - \\frac{d}{12} \\right)n^2 + \\left(\\frac{b}{2} - \\frac{c}{6} \\right)n + a $$"
   ]
  },
  {
   "cell_type": "markdown",
   "metadata": {},
   "source": [
    "Por lo tanto, la complejidad del algoritmo es de un polinomio de orden 4:\n",
    "\n",
    "$$O(n^4)$$"
   ]
  },
  {
   "cell_type": "markdown",
   "metadata": {},
   "source": [
    "## 4. From class, remember the code we use to get the sum of the first $n$ positive integers:"
   ]
  },
  {
   "cell_type": "code",
   "execution_count": 9,
   "metadata": {},
   "outputs": [],
   "source": [
    "def sum1(n):\n",
    "    total = 0\n",
    "    for i in range(1, n+1):\n",
    "        total += i\n",
    "    return total"
   ]
  },
  {
   "cell_type": "markdown",
   "metadata": {},
   "source": [
    "Now consider a different function that does the same thing."
   ]
  },
  {
   "cell_type": "code",
   "execution_count": 10,
   "metadata": {},
   "outputs": [],
   "source": [
    "def sum2(n): \n",
    "    total = n*(n+1)//2\n",
    "    return total"
   ]
  },
  {
   "cell_type": "markdown",
   "metadata": {},
   "source": [
    "1. Run the two functions and make sure that they return the same outputs. Use $n = 5, 8, 103, 527$\n",
    "\n",
    "2. Use Python time library to estimate the runtime for inputs of $n = [1, 10, 10^2, 10^3, 10^4, 10^5, 10^6, 10^7, 10^8, 10^9] $\n",
    "\n",
    "3. Plot the runtime as a function of  for both functions in the same figure.\n",
    "    * Use different line colors and markers to help distinguish between the two curves.\n",
    "\n",
    "4. Analytically estime the runtime functions for the functions sum1 and sum2. Call them $T_1(n)$ and $T_2(n)$. \n",
    "    * Note that the times obtained in your computer will be different to the ones shown in class since the speed and memory of the computers used to run the code are likely different.\n",
    "\n",
    "5. How long will it take to run the code for $n=10^{100}$ using sum1 and sum2? What are your main impressions about the difference?\n",
    "\n",
    "**Hint**: Use and modify the code from the slides to get and plot the runtime"
   ]
  },
  {
   "cell_type": "markdown",
   "metadata": {},
   "source": [
    "### Resolución:"
   ]
  },
  {
   "cell_type": "markdown",
   "metadata": {},
   "source": [
    "1."
   ]
  },
  {
   "cell_type": "code",
   "execution_count": 11,
   "metadata": {},
   "outputs": [
    {
     "name": "stdout",
     "output_type": "stream",
     "text": [
      "Resultado funcion sum1: \n",
      "[1.50000e+01 3.60000e+01 5.35600e+03 1.39128e+05]\n",
      "\n",
      "Resultado funcion sum2: \n",
      "[1.50000e+01 3.60000e+01 5.35600e+03 1.39128e+05]\n"
     ]
    }
   ],
   "source": [
    "n=np.array([5,8,103,527])       #Test array\n",
    "\n",
    "S1 = np.empty(len(n))       #Defino 2 arreglos resultantes para los dos algoritmos\n",
    "S2 = np.empty(len(n))\n",
    "\n",
    "for i in range(0,len(n)):       #Realizo la suma con cada algoritmo y lo guardo en el arreglo respectivo\n",
    "    S1[i] = sum1(n[i])\n",
    "    S2[i] = sum2(n[i])\n",
    "\n",
    "#Print\n",
    "print(\"Resultado funcion sum1: \")\n",
    "print(S1)\n",
    "print(\"\")\n",
    "\n",
    "print(\"Resultado funcion sum2: \")\n",
    "print(S2)\n"
   ]
  },
  {
   "cell_type": "markdown",
   "metadata": {},
   "source": [
    "2."
   ]
  },
  {
   "cell_type": "code",
   "execution_count": 16,
   "metadata": {},
   "outputs": [],
   "source": [
    "#Decorador para calcular el tiempo de ejecucion de una funcion\n",
    "\n",
    "from time import sleep\n",
    "\n",
    "def calculo_tiempo(funcion):\n",
    "    \"\"\"\n",
    "        En este decorador se crea un arreglo de dos dimensiones,\n",
    "        la primera con el resultado de la funcion y el segundo\n",
    "        con el tiempo de ejecucion de la misma.\n",
    "    \"\"\"\n",
    "\n",
    "    #Se usa el sleep de 1s porque sino el resultado que devuelve es 0 por algun proceso interno de la computadora.\n",
    "    def wrapper(*args, **kwargs):\n",
    "        result = [0,0]    #Declaramos el arreglo\n",
    "        start = 10**6*time()    #Se toma el tiempo inicial\n",
    "        sleep(1)    #Espera de 1s\n",
    "        result[0] = funcion(*args, **kwargs)    #Se ejecuta la función\n",
    "        result[1] = 10**6*time() - start - 10**6    #Se toma la diferencia de tiempos menos 1s\n",
    "        return result  \n",
    "    return wrapper"
   ]
  },
  {
   "cell_type": "code",
   "execution_count": 17,
   "metadata": {},
   "outputs": [],
   "source": [
    "@calculo_tiempo     #Decorador runtime\n",
    "def sum1(n):\n",
    "    total = 0\n",
    "    for i in range(1, n+1):\n",
    "        total += i\n",
    "    return total"
   ]
  },
  {
   "cell_type": "code",
   "execution_count": 18,
   "metadata": {},
   "outputs": [],
   "source": [
    "@calculo_tiempo     #Decorador runtime\n",
    "def sum2(n): \n",
    "    total = n*(n+1)//2\n",
    "    return total"
   ]
  },
  {
   "cell_type": "code",
   "execution_count": 19,
   "metadata": {},
   "outputs": [
    {
     "name": "stderr",
     "output_type": "stream",
     "text": [
      "C:\\Users\\gsoch\\AppData\\Local\\Temp\\ipykernel_7488\\3200809269.py:3: RuntimeWarning: overflow encountered in long_scalars\n",
      "  total = n*(n+1)//2\n"
     ]
    },
    {
     "name": "stdout",
     "output_type": "stream",
     "text": [
      "Valores de n: \n",
      "[         1         10        100       1000      10000     100000\n",
      "    1000000   10000000  100000000 1000000000]\n",
      "\n",
      "Tiempo de la funcion sum1: \n",
      "[8.19575000e+03 6.57925000e+03 5.02375000e+03 1.39555000e+04\n",
      " 1.50435000e+04 1.26650000e+04 4.12052500e+04 4.26536250e+05\n",
      " 4.25546350e+06 4.34279552e+07]\n",
      "\n",
      "Tiempo de la funcion sum2: \n",
      "[ 9919.75  5459.    5306.75  6101.75  7605.25  5959.75 10272.   11922.5\n",
      "  9437.5   1535.75]\n"
     ]
    }
   ],
   "source": [
    "n=np.array([1,10,10**2,10**3,10**4,10**5,10**6,10**7,10**8,10**9])  #Declaro array dado\n",
    "\n",
    "T1 = np.empty(len(n))   #Declaro arreglos resultantes\n",
    "T2 = np.empty(len(n))\n",
    "\n",
    "for i in range(0,len(n)):   #Calculo el tiempo de ejecucion de cada algoritmo, se encuentra en la posicion [1] devuelta por el decorador\n",
    "    T1[i] = sum1(n[i])[1]\n",
    "    T2[i] = sum2(n[i])[1]\n",
    "\n",
    "#Prints\n",
    "print(\"Valores de n: \")\n",
    "print(n)\n",
    "print(\"\")\n",
    "\n",
    "print(\"Tiempo de la funcion sum1: \") \n",
    "print(T1)\n",
    "print(\"\")\n",
    "\n",
    "print(\"Tiempo de la funcion sum2: \")\n",
    "print(T2)"
   ]
  },
  {
   "cell_type": "markdown",
   "metadata": {},
   "source": [
    "3."
   ]
  },
  {
   "cell_type": "code",
   "execution_count": 24,
   "metadata": {},
   "outputs": [
    {
     "data": {
      "image/png": "[encoded data removed]",
      "text/plain": [
       "<Figure size 640x480 with 1 Axes>"
      ]
     },
     "metadata": {},
     "output_type": "display_data"
    },
    {
     "data": {
      "image/png": "[encoded data removed]",
      "text/plain": [
       "<Figure size 640x480 with 1 Axes>"
      ]
     },
     "metadata": {},
     "output_type": "display_data"
    }
   ],
   "source": [
    "plot2 = pd.DataFrame()\n",
    "plot2['T1'] = T1    #A los resultados se los incluye en un DataFrame para visualizarlos\n",
    "plot2['T2'] = T2\n",
    "plot2['n'] = n\n",
    "\n",
    "#Plot\n",
    "plot2.plot(x='n', y= ['T1','T2'])\n",
    "plt.grid()\n",
    "plot2.plot(x='n', y= ['T1','T2'], loglog=True)  #Ejes logaritmicos\n",
    "plt.grid()"
   ]
  },
  {
   "cell_type": "markdown",
   "metadata": {},
   "source": [
    "4."
   ]
  },
  {
   "cell_type": "markdown",
   "metadata": {},
   "source": [
    "Llamemos $T_1(n)$ a la funcion de complejidad del algoritmo sum1. Identificamos la complejidad a continuacion:"
   ]
  },
  {
   "cell_type": "code",
   "execution_count": null,
   "metadata": {},
   "outputs": [],
   "source": [
    "def sum1(n): #1 - 1 vez\n",
    "    total = 0   #1 - 1 vex\n",
    "    for i in range(1, n+1): #2 - n veces\n",
    "        total += i  #2 - n veces lectura de i y escritura en total\n",
    "    return total    #1 - 1 vez"
   ]
  },
  {
   "cell_type": "markdown",
   "metadata": {},
   "source": [
    "$$T_1(n) = 1+1+2n+2n+1$$\n",
    "\n",
    "Por lo tanto, ordenando obtenemos:\n",
    "\n",
    "$$T_1(n) = 4n + 3$$\n",
    "\n",
    "Se concluye que la complejidad de este algoritmo es $O(n)$ lineal."
   ]
  },
  {
   "cell_type": "markdown",
   "metadata": {},
   "source": [
    "Ahora llamemos $T_2(n)$ a la funcion de complejidad del algoritmo sum2 detallada a continuacion:"
   ]
  },
  {
   "cell_type": "code",
   "execution_count": null,
   "metadata": {},
   "outputs": [],
   "source": [
    "def sum2(n):    #1 - 1 vez\n",
    "    total = n*(n+1)//2  #3 - 1 vez dos lecturas y una escritura\n",
    "    return total    #1- 1 vez"
   ]
  },
  {
   "cell_type": "markdown",
   "metadata": {},
   "source": [
    "$$T_2(n) = 1+3+1 = 4$$ \n",
    "\n",
    "Por lo tanto la complejidad de $T_2(n)$ es $O(1)$ constante."
   ]
  },
  {
   "cell_type": "markdown",
   "metadata": {},
   "source": [
    "5."
   ]
  },
  {
   "cell_type": "markdown",
   "metadata": {},
   "source": [
    "Teoricamente, usando como referencia un microprocesador funcionando a 3GHz, calcular $n = 10^{100}$, se tardaría:\n",
    "\n",
    "$T_1(10^{100}) = 4\\times 10^{100}+3 $ procesos.\n",
    "\n",
    "Y cada proceso se lo realiza en $3.33\\times 10^{-10} [s]$\n",
    "\n",
    "Tenemos un tiempo de $t=1.33\\times 10^{91} [s]$\n",
    "\n",
    "$$t_1=4.22\\times 10^{83} [Años]$$\n",
    "\n",
    "Mientras que $T_2(10^{100}) = 4 $ procesos.\n",
    "\n",
    "$$t_2= 1.33 [ns]$$\n",
    "\n",
    "La diferencia entre las dos estimaciones es colosal, por lo que demuestra la importancia de utilizar el algoritmo más eficiente en nuestras aplicaciones para que los tiempos de ejecución sean los más óptimos posibles."
   ]
  },
  {
   "cell_type": "markdown",
   "metadata": {},
   "source": [
    "### 5. Prove that the running time of an algorithm is $\\Theta(g(n))$ if and only if its worst-case running time is $O(g(n))$ and its best-case running time is $\\Omega(g(n))$"
   ]
  },
  {
   "cell_type": "markdown",
   "metadata": {},
   "source": [
    "\n",
    "<img src=\"1.jpg\"  />"
   ]
  },
  {
   "cell_type": "markdown",
   "metadata": {},
   "source": [
    "<img src=\"2.jpg\"  />"
   ]
  },
  {
   "cell_type": "markdown",
   "metadata": {},
   "source": [
    "### 6. Sort the following functions in decreasing order of asymptotic complexity $O(f(n))$:"
   ]
  },
  {
   "cell_type": "markdown",
   "metadata": {},
   "source": [
    "* $f_1(n) = \\sqrt{n}$\n",
    "* $f_2(n) = n^3$\n",
    "* $f_3(n) = \\binom{n}{4}$\n",
    "* $f_4(n) = \\sum_{i=2}^{n}(i-1)$"
   ]
  },
  {
   "cell_type": "markdown",
   "metadata": {},
   "source": [
    "En primer lugar, se tiene que expresar a las 4 funciones de forma reducida:\n",
    "\n",
    "$f_1(n) = \\sqrt{n}$\n",
    "\n",
    "$f_2(n) = n^3$\n",
    "\n",
    "$f_3(n) = \\frac{n!}{4!(n-4)!}$\n",
    "\n",
    "$f_4(n) = \\sum_{i=1}^{n-1}(i-1) = \\sum_{i=1}^{n-1}(i)-(n-1) = \\frac{(n-1)(n)}{2} - (n-1) = \\frac{1}{2}n^2 - \\frac{3}{2}n + 1$\n",
    "\n",
    "Posteriormente, se grafica las 4 funciones.\n"
   ]
  },
  {
   "cell_type": "code",
   "execution_count": 262,
   "metadata": {},
   "outputs": [],
   "source": [
    "plot4 = pd.DataFrame()  #Defino los DataFrame de cada funcion\n",
    "plot4['n'] = np.arange(0,10,1)\n",
    "plot4['f1'] = np.sqrt(plot4['n'])   #f1\n",
    "plot4['f2'] = np.power(plot4['n'],3)    #f2\n",
    "\n",
    "#La funcion factorial hay que definirla manualmente porque no es valida para n<5\n",
    "res = np.zeros(len(plot4['n']))\n",
    "for i in range (5,len(plot4['n'])):     #No se admite factoriales negativos\n",
    "    res[i] = (math.factorial(plot4['n'][i]))/(math.factorial(4)*math.factorial(plot4['n'][i]-4))    \n",
    "plot4['f3'] = res   #f3\n",
    "plot4['f4'] = (np.power(plot4['n'],2)/2) - (3*plot4['n']/2) + 1     #f4"
   ]
  },
  {
   "cell_type": "code",
   "execution_count": 264,
   "metadata": {},
   "outputs": [
    {
     "data": {
      "image/png": "[encoded data removed]",
      "text/plain": [
       "<Figure size 640x480 with 1 Axes>"
      ]
     },
     "metadata": {},
     "output_type": "display_data"
    }
   ],
   "source": [
    "#Plot\n",
    "plot4.plot(x='n', y= ['f1','f2','f3','f4'])\n",
    "plt.grid()"
   ]
  },
  {
   "cell_type": "markdown",
   "metadata": {},
   "source": [
    "Por lo tanto, se puede ordenar a las funciones de forma decreciente de la siguiente manera:\n",
    "\n",
    "$f_2(n) = n^3$\n",
    "\n",
    "$f_3(n) = \\frac{n!}{4!(n-4)!}$\n",
    "\n",
    "$f_4(n) = \\frac{1}{2}n^2 - \\frac{3}{2}n + 1$\n",
    "\n",
    "$f_1(n) = \\sqrt{n}$\n",
    "\n",
    "De donde se puede concluir que:\n",
    "\n",
    "$O(n^3) > O\\left(\\frac{n!}{4!(n-4)!}\\right) > O(\\frac{1}{2}n^2 - \\frac{3}{2}n + 1) > O(\\sqrt{n})$\n",
    "\n",
    "Simplificando, se obtiene el siguiente resultado:\n",
    "\n",
    "$$ O(n^3) > O\\left(\\binom{n}{4}\\right) > O(n^2) > O(\\sqrt{n}) $$"
   ]
  },
  {
   "cell_type": "markdown",
   "metadata": {},
   "source": [
    "### 7. Implement the methods of the class Array that deal with deletion of elements. Consider the 3 cases we considered in class."
   ]
  },
  {
   "cell_type": "markdown",
   "metadata": {},
   "source": [
    "Definicion de la clase Array"
   ]
  },
  {
   "cell_type": "code",
   "execution_count": 81,
   "metadata": {},
   "outputs": [],
   "source": [
    "import ctypes\n",
    "\n",
    "class Array(object):\n",
    "    \"\"\"\n",
    "    Implementation of the array data structure\n",
    "    \"\"\"\n",
    "\n",
    "    def __init__(self, n, values=None):\n",
    "        \"\"\"\n",
    "        Initialize the class\n",
    "        \"\"\"\n",
    "        self.l = 0\n",
    "        self.n = n\n",
    "        self.array = self._create_array(self.n) \n",
    "        if values:\n",
    "            self.initialize_array(values)\n",
    "\n",
    "    def initialize_array(self, values):\n",
    "        \"\"\"\n",
    "        Initialize array\n",
    "        \"\"\"\n",
    "        if self.n != len(values):\n",
    "            raise ValueError(\"element count different than capacity\")\n",
    "        for item in values:\n",
    "            self.array[self.l] = item\n",
    "            self.l += 1       \n",
    "    \n",
    "    def _create_array(self, n):\n",
    "        \"\"\"\n",
    "        Creates a new array of capacity n\n",
    "        \"\"\"\n",
    "        return (n * ctypes.py_object)()\n",
    "\n",
    "    def __getitem__(self, item_index):\n",
    "        \"\"\"\n",
    "        Return element at item_index\n",
    "        \"\"\"\n",
    "        if (item_index < 0) or (item_index >= self.n):\n",
    "            raise IndexError('index out of range!')\n",
    "        try:\n",
    "            x = self.array[item_index]\n",
    "        except ValueError:\n",
    "            x = None\n",
    "        return x\n",
    "    \n",
    "    def __setitem__(self, item_index, item):\n",
    "        \"\"\"\n",
    "        Set element at item_index\n",
    "        \"\"\"\n",
    "        if (item_index < 0) or (item_index >= self.n):\n",
    "            raise IndexError('index out of range!')\n",
    "        self.array[item_index] = item\n",
    "    \n",
    "    def list_array(self):\n",
    "        \"\"\"\n",
    "        List elements of the array\n",
    "        using list comprehension\n",
    "        \"\"\"\n",
    "        return \", \".join(str(x) if x is not None else '_' for x in self)"
   ]
  },
  {
   "cell_type": "markdown",
   "metadata": {},
   "source": [
    "Search method"
   ]
  },
  {
   "cell_type": "code",
   "execution_count": 82,
   "metadata": {},
   "outputs": [],
   "source": [
    "class Array(Array):\n",
    "    def linear_search(self, element):\n",
    "        \"\"\"\n",
    "        Return the index of element\n",
    "        \"\"\"\n",
    "        for i in range(self.l):\n",
    "            if self[i] == element:\n",
    "                return i\n",
    "        return None"
   ]
  },
  {
   "cell_type": "markdown",
   "metadata": {},
   "source": [
    "Insert method"
   ]
  },
  {
   "cell_type": "code",
   "execution_count": 83,
   "metadata": {},
   "outputs": [],
   "source": [
    "class Array(Array):\n",
    "    def insert_to_tail(self, item):\n",
    "        \"\"\"\n",
    "        Add new item to the tail of the array\n",
    "        \"\"\"\n",
    "        if self.l == self.n:\n",
    "            raise ValueError(\"no more capacity\")\n",
    "        self.array[self.l] = item\n",
    "        self.l += 1\n",
    "    \n",
    "    def insert_to_head(self, item):\n",
    "        \"\"\"\n",
    "        Add new item to the beginning of the array\n",
    "        \"\"\"\n",
    "        if self.l == self.n:\n",
    "            raise ValueError(\"no more capacity\")\n",
    "        i = self.l\n",
    "        while (i > 0):\n",
    "            self.array[i] = self.array[i-1]\n",
    "            i -= 1\n",
    "        self.array[0] = item\n",
    "        self.l += 1\n",
    "\n",
    "    def insert(self, index, element):\n",
    "        \"\"\"\n",
    "        Implementation of insert\n",
    "        \"\"\"\n",
    "        if self.l == self.n:\n",
    "            raise ValueError(\"no more capacity\")\n",
    "        if (index < 0) or (index > self.l):\n",
    "            raise IndexError('index out of range!')\n",
    "        x = self.l\n",
    "        while x > index:\n",
    "            self.array[x] = self.array[x-1]\n",
    "            x -= 1\n",
    "        self.array[index] = element\n",
    "        self.l += 1"
   ]
  },
  {
   "cell_type": "markdown",
   "metadata": {},
   "source": [
    "Se implementa el método para eliminar elementos del array. \n",
    "Tenemos 3 casos:\n",
    "\n",
    "* Eliminar el último elemento.\n",
    "* Eliminar el primer elemento.\n",
    "* Eliminar en el índice dado."
   ]
  },
  {
   "cell_type": "markdown",
   "metadata": {},
   "source": [
    "Delete the last element"
   ]
  },
  {
   "cell_type": "code",
   "execution_count": 227,
   "metadata": {},
   "outputs": [],
   "source": [
    "class Array(Array):\n",
    "    def delete_tail(self):\n",
    "        \"\"\"\n",
    "        Borra el último item del array\n",
    "        \"\"\"\n",
    "        if self.l != 0: #Solo se borra si el arreglo no está vacio. Esto previene el caso especial self.l = 0\n",
    "            self.array[self.l-1] = None   #Setting el ultimo item (self.l) to None\n",
    "            self.l -= 1     #Se reduce el tamaño de self.l\n",
    "\n",
    "        #No se llama a la funcion raise porque el programa pararía si se borra un arreglo vacio.\n",
    "        #Si el arreglo es vacio, no se hace nada."
   ]
  },
  {
   "cell_type": "code",
   "execution_count": 265,
   "metadata": {},
   "outputs": [
    {
     "data": {
      "text/plain": [
       "'1, 2, 3, 4, 5'"
      ]
     },
     "execution_count": 265,
     "metadata": {},
     "output_type": "execute_result"
    }
   ],
   "source": [
    "A = Array(5,[1,2,3,4,5])\n",
    "A.list_array()"
   ]
  },
  {
   "cell_type": "code",
   "execution_count": 266,
   "metadata": {},
   "outputs": [
    {
     "data": {
      "text/plain": [
       "'1, 2, 3, 4, _'"
      ]
     },
     "execution_count": 266,
     "metadata": {},
     "output_type": "execute_result"
    }
   ],
   "source": [
    "A.delete_tail()\n",
    "A.list_array()"
   ]
  },
  {
   "cell_type": "markdown",
   "metadata": {},
   "source": [
    "Delete the first element"
   ]
  },
  {
   "cell_type": "code",
   "execution_count": 208,
   "metadata": {},
   "outputs": [],
   "source": [
    "class Array(Array):\n",
    "    def delete_head(self):\n",
    "        \"\"\"\n",
    "        Borra el primer item del arreglo\n",
    "        \"\"\"\n",
    "        if self.l != 0: #Previene el caso especial self.l = 0\n",
    "            i = 0\n",
    "            #Cuando i = self.l = self.n ya no existe el indice i+1. \n",
    "            while (i < self.l-1):   #Termina 2 espacios antes que el final por < y por self.l-1\n",
    "                self.array[i] = self.array[i+1]     #Desplazo valores del arreglo\n",
    "                i += 1\n",
    "            self.array[self.l-1] = None     #Set. ultimo valor = None\n",
    "            self.l -= 1   #Reduzco la longitud del arreglo\n",
    "        \n",
    "        #No se llama a la funcion raise porque el programa pararía si se borra un arreglo vacio.\n",
    "        #Si el arreglo es vacio, no se hace nada.\n",
    "            "
   ]
  },
  {
   "cell_type": "code",
   "execution_count": 267,
   "metadata": {},
   "outputs": [
    {
     "data": {
      "text/plain": [
       "'1, 2, 3, 4, 5'"
      ]
     },
     "execution_count": 267,
     "metadata": {},
     "output_type": "execute_result"
    }
   ],
   "source": [
    "A = Array(5,[1,2,3,4,5])\n",
    "A.list_array()"
   ]
  },
  {
   "cell_type": "code",
   "execution_count": 268,
   "metadata": {},
   "outputs": [
    {
     "data": {
      "text/plain": [
       "'2, 3, 4, 5, _'"
      ]
     },
     "execution_count": 268,
     "metadata": {},
     "output_type": "execute_result"
    }
   ],
   "source": [
    "A.delete_head()\n",
    "A.list_array()"
   ]
  },
  {
   "cell_type": "markdown",
   "metadata": {},
   "source": [
    "Delete using index"
   ]
  },
  {
   "cell_type": "code",
   "execution_count": 252,
   "metadata": {},
   "outputs": [],
   "source": [
    "class Array(Array):\n",
    "    def delete(self,index):\n",
    "        \"\"\"\n",
    "        Borro el item en el indice dado\n",
    "        \"\"\"\n",
    "        if self.l> 0 and index >= 0 and index < self.l:     #Si el index está dentro de 0 a self.l\n",
    "            #Se realiza el mismo proceso que delete head solo que desde i = index\n",
    "            i = index\n",
    "            while (i < self.l-1):   \n",
    "                self.array[i] = self.array[i+1]   \n",
    "                i += 1\n",
    "            self.array[self.l-1] = None\n",
    "            self.l -= 1  \n",
    "        #Si el indice es mayor a self.l y menor a self.n, la funcion no debe hacer nada porque esos valores ya son None.\n",
    "        elif self.l >= 0 and index >= self.l and index < self.n:    \n",
    "            pass\n",
    "        else:\n",
    "        #Si no estoy en ninguno de los otros casos, el indice está fuera del arreglo\n",
    "            raise IndexError(\"Index out of range\")"
   ]
  },
  {
   "cell_type": "code",
   "execution_count": 253,
   "metadata": {},
   "outputs": [
    {
     "data": {
      "text/plain": [
       "'1, 2, 3, 4, 5'"
      ]
     },
     "execution_count": 253,
     "metadata": {},
     "output_type": "execute_result"
    }
   ],
   "source": [
    "A = Array(5,[1,2,3,4,5])\n",
    "A.list_array()"
   ]
  },
  {
   "cell_type": "code",
   "execution_count": 254,
   "metadata": {},
   "outputs": [
    {
     "data": {
      "text/plain": [
       "'1, 2, 3, 5, _'"
      ]
     },
     "execution_count": 254,
     "metadata": {},
     "output_type": "execute_result"
    }
   ],
   "source": [
    "A.delete(3)\n",
    "A.list_array()"
   ]
  }
 ],
 "metadata": {
  "kernelspec": {
   "display_name": "Python 3.10.1 64-bit",
   "language": "python",
   "name": "python3"
  },
  "language_info": {
   "codemirror_mode": {
    "name": "ipython",
    "version": 3
   },
   "file_extension": ".py",
   "mimetype": "text/x-python",
   "name": "python",
   "nbconvert_exporter": "python",
   "pygments_lexer": "ipython3",
   "version": "3.10.1"
  },
  "orig_nbformat": 4,
  "vscode": {
   "interpreter": {
    "hash": "5726e28a2f93f624e13654f4187f1c65de1ba509691958bda5f0f5587a78bdd1"
   }
  }
 },
 "nbformat": 4,
 "nbformat_minor": 2
}
